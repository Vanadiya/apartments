{
 "cells": [
  {
   "cell_type": "markdown",
   "id": "f878580f",
   "metadata": {},
   "source": [
    "<p style=\"font-family: times, serif; font-size:25pt; font-style:italic\">\n",
    "Исследование объявлений о продаже квартир\n",
    "\n",
    "В вашем распоряжении данные сервиса Яндекс.Недвижимость — архив объявлений о продаже квартир в Санкт-Петербурге и соседних населённых пунктов за несколько лет. Нужно научиться определять рыночную стоимость объектов недвижимости. Ваша задача — установить параметры. Это позволит построить автоматизированную систему: она отследит аномалии и мошенническую деятельность. \n",
    "\n",
    "По каждой квартире на продажу доступны два вида данных. Первые вписаны пользователем, вторые — получены автоматически на основе картографических данных. Например, расстояние до центра, аэропорта, ближайшего парка и водоёма. "
   ]
  },
  {
   "cell_type": "markdown",
   "id": "14286d87",
   "metadata": {},
   "source": [
    "# Изучение общей информации о датафрейме"
   ]
  },
  {
   "cell_type": "code",
   "execution_count": 2,
   "id": "cd3011e9",
   "metadata": {},
   "outputs": [],
   "source": [
    "import pandas as pd "
   ]
  },
  {
   "cell_type": "code",
   "execution_count": 3,
   "id": "f139c497",
   "metadata": {},
   "outputs": [],
   "source": [
    "try:\n",
    "    data = pd.read_csv('/datasets/real_estate_data.csv', sep = '\\t', index_col=0)\n",
    "except:\n",
    "    data = pd.read_csv('G:\\DataS\\projects/real_estate_data.csv', sep = '\\t', index_col=0)\n"
   ]
  },
  {
   "cell_type": "code",
   "execution_count": 3,
   "id": "8d50fb0c",
   "metadata": {},
   "outputs": [
    {
     "data": {
      "text/html": [
       "<div>\n",
       "<style scoped>\n",
       "    .dataframe tbody tr th:only-of-type {\n",
       "        vertical-align: middle;\n",
       "    }\n",
       "\n",
       "    .dataframe tbody tr th {\n",
       "        vertical-align: top;\n",
       "    }\n",
       "\n",
       "    .dataframe thead th {\n",
       "        text-align: right;\n",
       "    }\n",
       "</style>\n",
       "<table border=\"1\" class=\"dataframe\">\n",
       "  <thead>\n",
       "    <tr style=\"text-align: right;\">\n",
       "      <th></th>\n",
       "      <th>last_price</th>\n",
       "      <th>total_area</th>\n",
       "      <th>first_day_exposition</th>\n",
       "      <th>rooms</th>\n",
       "      <th>ceiling_height</th>\n",
       "      <th>floors_total</th>\n",
       "      <th>living_area</th>\n",
       "      <th>floor</th>\n",
       "      <th>is_apartment</th>\n",
       "      <th>studio</th>\n",
       "      <th>...</th>\n",
       "      <th>kitchen_area</th>\n",
       "      <th>balcony</th>\n",
       "      <th>locality_name</th>\n",
       "      <th>airports_nearest</th>\n",
       "      <th>cityCenters_nearest</th>\n",
       "      <th>parks_around3000</th>\n",
       "      <th>parks_nearest</th>\n",
       "      <th>ponds_around3000</th>\n",
       "      <th>ponds_nearest</th>\n",
       "      <th>days_exposition</th>\n",
       "    </tr>\n",
       "    <tr>\n",
       "      <th>total_images</th>\n",
       "      <th></th>\n",
       "      <th></th>\n",
       "      <th></th>\n",
       "      <th></th>\n",
       "      <th></th>\n",
       "      <th></th>\n",
       "      <th></th>\n",
       "      <th></th>\n",
       "      <th></th>\n",
       "      <th></th>\n",
       "      <th></th>\n",
       "      <th></th>\n",
       "      <th></th>\n",
       "      <th></th>\n",
       "      <th></th>\n",
       "      <th></th>\n",
       "      <th></th>\n",
       "      <th></th>\n",
       "      <th></th>\n",
       "      <th></th>\n",
       "      <th></th>\n",
       "    </tr>\n",
       "  </thead>\n",
       "  <tbody>\n",
       "    <tr>\n",
       "      <th>20</th>\n",
       "      <td>13000000.0</td>\n",
       "      <td>108.00</td>\n",
       "      <td>2019-03-07T00:00:00</td>\n",
       "      <td>3</td>\n",
       "      <td>2.70</td>\n",
       "      <td>16.0</td>\n",
       "      <td>51.00</td>\n",
       "      <td>8</td>\n",
       "      <td>NaN</td>\n",
       "      <td>False</td>\n",
       "      <td>...</td>\n",
       "      <td>25.00</td>\n",
       "      <td>NaN</td>\n",
       "      <td>Санкт-Петербург</td>\n",
       "      <td>18863.0</td>\n",
       "      <td>16028.0</td>\n",
       "      <td>1.0</td>\n",
       "      <td>482.0</td>\n",
       "      <td>2.0</td>\n",
       "      <td>755.0</td>\n",
       "      <td>NaN</td>\n",
       "    </tr>\n",
       "    <tr>\n",
       "      <th>7</th>\n",
       "      <td>3350000.0</td>\n",
       "      <td>40.40</td>\n",
       "      <td>2018-12-04T00:00:00</td>\n",
       "      <td>1</td>\n",
       "      <td>NaN</td>\n",
       "      <td>11.0</td>\n",
       "      <td>18.60</td>\n",
       "      <td>1</td>\n",
       "      <td>NaN</td>\n",
       "      <td>False</td>\n",
       "      <td>...</td>\n",
       "      <td>11.00</td>\n",
       "      <td>2.0</td>\n",
       "      <td>посёлок Шушары</td>\n",
       "      <td>12817.0</td>\n",
       "      <td>18603.0</td>\n",
       "      <td>0.0</td>\n",
       "      <td>NaN</td>\n",
       "      <td>0.0</td>\n",
       "      <td>NaN</td>\n",
       "      <td>81.0</td>\n",
       "    </tr>\n",
       "    <tr>\n",
       "      <th>10</th>\n",
       "      <td>5196000.0</td>\n",
       "      <td>56.00</td>\n",
       "      <td>2015-08-20T00:00:00</td>\n",
       "      <td>2</td>\n",
       "      <td>NaN</td>\n",
       "      <td>5.0</td>\n",
       "      <td>34.30</td>\n",
       "      <td>4</td>\n",
       "      <td>NaN</td>\n",
       "      <td>False</td>\n",
       "      <td>...</td>\n",
       "      <td>8.30</td>\n",
       "      <td>0.0</td>\n",
       "      <td>Санкт-Петербург</td>\n",
       "      <td>21741.0</td>\n",
       "      <td>13933.0</td>\n",
       "      <td>1.0</td>\n",
       "      <td>90.0</td>\n",
       "      <td>2.0</td>\n",
       "      <td>574.0</td>\n",
       "      <td>558.0</td>\n",
       "    </tr>\n",
       "    <tr>\n",
       "      <th>0</th>\n",
       "      <td>64900000.0</td>\n",
       "      <td>159.00</td>\n",
       "      <td>2015-07-24T00:00:00</td>\n",
       "      <td>3</td>\n",
       "      <td>NaN</td>\n",
       "      <td>14.0</td>\n",
       "      <td>NaN</td>\n",
       "      <td>9</td>\n",
       "      <td>NaN</td>\n",
       "      <td>False</td>\n",
       "      <td>...</td>\n",
       "      <td>NaN</td>\n",
       "      <td>0.0</td>\n",
       "      <td>Санкт-Петербург</td>\n",
       "      <td>28098.0</td>\n",
       "      <td>6800.0</td>\n",
       "      <td>2.0</td>\n",
       "      <td>84.0</td>\n",
       "      <td>3.0</td>\n",
       "      <td>234.0</td>\n",
       "      <td>424.0</td>\n",
       "    </tr>\n",
       "    <tr>\n",
       "      <th>2</th>\n",
       "      <td>10000000.0</td>\n",
       "      <td>100.00</td>\n",
       "      <td>2018-06-19T00:00:00</td>\n",
       "      <td>2</td>\n",
       "      <td>3.03</td>\n",
       "      <td>14.0</td>\n",
       "      <td>32.00</td>\n",
       "      <td>13</td>\n",
       "      <td>NaN</td>\n",
       "      <td>False</td>\n",
       "      <td>...</td>\n",
       "      <td>41.00</td>\n",
       "      <td>NaN</td>\n",
       "      <td>Санкт-Петербург</td>\n",
       "      <td>31856.0</td>\n",
       "      <td>8098.0</td>\n",
       "      <td>2.0</td>\n",
       "      <td>112.0</td>\n",
       "      <td>1.0</td>\n",
       "      <td>48.0</td>\n",
       "      <td>121.0</td>\n",
       "    </tr>\n",
       "    <tr>\n",
       "      <th>10</th>\n",
       "      <td>2890000.0</td>\n",
       "      <td>30.40</td>\n",
       "      <td>2018-09-10T00:00:00</td>\n",
       "      <td>1</td>\n",
       "      <td>NaN</td>\n",
       "      <td>12.0</td>\n",
       "      <td>14.40</td>\n",
       "      <td>5</td>\n",
       "      <td>NaN</td>\n",
       "      <td>False</td>\n",
       "      <td>...</td>\n",
       "      <td>9.10</td>\n",
       "      <td>NaN</td>\n",
       "      <td>городской посёлок Янино-1</td>\n",
       "      <td>NaN</td>\n",
       "      <td>NaN</td>\n",
       "      <td>NaN</td>\n",
       "      <td>NaN</td>\n",
       "      <td>NaN</td>\n",
       "      <td>NaN</td>\n",
       "      <td>55.0</td>\n",
       "    </tr>\n",
       "    <tr>\n",
       "      <th>6</th>\n",
       "      <td>3700000.0</td>\n",
       "      <td>37.30</td>\n",
       "      <td>2017-11-02T00:00:00</td>\n",
       "      <td>1</td>\n",
       "      <td>NaN</td>\n",
       "      <td>26.0</td>\n",
       "      <td>10.60</td>\n",
       "      <td>6</td>\n",
       "      <td>NaN</td>\n",
       "      <td>False</td>\n",
       "      <td>...</td>\n",
       "      <td>14.40</td>\n",
       "      <td>1.0</td>\n",
       "      <td>посёлок Парголово</td>\n",
       "      <td>52996.0</td>\n",
       "      <td>19143.0</td>\n",
       "      <td>0.0</td>\n",
       "      <td>NaN</td>\n",
       "      <td>0.0</td>\n",
       "      <td>NaN</td>\n",
       "      <td>155.0</td>\n",
       "    </tr>\n",
       "    <tr>\n",
       "      <th>5</th>\n",
       "      <td>7915000.0</td>\n",
       "      <td>71.60</td>\n",
       "      <td>2019-04-18T00:00:00</td>\n",
       "      <td>2</td>\n",
       "      <td>NaN</td>\n",
       "      <td>24.0</td>\n",
       "      <td>NaN</td>\n",
       "      <td>22</td>\n",
       "      <td>NaN</td>\n",
       "      <td>False</td>\n",
       "      <td>...</td>\n",
       "      <td>18.90</td>\n",
       "      <td>2.0</td>\n",
       "      <td>Санкт-Петербург</td>\n",
       "      <td>23982.0</td>\n",
       "      <td>11634.0</td>\n",
       "      <td>0.0</td>\n",
       "      <td>NaN</td>\n",
       "      <td>0.0</td>\n",
       "      <td>NaN</td>\n",
       "      <td>NaN</td>\n",
       "    </tr>\n",
       "    <tr>\n",
       "      <th>20</th>\n",
       "      <td>2900000.0</td>\n",
       "      <td>33.16</td>\n",
       "      <td>2018-05-23T00:00:00</td>\n",
       "      <td>1</td>\n",
       "      <td>NaN</td>\n",
       "      <td>27.0</td>\n",
       "      <td>15.43</td>\n",
       "      <td>26</td>\n",
       "      <td>NaN</td>\n",
       "      <td>False</td>\n",
       "      <td>...</td>\n",
       "      <td>8.81</td>\n",
       "      <td>NaN</td>\n",
       "      <td>посёлок Мурино</td>\n",
       "      <td>NaN</td>\n",
       "      <td>NaN</td>\n",
       "      <td>NaN</td>\n",
       "      <td>NaN</td>\n",
       "      <td>NaN</td>\n",
       "      <td>NaN</td>\n",
       "      <td>189.0</td>\n",
       "    </tr>\n",
       "    <tr>\n",
       "      <th>18</th>\n",
       "      <td>5400000.0</td>\n",
       "      <td>61.00</td>\n",
       "      <td>2017-02-26T00:00:00</td>\n",
       "      <td>3</td>\n",
       "      <td>2.50</td>\n",
       "      <td>9.0</td>\n",
       "      <td>43.60</td>\n",
       "      <td>7</td>\n",
       "      <td>NaN</td>\n",
       "      <td>False</td>\n",
       "      <td>...</td>\n",
       "      <td>6.50</td>\n",
       "      <td>2.0</td>\n",
       "      <td>Санкт-Петербург</td>\n",
       "      <td>50898.0</td>\n",
       "      <td>15008.0</td>\n",
       "      <td>0.0</td>\n",
       "      <td>NaN</td>\n",
       "      <td>0.0</td>\n",
       "      <td>NaN</td>\n",
       "      <td>289.0</td>\n",
       "    </tr>\n",
       "    <tr>\n",
       "      <th>5</th>\n",
       "      <td>5050000.0</td>\n",
       "      <td>39.60</td>\n",
       "      <td>2017-11-16T00:00:00</td>\n",
       "      <td>1</td>\n",
       "      <td>2.67</td>\n",
       "      <td>12.0</td>\n",
       "      <td>20.30</td>\n",
       "      <td>3</td>\n",
       "      <td>NaN</td>\n",
       "      <td>False</td>\n",
       "      <td>...</td>\n",
       "      <td>8.50</td>\n",
       "      <td>NaN</td>\n",
       "      <td>Санкт-Петербург</td>\n",
       "      <td>38357.0</td>\n",
       "      <td>13878.0</td>\n",
       "      <td>1.0</td>\n",
       "      <td>310.0</td>\n",
       "      <td>2.0</td>\n",
       "      <td>553.0</td>\n",
       "      <td>137.0</td>\n",
       "    </tr>\n",
       "    <tr>\n",
       "      <th>9</th>\n",
       "      <td>3300000.0</td>\n",
       "      <td>44.00</td>\n",
       "      <td>2018-08-27T00:00:00</td>\n",
       "      <td>2</td>\n",
       "      <td>NaN</td>\n",
       "      <td>5.0</td>\n",
       "      <td>31.00</td>\n",
       "      <td>4</td>\n",
       "      <td>False</td>\n",
       "      <td>False</td>\n",
       "      <td>...</td>\n",
       "      <td>6.00</td>\n",
       "      <td>1.0</td>\n",
       "      <td>Ломоносов</td>\n",
       "      <td>48252.0</td>\n",
       "      <td>51677.0</td>\n",
       "      <td>0.0</td>\n",
       "      <td>NaN</td>\n",
       "      <td>0.0</td>\n",
       "      <td>NaN</td>\n",
       "      <td>7.0</td>\n",
       "    </tr>\n",
       "    <tr>\n",
       "      <th>10</th>\n",
       "      <td>3890000.0</td>\n",
       "      <td>54.00</td>\n",
       "      <td>2016-06-30T00:00:00</td>\n",
       "      <td>2</td>\n",
       "      <td>NaN</td>\n",
       "      <td>5.0</td>\n",
       "      <td>30.00</td>\n",
       "      <td>5</td>\n",
       "      <td>NaN</td>\n",
       "      <td>False</td>\n",
       "      <td>...</td>\n",
       "      <td>9.00</td>\n",
       "      <td>0.0</td>\n",
       "      <td>Сертолово</td>\n",
       "      <td>NaN</td>\n",
       "      <td>NaN</td>\n",
       "      <td>NaN</td>\n",
       "      <td>NaN</td>\n",
       "      <td>NaN</td>\n",
       "      <td>NaN</td>\n",
       "      <td>90.0</td>\n",
       "    </tr>\n",
       "    <tr>\n",
       "      <th>20</th>\n",
       "      <td>3550000.0</td>\n",
       "      <td>42.80</td>\n",
       "      <td>2017-07-01T00:00:00</td>\n",
       "      <td>2</td>\n",
       "      <td>2.56</td>\n",
       "      <td>5.0</td>\n",
       "      <td>27.00</td>\n",
       "      <td>5</td>\n",
       "      <td>NaN</td>\n",
       "      <td>False</td>\n",
       "      <td>...</td>\n",
       "      <td>5.20</td>\n",
       "      <td>1.0</td>\n",
       "      <td>Петергоф</td>\n",
       "      <td>37868.0</td>\n",
       "      <td>33058.0</td>\n",
       "      <td>1.0</td>\n",
       "      <td>294.0</td>\n",
       "      <td>3.0</td>\n",
       "      <td>298.0</td>\n",
       "      <td>366.0</td>\n",
       "    </tr>\n",
       "    <tr>\n",
       "      <th>1</th>\n",
       "      <td>4400000.0</td>\n",
       "      <td>36.00</td>\n",
       "      <td>2016-06-23T00:00:00</td>\n",
       "      <td>1</td>\n",
       "      <td>NaN</td>\n",
       "      <td>6.0</td>\n",
       "      <td>17.00</td>\n",
       "      <td>1</td>\n",
       "      <td>NaN</td>\n",
       "      <td>False</td>\n",
       "      <td>...</td>\n",
       "      <td>8.00</td>\n",
       "      <td>0.0</td>\n",
       "      <td>Пушкин</td>\n",
       "      <td>20782.0</td>\n",
       "      <td>30759.0</td>\n",
       "      <td>0.0</td>\n",
       "      <td>NaN</td>\n",
       "      <td>1.0</td>\n",
       "      <td>96.0</td>\n",
       "      <td>203.0</td>\n",
       "    </tr>\n",
       "    <tr>\n",
       "      <th>16</th>\n",
       "      <td>4650000.0</td>\n",
       "      <td>39.00</td>\n",
       "      <td>2017-11-18T00:00:00</td>\n",
       "      <td>1</td>\n",
       "      <td>NaN</td>\n",
       "      <td>14.0</td>\n",
       "      <td>20.50</td>\n",
       "      <td>5</td>\n",
       "      <td>NaN</td>\n",
       "      <td>False</td>\n",
       "      <td>...</td>\n",
       "      <td>7.60</td>\n",
       "      <td>1.0</td>\n",
       "      <td>Санкт-Петербург</td>\n",
       "      <td>12900.0</td>\n",
       "      <td>14259.0</td>\n",
       "      <td>1.0</td>\n",
       "      <td>590.0</td>\n",
       "      <td>1.0</td>\n",
       "      <td>296.0</td>\n",
       "      <td>19.0</td>\n",
       "    </tr>\n",
       "    <tr>\n",
       "      <th>11</th>\n",
       "      <td>6700000.0</td>\n",
       "      <td>82.00</td>\n",
       "      <td>2017-11-23T00:00:00</td>\n",
       "      <td>3</td>\n",
       "      <td>3.05</td>\n",
       "      <td>5.0</td>\n",
       "      <td>55.60</td>\n",
       "      <td>1</td>\n",
       "      <td>NaN</td>\n",
       "      <td>False</td>\n",
       "      <td>...</td>\n",
       "      <td>9.00</td>\n",
       "      <td>NaN</td>\n",
       "      <td>Санкт-Петербург</td>\n",
       "      <td>22108.0</td>\n",
       "      <td>10698.0</td>\n",
       "      <td>3.0</td>\n",
       "      <td>420.0</td>\n",
       "      <td>0.0</td>\n",
       "      <td>NaN</td>\n",
       "      <td>397.0</td>\n",
       "    </tr>\n",
       "    <tr>\n",
       "      <th>6</th>\n",
       "      <td>4180000.0</td>\n",
       "      <td>36.00</td>\n",
       "      <td>2016-09-09T00:00:00</td>\n",
       "      <td>1</td>\n",
       "      <td>NaN</td>\n",
       "      <td>17.0</td>\n",
       "      <td>16.50</td>\n",
       "      <td>7</td>\n",
       "      <td>NaN</td>\n",
       "      <td>False</td>\n",
       "      <td>...</td>\n",
       "      <td>11.00</td>\n",
       "      <td>1.0</td>\n",
       "      <td>Санкт-Петербург</td>\n",
       "      <td>33564.0</td>\n",
       "      <td>14616.0</td>\n",
       "      <td>0.0</td>\n",
       "      <td>NaN</td>\n",
       "      <td>1.0</td>\n",
       "      <td>859.0</td>\n",
       "      <td>571.0</td>\n",
       "    </tr>\n",
       "    <tr>\n",
       "      <th>8</th>\n",
       "      <td>3250000.0</td>\n",
       "      <td>31.00</td>\n",
       "      <td>2017-01-27T00:00:00</td>\n",
       "      <td>1</td>\n",
       "      <td>2.50</td>\n",
       "      <td>5.0</td>\n",
       "      <td>19.40</td>\n",
       "      <td>2</td>\n",
       "      <td>NaN</td>\n",
       "      <td>False</td>\n",
       "      <td>...</td>\n",
       "      <td>5.60</td>\n",
       "      <td>1.0</td>\n",
       "      <td>Санкт-Петербург</td>\n",
       "      <td>44060.0</td>\n",
       "      <td>10842.0</td>\n",
       "      <td>1.0</td>\n",
       "      <td>759.0</td>\n",
       "      <td>0.0</td>\n",
       "      <td>NaN</td>\n",
       "      <td>168.0</td>\n",
       "    </tr>\n",
       "    <tr>\n",
       "      <th>16</th>\n",
       "      <td>14200000.0</td>\n",
       "      <td>121.00</td>\n",
       "      <td>2019-01-09T00:00:00</td>\n",
       "      <td>3</td>\n",
       "      <td>2.75</td>\n",
       "      <td>16.0</td>\n",
       "      <td>76.00</td>\n",
       "      <td>8</td>\n",
       "      <td>NaN</td>\n",
       "      <td>False</td>\n",
       "      <td>...</td>\n",
       "      <td>12.00</td>\n",
       "      <td>NaN</td>\n",
       "      <td>Санкт-Петербург</td>\n",
       "      <td>38900.0</td>\n",
       "      <td>12843.0</td>\n",
       "      <td>0.0</td>\n",
       "      <td>NaN</td>\n",
       "      <td>0.0</td>\n",
       "      <td>NaN</td>\n",
       "      <td>97.0</td>\n",
       "    </tr>\n",
       "  </tbody>\n",
       "</table>\n",
       "<p>20 rows × 21 columns</p>\n",
       "</div>"
      ],
      "text/plain": [
       "              last_price  total_area first_day_exposition  rooms  \\\n",
       "total_images                                                       \n",
       "20            13000000.0      108.00  2019-03-07T00:00:00      3   \n",
       "7              3350000.0       40.40  2018-12-04T00:00:00      1   \n",
       "10             5196000.0       56.00  2015-08-20T00:00:00      2   \n",
       "0             64900000.0      159.00  2015-07-24T00:00:00      3   \n",
       "2             10000000.0      100.00  2018-06-19T00:00:00      2   \n",
       "10             2890000.0       30.40  2018-09-10T00:00:00      1   \n",
       "6              3700000.0       37.30  2017-11-02T00:00:00      1   \n",
       "5              7915000.0       71.60  2019-04-18T00:00:00      2   \n",
       "20             2900000.0       33.16  2018-05-23T00:00:00      1   \n",
       "18             5400000.0       61.00  2017-02-26T00:00:00      3   \n",
       "5              5050000.0       39.60  2017-11-16T00:00:00      1   \n",
       "9              3300000.0       44.00  2018-08-27T00:00:00      2   \n",
       "10             3890000.0       54.00  2016-06-30T00:00:00      2   \n",
       "20             3550000.0       42.80  2017-07-01T00:00:00      2   \n",
       "1              4400000.0       36.00  2016-06-23T00:00:00      1   \n",
       "16             4650000.0       39.00  2017-11-18T00:00:00      1   \n",
       "11             6700000.0       82.00  2017-11-23T00:00:00      3   \n",
       "6              4180000.0       36.00  2016-09-09T00:00:00      1   \n",
       "8              3250000.0       31.00  2017-01-27T00:00:00      1   \n",
       "16            14200000.0      121.00  2019-01-09T00:00:00      3   \n",
       "\n",
       "              ceiling_height  floors_total  living_area  floor is_apartment  \\\n",
       "total_images                                                                  \n",
       "20                      2.70          16.0        51.00      8          NaN   \n",
       "7                        NaN          11.0        18.60      1          NaN   \n",
       "10                       NaN           5.0        34.30      4          NaN   \n",
       "0                        NaN          14.0          NaN      9          NaN   \n",
       "2                       3.03          14.0        32.00     13          NaN   \n",
       "10                       NaN          12.0        14.40      5          NaN   \n",
       "6                        NaN          26.0        10.60      6          NaN   \n",
       "5                        NaN          24.0          NaN     22          NaN   \n",
       "20                       NaN          27.0        15.43     26          NaN   \n",
       "18                      2.50           9.0        43.60      7          NaN   \n",
       "5                       2.67          12.0        20.30      3          NaN   \n",
       "9                        NaN           5.0        31.00      4        False   \n",
       "10                       NaN           5.0        30.00      5          NaN   \n",
       "20                      2.56           5.0        27.00      5          NaN   \n",
       "1                        NaN           6.0        17.00      1          NaN   \n",
       "16                       NaN          14.0        20.50      5          NaN   \n",
       "11                      3.05           5.0        55.60      1          NaN   \n",
       "6                        NaN          17.0        16.50      7          NaN   \n",
       "8                       2.50           5.0        19.40      2          NaN   \n",
       "16                      2.75          16.0        76.00      8          NaN   \n",
       "\n",
       "              studio  ...  kitchen_area  balcony              locality_name  \\\n",
       "total_images          ...                                                     \n",
       "20             False  ...         25.00      NaN            Санкт-Петербург   \n",
       "7              False  ...         11.00      2.0             посёлок Шушары   \n",
       "10             False  ...          8.30      0.0            Санкт-Петербург   \n",
       "0              False  ...           NaN      0.0            Санкт-Петербург   \n",
       "2              False  ...         41.00      NaN            Санкт-Петербург   \n",
       "10             False  ...          9.10      NaN  городской посёлок Янино-1   \n",
       "6              False  ...         14.40      1.0          посёлок Парголово   \n",
       "5              False  ...         18.90      2.0            Санкт-Петербург   \n",
       "20             False  ...          8.81      NaN             посёлок Мурино   \n",
       "18             False  ...          6.50      2.0            Санкт-Петербург   \n",
       "5              False  ...          8.50      NaN            Санкт-Петербург   \n",
       "9              False  ...          6.00      1.0                  Ломоносов   \n",
       "10             False  ...          9.00      0.0                  Сертолово   \n",
       "20             False  ...          5.20      1.0                   Петергоф   \n",
       "1              False  ...          8.00      0.0                     Пушкин   \n",
       "16             False  ...          7.60      1.0            Санкт-Петербург   \n",
       "11             False  ...          9.00      NaN            Санкт-Петербург   \n",
       "6              False  ...         11.00      1.0            Санкт-Петербург   \n",
       "8              False  ...          5.60      1.0            Санкт-Петербург   \n",
       "16             False  ...         12.00      NaN            Санкт-Петербург   \n",
       "\n",
       "             airports_nearest  cityCenters_nearest  parks_around3000  \\\n",
       "total_images                                                           \n",
       "20                    18863.0              16028.0               1.0   \n",
       "7                     12817.0              18603.0               0.0   \n",
       "10                    21741.0              13933.0               1.0   \n",
       "0                     28098.0               6800.0               2.0   \n",
       "2                     31856.0               8098.0               2.0   \n",
       "10                        NaN                  NaN               NaN   \n",
       "6                     52996.0              19143.0               0.0   \n",
       "5                     23982.0              11634.0               0.0   \n",
       "20                        NaN                  NaN               NaN   \n",
       "18                    50898.0              15008.0               0.0   \n",
       "5                     38357.0              13878.0               1.0   \n",
       "9                     48252.0              51677.0               0.0   \n",
       "10                        NaN                  NaN               NaN   \n",
       "20                    37868.0              33058.0               1.0   \n",
       "1                     20782.0              30759.0               0.0   \n",
       "16                    12900.0              14259.0               1.0   \n",
       "11                    22108.0              10698.0               3.0   \n",
       "6                     33564.0              14616.0               0.0   \n",
       "8                     44060.0              10842.0               1.0   \n",
       "16                    38900.0              12843.0               0.0   \n",
       "\n",
       "              parks_nearest  ponds_around3000  ponds_nearest  days_exposition  \n",
       "total_images                                                                   \n",
       "20                    482.0               2.0          755.0              NaN  \n",
       "7                       NaN               0.0            NaN             81.0  \n",
       "10                     90.0               2.0          574.0            558.0  \n",
       "0                      84.0               3.0          234.0            424.0  \n",
       "2                     112.0               1.0           48.0            121.0  \n",
       "10                      NaN               NaN            NaN             55.0  \n",
       "6                       NaN               0.0            NaN            155.0  \n",
       "5                       NaN               0.0            NaN              NaN  \n",
       "20                      NaN               NaN            NaN            189.0  \n",
       "18                      NaN               0.0            NaN            289.0  \n",
       "5                     310.0               2.0          553.0            137.0  \n",
       "9                       NaN               0.0            NaN              7.0  \n",
       "10                      NaN               NaN            NaN             90.0  \n",
       "20                    294.0               3.0          298.0            366.0  \n",
       "1                       NaN               1.0           96.0            203.0  \n",
       "16                    590.0               1.0          296.0             19.0  \n",
       "11                    420.0               0.0            NaN            397.0  \n",
       "6                       NaN               1.0          859.0            571.0  \n",
       "8                     759.0               0.0            NaN            168.0  \n",
       "16                      NaN               0.0            NaN             97.0  \n",
       "\n",
       "[20 rows x 21 columns]"
      ]
     },
     "execution_count": 3,
     "metadata": {},
     "output_type": "execute_result"
    }
   ],
   "source": [
    "data.head(20)"
   ]
  },
  {
   "cell_type": "code",
   "execution_count": 4,
   "id": "d11f1cc1",
   "metadata": {},
   "outputs": [
    {
     "name": "stdout",
     "output_type": "stream",
     "text": [
      "<class 'pandas.core.frame.DataFrame'>\n",
      "Int64Index: 23699 entries, 20 to 4\n",
      "Data columns (total 21 columns):\n",
      " #   Column                Non-Null Count  Dtype  \n",
      "---  ------                --------------  -----  \n",
      " 0   last_price            23699 non-null  float64\n",
      " 1   total_area            23699 non-null  float64\n",
      " 2   first_day_exposition  23699 non-null  object \n",
      " 3   rooms                 23699 non-null  int64  \n",
      " 4   ceiling_height        14504 non-null  float64\n",
      " 5   floors_total          23613 non-null  float64\n",
      " 6   living_area           21796 non-null  float64\n",
      " 7   floor                 23699 non-null  int64  \n",
      " 8   is_apartment          2775 non-null   object \n",
      " 9   studio                23699 non-null  bool   \n",
      " 10  open_plan             23699 non-null  bool   \n",
      " 11  kitchen_area          21421 non-null  float64\n",
      " 12  balcony               12180 non-null  float64\n",
      " 13  locality_name         23650 non-null  object \n",
      " 14  airports_nearest      18157 non-null  float64\n",
      " 15  cityCenters_nearest   18180 non-null  float64\n",
      " 16  parks_around3000      18181 non-null  float64\n",
      " 17  parks_nearest         8079 non-null   float64\n",
      " 18  ponds_around3000      18181 non-null  float64\n",
      " 19  ponds_nearest         9110 non-null   float64\n",
      " 20  days_exposition       20518 non-null  float64\n",
      "dtypes: bool(2), float64(14), int64(2), object(3)\n",
      "memory usage: 3.7+ MB\n"
     ]
    }
   ],
   "source": [
    "data.info() #общая информация"
   ]
  },
  {
   "cell_type": "code",
   "execution_count": 5,
   "id": "83968441",
   "metadata": {
    "scrolled": true
   },
   "outputs": [
    {
     "data": {
      "text/plain": [
       "last_price                  0\n",
       "total_area                  0\n",
       "first_day_exposition        0\n",
       "rooms                       0\n",
       "ceiling_height           9195\n",
       "floors_total               86\n",
       "living_area              1903\n",
       "floor                       0\n",
       "is_apartment            20924\n",
       "studio                      0\n",
       "open_plan                   0\n",
       "kitchen_area             2278\n",
       "balcony                 11519\n",
       "locality_name              49\n",
       "airports_nearest         5542\n",
       "cityCenters_nearest      5519\n",
       "parks_around3000         5518\n",
       "parks_nearest           15620\n",
       "ponds_around3000         5518\n",
       "ponds_nearest           14589\n",
       "days_exposition          3181\n",
       "dtype: int64"
      ]
     },
     "execution_count": 5,
     "metadata": {},
     "output_type": "execute_result"
    }
   ],
   "source": [
    "data.isna().sum() #выявление количества пропусков"
   ]
  },
  {
   "cell_type": "markdown",
   "id": "6d47edde",
   "metadata": {},
   "source": [
    "**Из полученных данных видно, что в файле много пропущенных значений:**\n",
    "\n",
    "► ceiling_height 38,8% пропусков\n",
    "\n",
    "► floors_total 0.4%\n",
    "\n",
    "► living_area 8%\n",
    "\n",
    "► is_apartment 88%\n",
    " \n",
    "► kitchen_area 9.6%\n",
    " \n",
    "► balcony 48.6%\n",
    "\n",
    "► locality_name 0.2%\n",
    " \n",
    "► airports_nearest 23.4%\n",
    "\n",
    "► cityCenters_nearest 23.3% \n",
    "\n",
    "► parks_nearest 65.9%\n",
    "\n",
    "► ponds_around3000 23.3%\n",
    "\n",
    "► days_exposition 13.4%\n",
    "\n",
    "► ponds_nearest 61.6%"
   ]
  },
  {
   "cell_type": "code",
   "execution_count": 6,
   "id": "982212db",
   "metadata": {},
   "outputs": [
    {
     "data": {
      "text/plain": [
       "<AxesSubplot:ylabel='Frequency'>"
      ]
     },
     "execution_count": 6,
     "metadata": {},
     "output_type": "execute_result"
    },
    {
     "data": {
      "image/png": "[encoded data removed]",
      "text/plain": [
       "<Figure size 720x360 with 1 Axes>"
      ]
     },
     "metadata": {
      "needs_background": "light"
     },
     "output_type": "display_data"
    }
   ],
   "source": [
    "data.plot(kind='hist', figsize=(10, 5)) #общая гистограмма"
   ]
  },
  {
   "cell_type": "code",
   "execution_count": 93,
   "id": "cf34fe3d",
   "metadata": {},
   "outputs": [
    {
     "data": {
      "image/png": "[encoded data removed]",
      "text/plain": [
       "<Figure size 1080x1440 with 25 Axes>"
      ]
     },
     "metadata": {
      "needs_background": "light"
     },
     "output_type": "display_data"
    }
   ],
   "source": [
    "data.hist(figsize=(15, 20)); #гистограммы по каждому столбцу"
   ]
  },
  {
   "cell_type": "markdown",
   "id": "3376e97b",
   "metadata": {},
   "source": [
    "Из полученнх гистограмм можно получить общее представление о данных датафрейма. Например, \n",
    "    \n",
    "\n",
    "► примерное количество комнат в объектах;\n",
    "\n",
    "► этажность домов;\n",
    "\n",
    "► пределы жилой площади;\n",
    "\n",
    "► количество балконов;\n",
    "\n",
    "► расстояние до ближайших парков;\n",
    "\n",
    "► расстояние до ближайших прудов;\n",
    "\n",
    "► длительность высталенных объявлений."
   ]
  },
  {
   "cell_type": "markdown",
   "id": "383f9ebe",
   "metadata": {},
   "source": [
    "# Предобработка пропущенных значений."
   ]
  },
  {
   "cell_type": "markdown",
   "id": "395c23e2",
   "metadata": {},
   "source": [
    "## Значения в balcony."
   ]
  },
  {
   "cell_type": "markdown",
   "id": "027116e0",
   "metadata": {},
   "source": [
    "Скорее всего если количество балконов не указано, то их нет, значит можно заменить 0 (так было сказано в задании)."
   ]
  },
  {
   "cell_type": "code",
   "execution_count": 8,
   "id": "9b485bd9",
   "metadata": {},
   "outputs": [
    {
     "data": {
      "text/plain": [
       "last_price                  0\n",
       "total_area                  0\n",
       "first_day_exposition        0\n",
       "rooms                       0\n",
       "ceiling_height           9195\n",
       "floors_total               86\n",
       "living_area              1903\n",
       "floor                       0\n",
       "is_apartment            20924\n",
       "studio                      0\n",
       "open_plan                   0\n",
       "kitchen_area             2278\n",
       "balcony                     0\n",
       "locality_name              49\n",
       "airports_nearest         5542\n",
       "cityCenters_nearest      5519\n",
       "parks_around3000         5518\n",
       "parks_nearest           15620\n",
       "ponds_around3000         5518\n",
       "ponds_nearest           14589\n",
       "days_exposition          3181\n",
       "dtype: int64"
      ]
     },
     "execution_count": 8,
     "metadata": {},
     "output_type": "execute_result"
    }
   ],
   "source": [
    "data['balcony'] = data['balcony'].fillna(0) #заполнение пропусков 0\n",
    "\n",
    "data.isna().sum() #проверка заполнения пропусков"
   ]
  },
  {
   "cell_type": "markdown",
   "id": "00b722a5",
   "metadata": {},
   "source": [
    "## Пропуски в days_exposition "
   ]
  },
  {
   "cell_type": "markdown",
   "id": "34baa13e",
   "metadata": {},
   "source": [
    "Замена медианой пропуски в длительности размещения объявлений."
   ]
  },
  {
   "cell_type": "code",
   "execution_count": 9,
   "id": "20f65693",
   "metadata": {
    "scrolled": true
   },
   "outputs": [
    {
     "data": {
      "text/plain": [
       "last_price                  0\n",
       "total_area                  0\n",
       "first_day_exposition        0\n",
       "rooms                       0\n",
       "ceiling_height           9195\n",
       "floors_total               86\n",
       "living_area              1903\n",
       "floor                       0\n",
       "is_apartment            20924\n",
       "studio                      0\n",
       "open_plan                   0\n",
       "kitchen_area             2278\n",
       "balcony                     0\n",
       "locality_name              49\n",
       "airports_nearest         5542\n",
       "cityCenters_nearest      5519\n",
       "parks_around3000         5518\n",
       "parks_nearest           15620\n",
       "ponds_around3000         5518\n",
       "ponds_nearest           14589\n",
       "days_exposition             0\n",
       "dtype: int64"
      ]
     },
     "execution_count": 9,
     "metadata": {},
     "output_type": "execute_result"
    }
   ],
   "source": [
    "data['days_exposition'] = data['days_exposition'].fillna(data['days_exposition'].median()) \n",
    "\n",
    "data.isna().sum() #проверка замены столбца"
   ]
  },
  {
   "cell_type": "code",
   "execution_count": 10,
   "id": "088ec956",
   "metadata": {},
   "outputs": [],
   "source": [
    "data.loc[data[\"floors_total\"]== 0, \"floors_total\"] = data[\"floor\"] "
   ]
  },
  {
   "cell_type": "markdown",
   "id": "f0aba30a",
   "metadata": {},
   "source": [
    "В тех квартирах, где не указана общая этажность дома я решила пропуски заполнить этажами квартир. Ведь квартира на 5 этаже не может находиться в трехэтажном доме"
   ]
  },
  {
   "cell_type": "markdown",
   "id": "3da24452",
   "metadata": {},
   "source": [
    "## Значения living_area "
   ]
  },
  {
   "cell_type": "markdown",
   "id": "b4df69f8",
   "metadata": {},
   "source": [
    "Выявление неадекватных значений жилой площади объектов"
   ]
  },
  {
   "cell_type": "code",
   "execution_count": 4,
   "id": "0badb9f5",
   "metadata": {
    "scrolled": true
   },
   "outputs": [
    {
     "data": {
      "text/plain": [
       "[2.0,\n",
       " 3.0,\n",
       " 5.0,\n",
       " 5.4,\n",
       " 6.0,\n",
       " 6.5,\n",
       " 8.0,\n",
       " 8.3,\n",
       " 8.4,\n",
       " 8.5,\n",
       " 8.9,\n",
       " 9.0,\n",
       " 9.1,\n",
       " 9.8,\n",
       " 10.0,\n",
       " 10.08,\n",
       " 10.3,\n",
       " 10.4,\n",
       " 10.5,\n",
       " 10.52,\n",
       " 10.55,\n",
       " 10.6,\n",
       " 10.7,\n",
       " 10.76,\n",
       " 10.8,\n",
       " 10.9,\n",
       " 10.93,\n",
       " 10.94,\n",
       " 11.0,\n",
       " 11.1,\n",
       " 11.15,\n",
       " 11.2,\n",
       " 11.3,\n",
       " 11.38,\n",
       " 11.4,\n",
       " 11.47,\n",
       " 11.5,\n",
       " 11.6,\n",
       " 11.7,\n",
       " 11.79,\n",
       " 11.88,\n",
       " 11.9,\n",
       " 11.99,\n",
       " 12.0,\n",
       " 12.08,\n",
       " 12.1,\n",
       " 12.18,\n",
       " 12.2,\n",
       " 12.28,\n",
       " 12.3,\n",
       " 12.5,\n",
       " 12.6,\n",
       " 12.7,\n",
       " 12.71,\n",
       " 12.79,\n",
       " 12.8,\n",
       " 12.81,\n",
       " 12.9,\n",
       " 13.0,\n",
       " 13.05,\n",
       " 13.09,\n",
       " 13.1,\n",
       " 13.15,\n",
       " 13.2,\n",
       " 13.27,\n",
       " 13.3,\n",
       " 13.32,\n",
       " 13.34,\n",
       " 13.37,\n",
       " 13.4,\n",
       " 13.46,\n",
       " 13.5,\n",
       " 13.54,\n",
       " 13.56,\n",
       " 13.59,\n",
       " 13.6,\n",
       " 13.62,\n",
       " 13.66,\n",
       " 13.7,\n",
       " 13.73,\n",
       " 13.76,\n",
       " 13.79,\n",
       " 13.8,\n",
       " 13.82,\n",
       " 13.89,\n",
       " 13.9,\n",
       " 13.92,\n",
       " 14.0,\n",
       " 14.01,\n",
       " 14.02,\n",
       " 14.03,\n",
       " 14.06,\n",
       " 14.08,\n",
       " 14.1,\n",
       " 14.11,\n",
       " 14.16,\n",
       " 14.17,\n",
       " 14.19,\n",
       " 14.2,\n",
       " 14.22,\n",
       " 14.23,\n",
       " 14.25,\n",
       " 14.28,\n",
       " 14.3,\n",
       " 14.31,\n",
       " 14.35,\n",
       " 14.37,\n",
       " 14.38,\n",
       " 14.39,\n",
       " 14.4,\n",
       " 14.41,\n",
       " 14.45,\n",
       " 14.46,\n",
       " 14.47,\n",
       " 14.5,\n",
       " 14.51,\n",
       " 14.55,\n",
       " 14.56,\n",
       " 14.57,\n",
       " 14.58,\n",
       " 14.59,\n",
       " 14.6,\n",
       " 14.62,\n",
       " 14.64,\n",
       " 14.65,\n",
       " 14.69,\n",
       " 14.7,\n",
       " 14.71,\n",
       " 14.73,\n",
       " 14.74,\n",
       " 14.77,\n",
       " 14.8,\n",
       " 14.85,\n",
       " 14.89,\n",
       " 14.9,\n",
       " 14.91,\n",
       " 14.92,\n",
       " 14.95,\n",
       " 15.0,\n",
       " 15.01,\n",
       " 15.02,\n",
       " 15.03,\n",
       " 15.04,\n",
       " 15.05,\n",
       " 15.06,\n",
       " 15.07,\n",
       " 15.08,\n",
       " 15.1,\n",
       " 15.11,\n",
       " 15.12,\n",
       " 15.13,\n",
       " 15.15,\n",
       " 15.16,\n",
       " 15.18,\n",
       " 15.2,\n",
       " 15.25,\n",
       " 15.26,\n",
       " 15.3,\n",
       " 15.31,\n",
       " 15.32,\n",
       " 15.33,\n",
       " 15.34,\n",
       " 15.35,\n",
       " 15.36,\n",
       " 15.37,\n",
       " 15.38,\n",
       " 15.4,\n",
       " 15.41,\n",
       " 15.42,\n",
       " 15.43,\n",
       " 15.45,\n",
       " 15.46,\n",
       " 15.5,\n",
       " 15.53,\n",
       " 15.54,\n",
       " 15.55,\n",
       " 15.58,\n",
       " 15.6,\n",
       " 15.61,\n",
       " 15.62,\n",
       " 15.64,\n",
       " 15.65,\n",
       " 15.66,\n",
       " 15.7,\n",
       " 15.71,\n",
       " 15.72,\n",
       " 15.77,\n",
       " 15.78,\n",
       " 15.79,\n",
       " 15.8,\n",
       " 15.82,\n",
       " 15.85,\n",
       " 15.86,\n",
       " 15.88,\n",
       " 15.89,\n",
       " 15.9,\n",
       " 15.91,\n",
       " 15.92,\n",
       " 15.93,\n",
       " 15.96,\n",
       " 16.0,\n",
       " 16.04,\n",
       " 16.06,\n",
       " 16.07,\n",
       " 16.08,\n",
       " 16.09,\n",
       " 16.1,\n",
       " 16.11,\n",
       " 16.12,\n",
       " 16.15,\n",
       " 16.16,\n",
       " 16.18,\n",
       " 16.2,\n",
       " 16.22,\n",
       " 16.26,\n",
       " 16.29,\n",
       " 16.3,\n",
       " 16.31,\n",
       " 16.32,\n",
       " 16.4,\n",
       " 16.41,\n",
       " 16.42,\n",
       " 16.47,\n",
       " 16.5,\n",
       " 16.51,\n",
       " 16.52,\n",
       " 16.55,\n",
       " 16.58,\n",
       " 16.59,\n",
       " 16.6,\n",
       " 16.61,\n",
       " 16.62,\n",
       " 16.63,\n",
       " 16.66,\n",
       " 16.68,\n",
       " 16.69,\n",
       " 16.7,\n",
       " 16.71,\n",
       " 16.72,\n",
       " 16.74,\n",
       " 16.76,\n",
       " 16.8,\n",
       " 16.83,\n",
       " 16.84,\n",
       " 16.88,\n",
       " 16.9,\n",
       " 16.91,\n",
       " 16.92,\n",
       " 16.93,\n",
       " 16.94,\n",
       " 16.95,\n",
       " 16.96,\n",
       " 16.97,\n",
       " 16.98,\n",
       " 17.0,\n",
       " 17.01,\n",
       " 17.03,\n",
       " 17.04,\n",
       " 17.05,\n",
       " 17.07,\n",
       " 17.08,\n",
       " 17.1,\n",
       " 17.11,\n",
       " 17.12,\n",
       " 17.14,\n",
       " 17.19,\n",
       " 17.2,\n",
       " 17.22,\n",
       " 17.25,\n",
       " 17.26,\n",
       " 17.27,\n",
       " 17.3,\n",
       " 17.33,\n",
       " 17.34,\n",
       " 17.35,\n",
       " 17.36,\n",
       " 17.38,\n",
       " 17.4,\n",
       " 17.43,\n",
       " 17.45,\n",
       " 17.48,\n",
       " 17.49,\n",
       " 17.5,\n",
       " 17.5115,\n",
       " 17.53,\n",
       " 17.6,\n",
       " 17.62,\n",
       " 17.65,\n",
       " 17.66,\n",
       " 17.7,\n",
       " 17.71,\n",
       " 17.73,\n",
       " 17.78,\n",
       " 17.8,\n",
       " 17.82,\n",
       " 17.83,\n",
       " 17.84,\n",
       " 17.85,\n",
       " 17.87,\n",
       " 17.9,\n",
       " 17.92,\n",
       " 17.93,\n",
       " 17.95,\n",
       " 17.97,\n",
       " 18.0,\n",
       " 18.02,\n",
       " 18.03,\n",
       " 18.04,\n",
       " 18.08,\n",
       " 18.09,\n",
       " 18.1,\n",
       " 18.11,\n",
       " 18.12,\n",
       " 18.14,\n",
       " 18.15,\n",
       " 18.16,\n",
       " 18.19,\n",
       " 18.2,\n",
       " 18.23,\n",
       " 18.28,\n",
       " 18.3,\n",
       " 18.33,\n",
       " 18.34,\n",
       " 18.35,\n",
       " 18.39,\n",
       " 18.4,\n",
       " 18.44,\n",
       " 18.46,\n",
       " 18.47,\n",
       " 18.5,\n",
       " 18.55,\n",
       " 18.57,\n",
       " 18.6,\n",
       " 18.61,\n",
       " 18.62,\n",
       " 18.7,\n",
       " 18.72,\n",
       " 18.79,\n",
       " 18.8,\n",
       " 18.83,\n",
       " 18.84,\n",
       " 18.86,\n",
       " 18.88,\n",
       " 18.9,\n",
       " 18.93,\n",
       " 18.95,\n",
       " 19.0,\n",
       " 19.03,\n",
       " 19.1,\n",
       " 19.15,\n",
       " 19.2,\n",
       " 19.22,\n",
       " 19.3,\n",
       " 19.35,\n",
       " 19.4,\n",
       " 19.5,\n",
       " 19.52,\n",
       " 19.55,\n",
       " 19.6,\n",
       " 19.65,\n",
       " 19.7,\n",
       " 19.8,\n",
       " 19.9,\n",
       " 19.95,\n",
       " 20.0,\n",
       " 20.02,\n",
       " 20.03,\n",
       " 20.1,\n",
       " 20.11,\n",
       " 20.13,\n",
       " 20.19,\n",
       " 20.2,\n",
       " 20.26,\n",
       " 20.3,\n",
       " 20.31,\n",
       " 20.36,\n",
       " 20.39,\n",
       " 20.4,\n",
       " 20.46,\n",
       " 20.5,\n",
       " 20.52,\n",
       " 20.55,\n",
       " 20.6,\n",
       " 20.67,\n",
       " 20.7,\n",
       " 20.74,\n",
       " 20.75,\n",
       " 20.77,\n",
       " 20.8,\n",
       " 20.9,\n",
       " 20.97,\n",
       " 21.0,\n",
       " 21.04,\n",
       " 21.06,\n",
       " 21.08,\n",
       " 21.09,\n",
       " 21.1,\n",
       " 21.11,\n",
       " 21.12,\n",
       " 21.15,\n",
       " 21.2,\n",
       " 21.28,\n",
       " 21.3,\n",
       " 21.4,\n",
       " 21.5,\n",
       " 21.53,\n",
       " 21.59,\n",
       " 21.6,\n",
       " 21.65,\n",
       " 21.68,\n",
       " 21.7,\n",
       " 21.77,\n",
       " 21.8,\n",
       " 21.9,\n",
       " 22.0,\n",
       " 22.04,\n",
       " 22.1,\n",
       " 22.15,\n",
       " 22.2,\n",
       " 22.3,\n",
       " 22.35,\n",
       " 22.37,\n",
       " 22.4,\n",
       " 22.43,\n",
       " 22.45,\n",
       " 22.5,\n",
       " 22.57,\n",
       " 22.6,\n",
       " 22.62,\n",
       " 22.7,\n",
       " 22.8,\n",
       " 22.81,\n",
       " 22.9,\n",
       " 23.0,\n",
       " 23.1,\n",
       " 23.19,\n",
       " 23.2,\n",
       " 23.3,\n",
       " 23.4,\n",
       " 23.43,\n",
       " 23.5,\n",
       " 23.6,\n",
       " 23.7,\n",
       " 23.77,\n",
       " 23.8,\n",
       " 23.9,\n",
       " 24.0,\n",
       " 24.1,\n",
       " 24.2,\n",
       " 24.3,\n",
       " 24.4,\n",
       " 24.42,\n",
       " 24.5,\n",
       " 24.6,\n",
       " 24.64,\n",
       " 24.7,\n",
       " 24.75,\n",
       " 24.77,\n",
       " 24.8,\n",
       " 24.83,\n",
       " 24.86,\n",
       " 24.89,\n",
       " 24.9,\n",
       " 25.0,\n",
       " 25.1,\n",
       " 25.2,\n",
       " 25.3,\n",
       " 25.38,\n",
       " 25.4,\n",
       " 25.41,\n",
       " 25.44,\n",
       " 25.5,\n",
       " 25.6,\n",
       " 25.7,\n",
       " 25.8,\n",
       " 25.81,\n",
       " 25.9,\n",
       " 25.900002,\n",
       " 25.95,\n",
       " 25.97,\n",
       " 26.0,\n",
       " 26.1,\n",
       " 26.13,\n",
       " 26.2,\n",
       " 26.21,\n",
       " 26.28,\n",
       " 26.29,\n",
       " 26.3,\n",
       " 26.4,\n",
       " 26.5,\n",
       " 26.51,\n",
       " 26.599998,\n",
       " 26.6,\n",
       " 26.61,\n",
       " 26.7,\n",
       " 26.75,\n",
       " 26.79,\n",
       " 26.8,\n",
       " 26.87,\n",
       " 26.9,\n",
       " 26.94,\n",
       " 27.0,\n",
       " 27.05,\n",
       " 27.06,\n",
       " 27.1,\n",
       " 27.12,\n",
       " 27.2,\n",
       " 27.22,\n",
       " 27.25,\n",
       " 27.29,\n",
       " 27.3,\n",
       " 27.33,\n",
       " 27.380001,\n",
       " 27.4,\n",
       " 27.42,\n",
       " 27.43,\n",
       " 27.46,\n",
       " 27.5,\n",
       " 27.51,\n",
       " 27.57,\n",
       " 27.6,\n",
       " 27.67,\n",
       " 27.69,\n",
       " 27.7,\n",
       " 27.75,\n",
       " 27.77,\n",
       " 27.8,\n",
       " 27.88,\n",
       " 27.89,\n",
       " 27.9,\n",
       " 27.92,\n",
       " 27.95,\n",
       " 28.0,\n",
       " 28.01,\n",
       " 28.02,\n",
       " 28.07,\n",
       " 28.09,\n",
       " 28.1,\n",
       " 28.14,\n",
       " 28.15,\n",
       " 28.18,\n",
       " 28.2,\n",
       " 28.23,\n",
       " 28.26,\n",
       " 28.3,\n",
       " 28.300001,\n",
       " 28.31,\n",
       " 28.33,\n",
       " 28.34,\n",
       " 28.36,\n",
       " 28.4,\n",
       " 28.42,\n",
       " 28.43,\n",
       " 28.45,\n",
       " 28.47,\n",
       " 28.48,\n",
       " 28.5,\n",
       " 28.54,\n",
       " 28.55,\n",
       " 28.6,\n",
       " 28.66,\n",
       " 28.7,\n",
       " 28.71,\n",
       " 28.73,\n",
       " 28.77,\n",
       " 28.8,\n",
       " 28.81,\n",
       " 28.84,\n",
       " 28.85,\n",
       " 28.86,\n",
       " 28.88,\n",
       " 28.9,\n",
       " 28.900002,\n",
       " 28.98,\n",
       " 29.0,\n",
       " 29.01,\n",
       " 29.08,\n",
       " 29.1,\n",
       " 29.13,\n",
       " 29.16,\n",
       " 29.2,\n",
       " 29.21,\n",
       " 29.22,\n",
       " 29.27,\n",
       " 29.3,\n",
       " 29.34,\n",
       " 29.38,\n",
       " 29.4,\n",
       " 29.41,\n",
       " 29.43,\n",
       " 29.48,\n",
       " 29.5,\n",
       " 29.52,\n",
       " 29.55,\n",
       " 29.56,\n",
       " 29.599998,\n",
       " 29.6,\n",
       " 29.61,\n",
       " 29.67,\n",
       " 29.7,\n",
       " 29.72,\n",
       " 29.74,\n",
       " 29.77,\n",
       " 29.78,\n",
       " 29.8,\n",
       " 29.81,\n",
       " 29.83,\n",
       " 29.84,\n",
       " 29.85,\n",
       " 29.9,\n",
       " 29.92,\n",
       " 30.0,\n",
       " 30.01,\n",
       " 30.04,\n",
       " 30.05,\n",
       " 30.08,\n",
       " 30.099998,\n",
       " 30.1,\n",
       " 30.12,\n",
       " 30.15,\n",
       " 30.16,\n",
       " 30.17,\n",
       " 30.2,\n",
       " 30.29,\n",
       " 30.3,\n",
       " 30.31,\n",
       " 30.35,\n",
       " 30.39,\n",
       " 30.4,\n",
       " 30.5,\n",
       " 30.52,\n",
       " 30.55,\n",
       " 30.57,\n",
       " 30.59,\n",
       " 30.6,\n",
       " 30.61,\n",
       " 30.62,\n",
       " 30.7,\n",
       " 30.72,\n",
       " 30.75,\n",
       " 30.8,\n",
       " 30.81,\n",
       " 30.82,\n",
       " 30.83,\n",
       " 30.89,\n",
       " 30.9,\n",
       " 30.900002,\n",
       " 30.92,\n",
       " 31.0,\n",
       " 31.01,\n",
       " 31.04,\n",
       " 31.05,\n",
       " 31.07,\n",
       " 31.1,\n",
       " 31.12,\n",
       " 31.18,\n",
       " 31.2,\n",
       " 31.26,\n",
       " 31.29,\n",
       " 31.3,\n",
       " 31.38,\n",
       " 31.4,\n",
       " 31.41,\n",
       " 31.42,\n",
       " 31.43,\n",
       " 31.44,\n",
       " 31.47,\n",
       " 31.48,\n",
       " 31.5,\n",
       " 31.51,\n",
       " 31.52,\n",
       " 31.55,\n",
       " 31.599998,\n",
       " 31.6,\n",
       " 31.61,\n",
       " 31.62,\n",
       " 31.64,\n",
       " 31.65,\n",
       " 31.7,\n",
       " 31.71,\n",
       " 31.74,\n",
       " 31.77,\n",
       " 31.8,\n",
       " 31.81,\n",
       " 31.9,\n",
       " 32.0,\n",
       " 32.02,\n",
       " 32.04,\n",
       " 32.05,\n",
       " 32.06,\n",
       " 32.08,\n",
       " 32.1,\n",
       " 32.199997,\n",
       " 32.2,\n",
       " 32.26,\n",
       " 32.3,\n",
       " 32.35,\n",
       " 32.37,\n",
       " 32.38,\n",
       " 32.4,\n",
       " 32.46,\n",
       " 32.5,\n",
       " 32.6,\n",
       " 32.61,\n",
       " 32.62,\n",
       " 32.7,\n",
       " 32.71,\n",
       " 32.73,\n",
       " 32.79,\n",
       " 32.8,\n",
       " 32.84,\n",
       " 32.9,\n",
       " 32.95,\n",
       " 33.0,\n",
       " 33.03,\n",
       " 33.06,\n",
       " 33.08,\n",
       " 33.1,\n",
       " 33.18,\n",
       " 33.2,\n",
       " 33.26,\n",
       " 33.260002,\n",
       " 33.3,\n",
       " 33.36,\n",
       " 33.4,\n",
       " 33.47,\n",
       " 33.5,\n",
       " 33.57,\n",
       " 33.6,\n",
       " 33.63,\n",
       " 33.67,\n",
       " 33.7,\n",
       " 33.72,\n",
       " 33.73,\n",
       " 33.8,\n",
       " 33.87,\n",
       " 33.9,\n",
       " 33.92,\n",
       " 34.0,\n",
       " 34.1,\n",
       " 34.14,\n",
       " 34.2,\n",
       " 34.29,\n",
       " 34.3,\n",
       " 34.32,\n",
       " 34.37,\n",
       " 34.4,\n",
       " 34.41,\n",
       " 34.44,\n",
       " 34.5,\n",
       " 34.51,\n",
       " 34.6,\n",
       " 34.63,\n",
       " 34.7,\n",
       " 34.760002,\n",
       " 34.79,\n",
       " 34.8,\n",
       " 34.87,\n",
       " 34.88,\n",
       " 34.9,\n",
       " 35.0,\n",
       " 35.01,\n",
       " 35.05,\n",
       " 35.07,\n",
       " 35.1,\n",
       " 35.17,\n",
       " 35.2,\n",
       " 35.3,\n",
       " 35.33,\n",
       " 35.38,\n",
       " 35.4,\n",
       " 35.48,\n",
       " 35.5,\n",
       " 35.55,\n",
       " 35.6,\n",
       " 35.61,\n",
       " 35.7,\n",
       " 35.74,\n",
       " 35.76,\n",
       " 35.77,\n",
       " 35.8,\n",
       " 35.81,\n",
       " 35.88,\n",
       " 35.89,\n",
       " 35.9,\n",
       " 35.91,\n",
       " 35.92,\n",
       " 36.0,\n",
       " 36.04,\n",
       " 36.07,\n",
       " 36.1,\n",
       " 36.15,\n",
       " 36.2,\n",
       " 36.27,\n",
       " 36.3,\n",
       " 36.35,\n",
       " 36.4,\n",
       " 36.45,\n",
       " 36.5,\n",
       " 36.57,\n",
       " 36.6,\n",
       " 36.7,\n",
       " 36.76,\n",
       " 36.79,\n",
       " 36.8,\n",
       " 36.81,\n",
       " 36.86,\n",
       " 36.9,\n",
       " 36.95,\n",
       " 37.0,\n",
       " 37.1,\n",
       " 37.13,\n",
       " 37.2,\n",
       " 37.28,\n",
       " 37.3,\n",
       " 37.300003,\n",
       " 37.4,\n",
       " 37.5,\n",
       " 37.52,\n",
       " 37.6,\n",
       " 37.66,\n",
       " 37.7,\n",
       " 37.74,\n",
       " 37.8,\n",
       " 37.9,\n",
       " 38.0,\n",
       " 38.03,\n",
       " 38.05,\n",
       " 38.07,\n",
       " 38.1,\n",
       " 38.18,\n",
       " 38.2,\n",
       " 38.3,\n",
       " 38.33,\n",
       " 38.39,\n",
       " 38.4,\n",
       " 38.5,\n",
       " 38.6,\n",
       " 38.7,\n",
       " 38.73,\n",
       " 38.8,\n",
       " 38.9,\n",
       " 38.91,\n",
       " 38.95,\n",
       " 38.99,\n",
       " 39.0,\n",
       " 39.07,\n",
       " 39.1,\n",
       " 39.18,\n",
       " 39.2,\n",
       " 39.3,\n",
       " 39.4,\n",
       " 39.41,\n",
       " 39.5,\n",
       " 39.59,\n",
       " 39.6,\n",
       " 39.62,\n",
       " 39.66,\n",
       " 39.7,\n",
       " 39.71,\n",
       " 39.78,\n",
       " 39.8,\n",
       " 39.85,\n",
       " 39.9,\n",
       " 40.0,\n",
       " 40.06,\n",
       " 40.1,\n",
       " 40.2,\n",
       " 40.3,\n",
       " 40.32,\n",
       " 40.39,\n",
       " 40.4,\n",
       " 40.43,\n",
       " 40.5,\n",
       " 40.57,\n",
       " 40.59,\n",
       " 40.6,\n",
       " 40.61,\n",
       " 40.7,\n",
       " 40.79,\n",
       " 40.8,\n",
       " 40.83,\n",
       " 40.9,\n",
       " 40.92,\n",
       " 40.95,\n",
       " 41.0,\n",
       " 41.05,\n",
       " 41.06,\n",
       " 41.08,\n",
       " 41.1,\n",
       " 41.17,\n",
       " 41.19,\n",
       " 41.2,\n",
       " 41.3,\n",
       " 41.34,\n",
       " 41.35,\n",
       " 41.4,\n",
       " 41.44,\n",
       " 41.5,\n",
       " 41.6,\n",
       " 41.69,\n",
       " 41.7,\n",
       " 41.8,\n",
       " 41.9,\n",
       " 41.92,\n",
       " 41.98,\n",
       " 42.0,\n",
       " 42.1,\n",
       " 42.17,\n",
       " 42.2,\n",
       " 42.26,\n",
       " 42.3,\n",
       " 42.31,\n",
       " 42.4,\n",
       " 42.41,\n",
       " 42.43,\n",
       " 42.48,\n",
       " 42.5,\n",
       " 42.54,\n",
       " 42.55,\n",
       " 42.6,\n",
       " 42.7,\n",
       " 42.8,\n",
       " 42.9,\n",
       " 42.91,\n",
       " 43.0,\n",
       " 43.05,\n",
       " 43.1,\n",
       " 43.15,\n",
       " 43.2,\n",
       " 43.3,\n",
       " 43.32,\n",
       " 43.4,\n",
       " 43.45,\n",
       " 43.46,\n",
       " 43.5,\n",
       " 43.6,\n",
       " 43.62,\n",
       " 43.63,\n",
       " 43.7,\n",
       " 43.71,\n",
       " 43.78,\n",
       " 43.8,\n",
       " 43.81,\n",
       " 43.83,\n",
       " 43.89,\n",
       " 43.9,\n",
       " 43.92,\n",
       " 44.0,\n",
       " 44.000004,\n",
       " 44.04,\n",
       " 44.05,\n",
       " 44.1,\n",
       " 44.100002,\n",
       " 44.13,\n",
       " 44.15,\n",
       " 44.2,\n",
       " 44.3,\n",
       " 44.4,\n",
       " 44.5,\n",
       " 44.56,\n",
       " 44.6,\n",
       " 44.7,\n",
       " 44.8,\n",
       " 44.9,\n",
       " 44.91,\n",
       " 44.99,\n",
       " 45.0,\n",
       " 45.1,\n",
       " 45.11,\n",
       " 45.13,\n",
       " 45.18,\n",
       " 45.2,\n",
       " 45.23,\n",
       " 45.3,\n",
       " 45.34,\n",
       " 45.38,\n",
       " 45.4,\n",
       " 45.5,\n",
       " 45.6,\n",
       " 45.7,\n",
       " 45.72,\n",
       " 45.8,\n",
       " 45.82,\n",
       " 45.85,\n",
       " 45.86,\n",
       " 45.9,\n",
       " 45.92,\n",
       " 45.95,\n",
       " 46.0,\n",
       " 46.01,\n",
       " 46.05,\n",
       " 46.1,\n",
       " 46.13,\n",
       " 46.14,\n",
       " 46.15,\n",
       " 46.2,\n",
       " 46.3,\n",
       " 46.4,\n",
       " 46.5,\n",
       " ...]"
      ]
     },
     "execution_count": 4,
     "metadata": {},
     "output_type": "execute_result"
    }
   ],
   "source": [
    "list(data['living_area'].sort_values().unique())"
   ]
  },
  {
   "cell_type": "code",
   "execution_count": 96,
   "id": "b636c293",
   "metadata": {},
   "outputs": [
    {
     "data": {
      "text/plain": [
       "1778"
      ]
     },
     "execution_count": 96,
     "metadata": {},
     "output_type": "execute_result"
    }
   ],
   "source": [
    "data['living_area'].sort_values().unique() "
   ]
  },
  {
   "cell_type": "code",
   "execution_count": 12,
   "id": "fa816c0d",
   "metadata": {},
   "outputs": [],
   "source": [
    "data['living_area'] = data['living_area']. fillna(0) \n",
    "#пропуски в living_area заменим на 0"
   ]
  },
  {
   "cell_type": "code",
   "execution_count": 13,
   "id": "df0fcbbb",
   "metadata": {},
   "outputs": [],
   "source": [
    "data = data.loc[(data['living_area'] != 2)& #удалим объекты площадью 2\n",
    "                (data['living_area'] != 3)& #удалим объекты площадью 3\n",
    "                (data['living_area'] != 0)& #удалим объекты площадью 0\n",
    "                (data['living_area'] != 5)& #удалим объекты площадью 5\n",
    "                (data['living_area'] != 5.4)] #удалим объекты площадью 5.4"
   ]
  },
  {
   "cell_type": "markdown",
   "id": "098b1370",
   "metadata": {},
   "source": [
    "## Изменение типа данных"
   ]
  },
  {
   "cell_type": "markdown",
   "id": "c23bbddd",
   "metadata": {},
   "source": [
    "### Тип данных first_day_exposition"
   ]
  },
  {
   "cell_type": "code",
   "execution_count": 14,
   "id": "ff36f9dd",
   "metadata": {
    "scrolled": true
   },
   "outputs": [
    {
     "name": "stderr",
     "output_type": "stream",
     "text": [
      "/tmp/ipykernel_504/1265153887.py:1: SettingWithCopyWarning: \n",
      "A value is trying to be set on a copy of a slice from a DataFrame.\n",
      "Try using .loc[row_indexer,col_indexer] = value instead\n",
      "\n",
      "See the caveats in the documentation: https://pandas.pydata.org/pandas-docs/stable/user_guide/indexing.html#returning-a-view-versus-a-copy\n",
      "  data['first_day_exposition']= pd.to_datetime(data['first_day_exposition'], format='%Y-%m-%d')\n"
     ]
    },
    {
     "data": {
      "text/plain": [
       "total_images\n",
       "20   2019-03-07\n",
       "7    2018-12-04\n",
       "10   2015-08-20\n",
       "2    2018-06-19\n",
       "10   2018-09-10\n",
       "        ...    \n",
       "9    2016-08-05\n",
       "9    2017-03-21\n",
       "14   2018-01-15\n",
       "18   2018-02-11\n",
       "4    2017-07-21\n",
       "Name: first_day_exposition, Length: 21790, dtype: datetime64[ns]"
      ]
     },
     "execution_count": 14,
     "metadata": {},
     "output_type": "execute_result"
    }
   ],
   "source": [
    "data['first_day_exposition']= pd.to_datetime(data['first_day_exposition'], format='%Y-%m-%d')\n",
    "#переделаем на datetime, но без времени.\n",
    "data['first_day_exposition']"
   ]
  },
  {
   "cell_type": "markdown",
   "id": "702ba7f6",
   "metadata": {},
   "source": [
    "\n",
    "Формат даты публикации не содержит время, поэтому при изменении типа данных я оставила только число"
   ]
  },
  {
   "cell_type": "markdown",
   "id": "51d66a18",
   "metadata": {},
   "source": [
    "причину, что он ругается - я не выяснила"
   ]
  },
  {
   "cell_type": "markdown",
   "id": "0f8db2f8",
   "metadata": {},
   "source": [
    "### Тип данных balcony"
   ]
  },
  {
   "cell_type": "code",
   "execution_count": 15,
   "id": "1f9650f7",
   "metadata": {},
   "outputs": [
    {
     "name": "stdout",
     "output_type": "stream",
     "text": [
      "<class 'pandas.core.frame.DataFrame'>\n",
      "Int64Index: 21790 entries, 20 to 4\n",
      "Data columns (total 21 columns):\n",
      " #   Column                Non-Null Count  Dtype         \n",
      "---  ------                --------------  -----         \n",
      " 0   last_price            21790 non-null  float64       \n",
      " 1   total_area            21790 non-null  float64       \n",
      " 2   first_day_exposition  21790 non-null  datetime64[ns]\n",
      " 3   rooms                 21790 non-null  int64         \n",
      " 4   ceiling_height        13704 non-null  float64       \n",
      " 5   floors_total          21737 non-null  float64       \n",
      " 6   living_area           21790 non-null  float64       \n",
      " 7   floor                 21790 non-null  int64         \n",
      " 8   is_apartment          2655 non-null   object        \n",
      " 9   studio                21790 non-null  bool          \n",
      " 10  open_plan             21790 non-null  bool          \n",
      " 11  kitchen_area          20978 non-null  float64       \n",
      " 12  balcony               21790 non-null  int64         \n",
      " 13  locality_name         21746 non-null  object        \n",
      " 14  airports_nearest      16874 non-null  float64       \n",
      " 15  cityCenters_nearest   16895 non-null  float64       \n",
      " 16  parks_around3000      16896 non-null  float64       \n",
      " 17  parks_nearest         7499 non-null   float64       \n",
      " 18  ponds_around3000      16896 non-null  float64       \n",
      " 19  ponds_nearest         8412 non-null   float64       \n",
      " 20  days_exposition       21790 non-null  float64       \n",
      "dtypes: bool(2), datetime64[ns](1), float64(13), int64(3), object(2)\n",
      "memory usage: 3.4+ MB\n"
     ]
    },
    {
     "name": "stderr",
     "output_type": "stream",
     "text": [
      "/tmp/ipykernel_504/3033021746.py:1: SettingWithCopyWarning: \n",
      "A value is trying to be set on a copy of a slice from a DataFrame.\n",
      "Try using .loc[row_indexer,col_indexer] = value instead\n",
      "\n",
      "See the caveats in the documentation: https://pandas.pydata.org/pandas-docs/stable/user_guide/indexing.html#returning-a-view-versus-a-copy\n",
      "  data['balcony'] = data['balcony'].astype('int')\n"
     ]
    }
   ],
   "source": [
    "data['balcony'] = data['balcony'].astype('int') \n",
    "#изменим тип данных balcony с плавающей точкой на целочисленные\n",
    "data.info() "
   ]
  },
  {
   "cell_type": "markdown",
   "id": "b8f0334c",
   "metadata": {},
   "source": [
    "### Тип данных days_exposition"
   ]
  },
  {
   "cell_type": "code",
   "execution_count": 16,
   "id": "5eee9eca",
   "metadata": {},
   "outputs": [
    {
     "name": "stdout",
     "output_type": "stream",
     "text": [
      "<class 'pandas.core.frame.DataFrame'>\n",
      "Int64Index: 21790 entries, 20 to 4\n",
      "Data columns (total 21 columns):\n",
      " #   Column                Non-Null Count  Dtype         \n",
      "---  ------                --------------  -----         \n",
      " 0   last_price            21790 non-null  float64       \n",
      " 1   total_area            21790 non-null  float64       \n",
      " 2   first_day_exposition  21790 non-null  datetime64[ns]\n",
      " 3   rooms                 21790 non-null  int64         \n",
      " 4   ceiling_height        13704 non-null  float64       \n",
      " 5   floors_total          21737 non-null  float64       \n",
      " 6   living_area           21790 non-null  float64       \n",
      " 7   floor                 21790 non-null  int64         \n",
      " 8   is_apartment          2655 non-null   object        \n",
      " 9   studio                21790 non-null  bool          \n",
      " 10  open_plan             21790 non-null  bool          \n",
      " 11  kitchen_area          20978 non-null  float64       \n",
      " 12  balcony               21790 non-null  int64         \n",
      " 13  locality_name         21746 non-null  object        \n",
      " 14  airports_nearest      16874 non-null  float64       \n",
      " 15  cityCenters_nearest   16895 non-null  float64       \n",
      " 16  parks_around3000      16896 non-null  float64       \n",
      " 17  parks_nearest         7499 non-null   float64       \n",
      " 18  ponds_around3000      16896 non-null  float64       \n",
      " 19  ponds_nearest         8412 non-null   float64       \n",
      " 20  days_exposition       21790 non-null  int64         \n",
      "dtypes: bool(2), datetime64[ns](1), float64(12), int64(4), object(2)\n",
      "memory usage: 3.4+ MB\n"
     ]
    },
    {
     "name": "stderr",
     "output_type": "stream",
     "text": [
      "/tmp/ipykernel_504/634488114.py:1: SettingWithCopyWarning: \n",
      "A value is trying to be set on a copy of a slice from a DataFrame.\n",
      "Try using .loc[row_indexer,col_indexer] = value instead\n",
      "\n",
      "See the caveats in the documentation: https://pandas.pydata.org/pandas-docs/stable/user_guide/indexing.html#returning-a-view-versus-a-copy\n",
      "  data['days_exposition'] = data['days_exposition'].astype('int')\n"
     ]
    }
   ],
   "source": [
    "data['days_exposition'] = data['days_exposition'].astype('int')\n",
    "#изменим тип данных days_exposition с плавающей точкой на целочисленные\n",
    "data.info()"
   ]
  },
  {
   "cell_type": "markdown",
   "id": "b21947bd",
   "metadata": {},
   "source": [
    "### Тип данных cityCenters_nearest"
   ]
  },
  {
   "cell_type": "code",
   "execution_count": 17,
   "id": "861bcad9",
   "metadata": {},
   "outputs": [
    {
     "name": "stdout",
     "output_type": "stream",
     "text": [
      "<class 'pandas.core.frame.DataFrame'>\n",
      "Int64Index: 21790 entries, 20 to 4\n",
      "Data columns (total 21 columns):\n",
      " #   Column                Non-Null Count  Dtype         \n",
      "---  ------                --------------  -----         \n",
      " 0   last_price            21790 non-null  float64       \n",
      " 1   total_area            21790 non-null  float64       \n",
      " 2   first_day_exposition  21790 non-null  datetime64[ns]\n",
      " 3   rooms                 21790 non-null  int64         \n",
      " 4   ceiling_height        13704 non-null  float64       \n",
      " 5   floors_total          21737 non-null  float64       \n",
      " 6   living_area           21790 non-null  float64       \n",
      " 7   floor                 21790 non-null  int64         \n",
      " 8   is_apartment          2655 non-null   object        \n",
      " 9   studio                21790 non-null  bool          \n",
      " 10  open_plan             21790 non-null  bool          \n",
      " 11  kitchen_area          20978 non-null  float64       \n",
      " 12  balcony               21790 non-null  int64         \n",
      " 13  locality_name         21746 non-null  object        \n",
      " 14  airports_nearest      16874 non-null  float64       \n",
      " 15  cityCenters_nearest   21790 non-null  int64         \n",
      " 16  parks_around3000      16896 non-null  float64       \n",
      " 17  parks_nearest         7499 non-null   float64       \n",
      " 18  ponds_around3000      16896 non-null  float64       \n",
      " 19  ponds_nearest         8412 non-null   float64       \n",
      " 20  days_exposition       21790 non-null  int64         \n",
      "dtypes: bool(2), datetime64[ns](1), float64(11), int64(5), object(2)\n",
      "memory usage: 3.4+ MB\n"
     ]
    },
    {
     "name": "stderr",
     "output_type": "stream",
     "text": [
      "/tmp/ipykernel_504/1061725518.py:1: SettingWithCopyWarning: \n",
      "A value is trying to be set on a copy of a slice from a DataFrame.\n",
      "Try using .loc[row_indexer,col_indexer] = value instead\n",
      "\n",
      "See the caveats in the documentation: https://pandas.pydata.org/pandas-docs/stable/user_guide/indexing.html#returning-a-view-versus-a-copy\n",
      "  data['cityCenters_nearest'] = data['cityCenters_nearest'].fillna(0) #заполнение пропусков значением 0\n",
      "/tmp/ipykernel_504/1061725518.py:2: SettingWithCopyWarning: \n",
      "A value is trying to be set on a copy of a slice from a DataFrame.\n",
      "Try using .loc[row_indexer,col_indexer] = value instead\n",
      "\n",
      "See the caveats in the documentation: https://pandas.pydata.org/pandas-docs/stable/user_guide/indexing.html#returning-a-view-versus-a-copy\n",
      "  data['cityCenters_nearest'] = data['cityCenters_nearest'].astype('int') #изменение типа данных на целочисленное\n"
     ]
    }
   ],
   "source": [
    "data['cityCenters_nearest'] = data['cityCenters_nearest'].fillna(0) #заполнение пропусков значением 0\n",
    "data['cityCenters_nearest'] = data['cityCenters_nearest'].astype('int') #изменение типа данных на целочисленное\n",
    "data.info()"
   ]
  },
  {
   "cell_type": "markdown",
   "id": "1005a903",
   "metadata": {},
   "source": [
    "### Тип данных last_price"
   ]
  },
  {
   "cell_type": "code",
   "execution_count": 18,
   "id": "e20f659c",
   "metadata": {},
   "outputs": [
    {
     "name": "stdout",
     "output_type": "stream",
     "text": [
      "<class 'pandas.core.frame.DataFrame'>\n",
      "Int64Index: 21790 entries, 20 to 4\n",
      "Data columns (total 21 columns):\n",
      " #   Column                Non-Null Count  Dtype         \n",
      "---  ------                --------------  -----         \n",
      " 0   last_price            21790 non-null  int64         \n",
      " 1   total_area            21790 non-null  float64       \n",
      " 2   first_day_exposition  21790 non-null  datetime64[ns]\n",
      " 3   rooms                 21790 non-null  int64         \n",
      " 4   ceiling_height        13704 non-null  float64       \n",
      " 5   floors_total          21737 non-null  float64       \n",
      " 6   living_area           21790 non-null  float64       \n",
      " 7   floor                 21790 non-null  int64         \n",
      " 8   is_apartment          2655 non-null   object        \n",
      " 9   studio                21790 non-null  bool          \n",
      " 10  open_plan             21790 non-null  bool          \n",
      " 11  kitchen_area          20978 non-null  float64       \n",
      " 12  balcony               21790 non-null  int64         \n",
      " 13  locality_name         21746 non-null  object        \n",
      " 14  airports_nearest      16874 non-null  float64       \n",
      " 15  cityCenters_nearest   21790 non-null  int64         \n",
      " 16  parks_around3000      16896 non-null  float64       \n",
      " 17  parks_nearest         7499 non-null   float64       \n",
      " 18  ponds_around3000      16896 non-null  float64       \n",
      " 19  ponds_nearest         8412 non-null   float64       \n",
      " 20  days_exposition       21790 non-null  int64         \n",
      "dtypes: bool(2), datetime64[ns](1), float64(10), int64(6), object(2)\n",
      "memory usage: 3.4+ MB\n"
     ]
    },
    {
     "name": "stderr",
     "output_type": "stream",
     "text": [
      "/tmp/ipykernel_504/2595585474.py:1: SettingWithCopyWarning: \n",
      "A value is trying to be set on a copy of a slice from a DataFrame.\n",
      "Try using .loc[row_indexer,col_indexer] = value instead\n",
      "\n",
      "See the caveats in the documentation: https://pandas.pydata.org/pandas-docs/stable/user_guide/indexing.html#returning-a-view-versus-a-copy\n",
      "  data['last_price'] = data['last_price'].astype('int') #изменение типа данных на целочисленное\n"
     ]
    }
   ],
   "source": [
    "data['last_price'] = data['last_price'].astype('int') #изменение типа данных на целочисленное\n",
    "data.info()"
   ]
  },
  {
   "cell_type": "markdown",
   "id": "b4c4cebf",
   "metadata": {},
   "source": [
    "## Неявные дубликаты в locality_name"
   ]
  },
  {
   "cell_type": "markdown",
   "id": "59c3791b",
   "metadata": {},
   "source": [
    "Я думаю, что уже давно понятно, что я тупенькая, но терпеливая...."
   ]
  },
  {
   "cell_type": "code",
   "execution_count": 19,
   "id": "f45c32c4",
   "metadata": {},
   "outputs": [],
   "source": [
    "import warnings\n",
    "\n",
    "warnings.filterwarnings('ignore') #пришлось пойти на такие меры (игнор предупреждений)"
   ]
  },
  {
   "cell_type": "code",
   "execution_count": 20,
   "id": "761fdee8",
   "metadata": {},
   "outputs": [
    {
     "data": {
      "text/plain": [
       "array(['Санкт-Петербург', 'посёлок Шушары', 'городской посёлок Янино-1',\n",
       "       'посёлок Парголово', 'посёлок Мурино', 'Ломоносов', 'Сертолово',\n",
       "       'Петергоф', 'Пушкин', 'деревня Кудрово', 'Колпино', 'Гатчина',\n",
       "       'поселок Мурино', 'деревня Фёдоровское', 'Выборг', 'Кронштадт',\n",
       "       'Кировск', 'деревня Новое Девяткино', 'посёлок Металлострой',\n",
       "       'посёлок городского типа Лебяжье',\n",
       "       'посёлок городского типа Сиверский', 'поселок Молодцово',\n",
       "       'поселок городского типа Кузьмоловский',\n",
       "       'садовое товарищество Новая Ропша', 'Павловск',\n",
       "       'деревня Пикколово', 'Всеволожск', 'Волхов', 'Кингисепп',\n",
       "       'Приозерск', 'Сестрорецк', 'деревня Куттузи', 'посёлок Аннино',\n",
       "       'деревня Заклинье', 'поселок Торковичи', 'поселок Первомайское',\n",
       "       'Красное Село', 'посёлок Понтонный', 'деревня Старая',\n",
       "       'деревня Лесколово', 'село Путилово', 'Ивангород', 'Мурино',\n",
       "       'Сланцы', 'Шлиссельбург', 'Сясьстрой', 'Никольское', 'Зеленогорск',\n",
       "       'Сосновый Бор', 'поселок Новый Свет', 'деревня Оржицы',\n",
       "       'деревня Кальтино', 'Кудрово', 'поселок Романовка',\n",
       "       'посёлок Бугры', 'поселок Бугры', 'поселок городского типа Рощино',\n",
       "       'Кириши', 'Луга', 'Волосово', 'Отрадное', 'село Павлово',\n",
       "       'поселок Оредеж', 'посёлок городского типа Красный Бор',\n",
       "       'Коммунар', 'посёлок Молодёжное', 'деревня Нурма',\n",
       "       'поселок городского типа Синявино', 'Тосно', 'посёлок Новый Свет',\n",
       "       'посёлок городского типа Кузьмоловский', 'посёлок Стрельна',\n",
       "       'Бокситогорск', 'посёлок Александровская', 'деревня Лопухинка',\n",
       "       'поселок Терволово', 'поселок городского типа Советский',\n",
       "       'Подпорожье', 'посёлок Петровское',\n",
       "       'посёлок городского типа Токсово', 'поселок Сельцо',\n",
       "       'посёлок городского типа Вырица', 'деревня Кипень',\n",
       "       'деревня Келози', 'деревня Вартемяги', 'посёлок Тельмана',\n",
       "       'городской поселок Большая Ижора', 'Тихвин', nan,\n",
       "       'деревня Агалатово', 'посёлок Новогорелово',\n",
       "       'городской посёлок Лесогорский', 'деревня Лаголово',\n",
       "       'поселок Цвелодубово', 'поселок городского типа Рахья',\n",
       "       'поселок городского типа Вырица', 'деревня Белогорка',\n",
       "       'поселок Заводской', 'городской посёлок Новоселье',\n",
       "       'деревня Большие Колпаны', 'деревня Горбунки', 'деревня Заневка',\n",
       "       'Приморск', 'городской посёлок Фёдоровское', 'деревня Мистолово',\n",
       "       'Новая Ладога', 'поселок Зимитицы', 'поселок Барышево',\n",
       "       'деревня Разметелево', 'поселок городского типа имени Свердлова',\n",
       "       'деревня Пеники', 'поселок Рябово', 'деревня Пудомяги',\n",
       "       'поселок станции Корнево', 'деревня Низино', 'деревня Бегуницы',\n",
       "       'посёлок Поляны', 'городской посёлок Мга', 'поселок Елизаветино',\n",
       "       'посёлок городского типа Кузнечное', 'деревня Колтуши',\n",
       "       'поселок Запорожское', 'посёлок городского типа Рощино',\n",
       "       'деревня Гостилицы', 'деревня Малое Карлино',\n",
       "       'посёлок Мичуринское', 'посёлок городского типа имени Морозова',\n",
       "       'посёлок Песочный', 'посёлок Сосново', 'деревня Аро',\n",
       "       'поселок Ильичёво', 'посёлок городского типа Тайцы',\n",
       "       'деревня Малое Верево', 'поселок станции Вещево',\n",
       "       'деревня Калитино', 'посёлок городского типа Ульяновка',\n",
       "       'деревня Чудской Бор', 'поселок городского типа Дубровка',\n",
       "       'деревня Мины', 'поселок Войсковицы',\n",
       "       'посёлок городского типа имени Свердлова', 'деревня Коркино',\n",
       "       'посёлок Ропша', 'поселок городского типа Приладожский',\n",
       "       'посёлок Щеглово', 'посёлок Гаврилово', 'Лодейное Поле',\n",
       "       'Пикалёво', 'деревня Рабитицы', 'деревня Кузьмолово',\n",
       "       'деревня Малые Колпаны', 'поселок Тельмана',\n",
       "       'городской посёлок Назия', 'посёлок Репино',\n",
       "       'городской посёлок Павлово', 'посёлок Ильичёво', 'поселок Углово',\n",
       "       'поселок Старая Малукса', 'садовое товарищество Рахья',\n",
       "       'поселок Аннино', 'поселок Победа', 'деревня Меньково',\n",
       "       'деревня Старые Бегуницы', 'посёлок Сапёрный', 'поселок Семрино',\n",
       "       'поселок Гаврилово', 'поселок Глажево', 'поселок Кобринское',\n",
       "       'деревня Гарболово', 'деревня Юкки',\n",
       "       'поселок станции Приветнинское', 'деревня Мануйлово',\n",
       "       'поселок Поляны', 'поселок Цвылёво', 'поселок Мельниково',\n",
       "       'посёлок Плодовое', 'посёлок Пудость', 'посёлок Усть-Луга',\n",
       "       'Светогорск', 'посёлок Победа', 'Любань', 'поселок Селезнёво',\n",
       "       'поселок городского типа Рябово', 'Каменногорск', 'деревня Кривко',\n",
       "       'деревня Парицы', 'поселок Жилпосёлок',\n",
       "       'посёлок городского типа Мга', 'городской поселок Янино-1',\n",
       "       'посёлок Войскорово', 'село Никольское', 'посёлок Терволово',\n",
       "       'поселок Стеклянный', 'посёлок Мыза-Ивановка',\n",
       "       'село Русско-Высоцкое', 'поселок городского типа Лебяжье',\n",
       "       'поселок городского типа Форносово', 'поселок Житково',\n",
       "       'поселок городского типа Красный Бор', 'городской посёлок Виллози',\n",
       "       'деревня Шпаньково', 'посёлок Сумино', 'посёлок Возрождение',\n",
       "       'деревня Старосиверская', 'посёлок Кикерино',\n",
       "       'поселок Возрождение', 'деревня Старое Хинколово',\n",
       "       'посёлок Пригородный', 'посёлок Торфяное',\n",
       "       'городской посёлок Будогощь', 'поселок Суходолье',\n",
       "       'поселок Красная Долина', 'деревня Хапо-Ое',\n",
       "       'поселок городского типа Дружная Горка', 'деревня Извара',\n",
       "       'поселок Лисий Нос', 'деревня Яльгелево', 'посёлок Стеклянный',\n",
       "       'село Рождествено', 'деревня Сяськелево', 'деревня Камышовка',\n",
       "       'садоводческое некоммерческое товарищество Лесная Поляна',\n",
       "       'поселок Жилгородок', 'посёлок городского типа Павлово',\n",
       "       'деревня Ялгино', 'деревня Батово', 'поселок Новый Учхоз',\n",
       "       'поселок Гончарово', 'поселок Почап', 'посёлок Сапёрное',\n",
       "       'посёлок Платформа 69-й километр', 'поселок Каложицы',\n",
       "       'деревня Фалилеево', 'деревня Пельгора',\n",
       "       'поселок городского типа Лесогорский', 'деревня Торошковичи',\n",
       "       'посёлок Белоостров', 'посёлок Алексеевка',\n",
       "       'посёлок городского типа Важины', 'поселок Глебычево',\n",
       "       'поселок Лукаши', 'поселок Петровское', 'деревня Щеглово',\n",
       "       'поселок Мичуринское', 'городской посёлок Рощино',\n",
       "       'поселок городского типа Никольский', 'поселок Кингисеппский',\n",
       "       'посёлок при железнодорожной станции Вещево', 'поселок Ушаки',\n",
       "       'деревня Старополье', 'деревня Котлы', 'деревня Сижно',\n",
       "       'деревня Лампово', 'деревня Торосово',\n",
       "       'посёлок Форт Красная Горка', 'поселок городского типа Токсово',\n",
       "       'деревня Новолисино', 'посёлок станции Громово',\n",
       "       'поселок городского типа Ефимовский', 'деревня Глинка',\n",
       "       'посёлок Мельниково', 'поселок городского типа Назия',\n",
       "       'деревня Старая Пустошь', 'поселок Коммунары', 'поселок Починок',\n",
       "       'посёлок городского типа Вознесенье', 'деревня Разбегаево',\n",
       "       'посёлок городского типа Рябово', 'поселок Гладкое',\n",
       "       'посёлок при железнодорожной станции Приветнинское',\n",
       "       'поселок Тёсово-4', 'посёлок Жилгородок', 'деревня Бор',\n",
       "       'посёлок Коробицыно', 'деревня Большая Вруда', 'деревня Курковицы',\n",
       "       'посёлок Лисий Нос', 'поселок Серебрянский',\n",
       "       'городской посёлок Советский', 'посёлок Кобралово',\n",
       "       'поселок Кобралово', 'поселок городского типа Кондратьево',\n",
       "       'село Копорье', 'коттеджный поселок Счастье', 'поселок Любань',\n",
       "       'деревня Реброво', 'деревня Зимитицы', 'деревня Тойворово',\n",
       "       'поселок Семиозерье', 'поселок Лесное', 'поселок Совхозный',\n",
       "       'поселок Усть-Луга', 'посёлок Суйда',\n",
       "       'посёлок городского типа Форносово', 'деревня Нижние Осельки',\n",
       "       'поселок Перово', 'Высоцк', 'поселок Гарболово', 'село Шум',\n",
       "       'поселок Котельский', 'посёлок Ленинское',\n",
       "       'деревня Большая Пустомержа', 'деревня Пижма',\n",
       "       'коттеджный поселок Кивеннапа Север', 'поселок Коробицыно',\n",
       "       'поселок Ромашки', 'деревня Каськово', 'деревня Куровицы',\n",
       "       'поселок Сумино', 'поселок городского типа Большая Ижора',\n",
       "       'поселок Кирпичное', 'деревня Ям-Тесово', 'деревня Терпилицы',\n",
       "       'посёлок Шугозеро', 'деревня Ваганово', 'поселок Пушное',\n",
       "       'садовое товарищество Садко', 'деревня Выскатка',\n",
       "       'поселок Громово', 'посёлок станции Свирь', 'деревня Кисельня',\n",
       "       'село Старая Ладога', 'посёлок Старая Малукса',\n",
       "       'деревня Трубников Бор', 'поселок Калитино',\n",
       "       'посёлок Высокоключевой', 'садовое товарищество Приладожский',\n",
       "       'посёлок Пансионат Зелёный Бор', 'посёлок Перово',\n",
       "       'деревня Ненимяки', 'поселок Пансионат Зелёный Бор',\n",
       "       'деревня Снегирёвка', 'деревня Рапполово', 'деревня Пустынка',\n",
       "       'поселок Рабитицы', 'деревня Большой Сабск', 'посёлок Усть-Ижора',\n",
       "       'деревня Лупполово', 'деревня Большое Рейзино',\n",
       "       'деревня Малая Романовка', 'деревня Суоранда',\n",
       "       'поселок Дружноселье', 'село Паша', 'поселок Володарское',\n",
       "       'деревня Нижняя', 'коттеджный посёлок Лесное', 'деревня Тихковицы',\n",
       "       'деревня Борисова Грива', 'посёлок Дзержинского'], dtype=object)"
      ]
     },
     "execution_count": 20,
     "metadata": {},
     "output_type": "execute_result"
    }
   ],
   "source": [
    "data['locality_name'].unique() #поиск уникальных значений столбца с названиями населенных пунктов"
   ]
  },
  {
   "cell_type": "code",
   "execution_count": 21,
   "id": "36f1cd9f",
   "metadata": {},
   "outputs": [
    {
     "data": {
      "text/plain": [
       "349"
      ]
     },
     "execution_count": 21,
     "metadata": {},
     "output_type": "execute_result"
    }
   ],
   "source": [
    "len(data['locality_name'].unique()) #чтобы в конце было с чем сравнить "
   ]
  },
  {
   "cell_type": "code",
   "execution_count": 22,
   "id": "a6318b22",
   "metadata": {
    "scrolled": true
   },
   "outputs": [
    {
     "data": {
      "text/plain": [
       "318"
      ]
     },
     "execution_count": 22,
     "metadata": {},
     "output_type": "execute_result"
    }
   ],
   "source": [
    "data['locality_name'] = data['locality_name'].replace('городской посёлок Янино-1', 'городской поселок Янино-1' )\n",
    "data['locality_name'] = data['locality_name'].replace('посёлок Мурино', 'Мурино')\n",
    "data['locality_name'] = data['locality_name'].replace('поселок Мурино','Мурино')\n",
    "data['locality_name'] = data['locality_name'].replace('деревня Кудрово', 'Кудрово')\n",
    "data['locality_name'] = data['locality_name'].replace('поселок Коммунары', 'Коммунар')\n",
    "data['locality_name'] = data['locality_name'].replace('посёлок городского типа Красный Бор', 'поселок городского типа Красный Бор')\n",
    "data['locality_name'] = data['locality_name'].replace('деревня Фёдоровское', 'городской посёлок Фёдоровское')\n",
    "data['locality_name'] = data['locality_name'].replace('посёлок городского типа Лебяжье', 'поселок городского типа Лебяжье')\n",
    "data['locality_name'] = data['locality_name'].replace('посёлок городского типа Кузьмоловский', 'деревня Кузьмолово')\n",
    "data['locality_name'] = data['locality_name'].replace('поселок городского типа Кузьмоловский', 'деревня Кузьмолово') \n",
    "data['locality_name'] = data['locality_name'].replace('поселок Кингисеппский','Кингисепп')\n",
    "data['locality_name'] = data['locality_name'].replace('посёлок Аннино', 'поселок Аннино')\n",
    "data['locality_name'] = data['locality_name'].replace('посёлок Новый Свет', 'поселок Новый Свет')\n",
    "data['locality_name'] = data['locality_name'].replace('село Никольское', 'Никольское')\n",
    "data['locality_name'] = data['locality_name'].replace('посёлок Бугры', 'поселок Бугры')\n",
    "data['locality_name'] = data['locality_name'].replace('посёлок городского типа Рощино','поселок городского типа Рощино')\n",
    "data['locality_name'] = data['locality_name'].replace('городской посёлок Рощино','поселок городского типа Рощино')\n",
    "data['locality_name'] = data['locality_name'].replace('посёлок Усть-Луга','поселок Усть-Луга')\n",
    "data['locality_name'] = data['locality_name'].replace('посёлок городского типа Павлово', 'село Павлово')\n",
    "data['locality_name'] = data['locality_name'].replace('городской посёлок Павлово', 'село Павлово')\n",
    "data['locality_name'] = data['locality_name'].replace('посёлок Победа','поселок Победа')\n",
    "data['locality_name'] = data['locality_name'].replace('посёлок Терволово','поселок Терволово')\n",
    "data['locality_name'] = data['locality_name'].replace('городской посёлок Советский',  'поселок городского типа Советский')\n",
    "data['locality_name'] = data['locality_name'].replace('посёлок Петровское','поселок Петровское')\n",
    "data['locality_name'] = data['locality_name'].replace('посёлок городского типа Токсово','поселок городского типа Токсово')\n",
    "data['locality_name'] = data['locality_name'].replace('посёлок городского типа Вырица','поселок городского типа Вырица')\n",
    "data['locality_name'] = data['locality_name'].replace('посёлок Тельмана', 'поселок Тельмана')\n",
    "data['locality_name'] = data['locality_name'].replace('поселок городского типа Большая Ижора', 'городской поселок Большая Ижора')\n",
    "data['locality_name'] = data['locality_name'].replace('городской посёлок Лесогорский', 'поселок городского типа Лесогорский')\n",
    "data['locality_name'] = data['locality_name'].replace('садовое товарищество Рахья','поселок городского типа Рахья')\n",
    "data['locality_name'] = data['locality_name'].replace('посёлок Гаврилово', 'поселок Гаврилово')\n",
    "len(data['locality_name'].unique()) #теперь выясним сколько стало уникальных значений 'locality_name'"
   ]
  },
  {
   "cell_type": "markdown",
   "id": "82cecd21",
   "metadata": {},
   "source": [
    "Изменения есть - значит не зря я потратила несколько часов. Мне пытались рассказать какой-то волшебный метод в питоне, который решил бы данную проблему проще, но.... там выше я уже обьяснила"
   ]
  },
  {
   "cell_type": "markdown",
   "id": "88bf67b1",
   "metadata": {},
   "source": [
    "## Выбивающиеся значения"
   ]
  },
  {
   "cell_type": "code",
   "execution_count": 23,
   "id": "a410b2e8",
   "metadata": {},
   "outputs": [
    {
     "data": {
      "text/plain": [
       "array([  1.  ,   1.2 ,   1.75,   2.  ,   2.2 ,   2.25,   2.3 ,   2.4 ,\n",
       "         2.45,   2.46,   2.47,   2.48,   2.49,   2.5 ,   2.51,   2.52,\n",
       "         2.53,   2.54,   2.55,   2.56,   2.57,   2.58,   2.59,   2.6 ,\n",
       "         2.61,   2.62,   2.63,   2.64,   2.65,   2.66,   2.67,   2.68,\n",
       "         2.69,   2.7 ,   2.71,   2.72,   2.73,   2.74,   2.75,   2.76,\n",
       "         2.77,   2.78,   2.79,   2.8 ,   2.81,   2.82,   2.83,   2.84,\n",
       "         2.85,   2.86,   2.87,   2.88,   2.89,   2.9 ,   2.91,   2.92,\n",
       "         2.93,   2.94,   2.95,   2.96,   2.97,   2.98,   3.  ,   3.01,\n",
       "         3.02,   3.03,   3.04,   3.05,   3.06,   3.07,   3.08,   3.09,\n",
       "         3.1 ,   3.11,   3.12,   3.13,   3.14,   3.15,   3.16,   3.17,\n",
       "         3.18,   3.2 ,   3.21,   3.22,   3.23,   3.24,   3.25,   3.26,\n",
       "         3.27,   3.28,   3.29,   3.3 ,   3.31,   3.32,   3.33,   3.34,\n",
       "         3.35,   3.36,   3.37,   3.38,   3.39,   3.4 ,   3.42,   3.43,\n",
       "         3.44,   3.45,   3.46,   3.47,   3.48,   3.49,   3.5 ,   3.51,\n",
       "         3.52,   3.53,   3.54,   3.55,   3.56,   3.57,   3.58,   3.59,\n",
       "         3.6 ,   3.62,   3.63,   3.65,   3.66,   3.67,   3.68,   3.7 ,\n",
       "         3.75,   3.76,   3.78,   3.8 ,   3.82,   3.83,   3.84,   3.85,\n",
       "         3.86,   3.87,   3.88,   3.9 ,   3.93,   3.95,   3.98,   4.  ,\n",
       "         4.06,   4.1 ,   4.15,   4.19,   4.2 ,   4.25,   4.3 ,   4.37,\n",
       "         4.4 ,   4.45,   4.5 ,   4.65,   4.7 ,   4.8 ,   4.9 ,   5.2 ,\n",
       "         5.3 ,   5.5 ,   5.8 ,   6.  ,   8.  ,   8.3 ,  10.3 ,  14.  ,\n",
       "        20.  ,  22.6 ,  24.  ,  25.  ,  26.  ,  27.  ,  27.5 ,  32.  ,\n",
       "       100.  ,    nan])"
      ]
     },
     "execution_count": 23,
     "metadata": {},
     "output_type": "execute_result"
    }
   ],
   "source": [
    "data['ceiling_height'].sort_values().unique()\n",
    "#проверим уникальные значения потолков и отсортируем в порядке возрастания"
   ]
  },
  {
   "cell_type": "markdown",
   "id": "e4110165",
   "metadata": {},
   "source": [
    "Из полученных данных можно сразу же догадаться, что сверхвысоких и сверхнизких потолков не бывает, поэтому строчки с такими значениями лучше вовсе удалить"
   ]
  },
  {
   "cell_type": "code",
   "execution_count": 24,
   "id": "fabd7f56",
   "metadata": {},
   "outputs": [],
   "source": [
    "import matplotlib.pyplot as plt"
   ]
  },
  {
   "cell_type": "code",
   "execution_count": 25,
   "id": "4acab9e2",
   "metadata": {},
   "outputs": [
    {
     "data": {
      "image/png": "[encoded data removed]",
      "text/plain": [
       "<Figure size 432x288 with 1 Axes>"
      ]
     },
     "metadata": {
      "needs_background": "light"
     },
     "output_type": "display_data"
    }
   ],
   "source": [
    "data.boxplot(column ='ceiling_height')\n",
    "plt.ylim(2.2, 3)\n",
    "plt.show()"
   ]
  },
  {
   "cell_type": "code",
   "execution_count": 26,
   "id": "7d054c82",
   "metadata": {},
   "outputs": [],
   "source": [
    "data = data.loc[(data['ceiling_height'] != 100)& #удалим значения высотой 100\n",
    "                (data['ceiling_height'] != 1)&  #удалим значения высотой 1\n",
    "                (data['ceiling_height'] != 20)&  #удалим значения высотой 20\n",
    "                (data['ceiling_height'] != 10.3)& #удалим значения высотой 10.3 \n",
    "                (data['ceiling_height'] != 1.2)&  #удалим значения высотой 1.2\n",
    "                (data['ceiling_height'] != 14)&   #удалим значения высотой 14              \n",
    "                (data['ceiling_height'] != 2)& #удалим значения высотой 2\n",
    "                (data['ceiling_height'] != 8)& #удалим значения высотой 8\n",
    "                (data['ceiling_height'] != 8.3)& #удалим значения высотой 8.3\n",
    "                (data['ceiling_height'] != 1.75)] #удалим значения высотой 1.75"
   ]
  },
  {
   "cell_type": "code",
   "execution_count": 27,
   "id": "7f6d6352",
   "metadata": {
    "scrolled": true
   },
   "outputs": [
    {
     "data": {
      "text/plain": [
       "array([ 2.2 ,  2.25,  2.3 ,  2.4 ,  2.45,  2.46,  2.47,  2.48,  2.49,\n",
       "        2.5 ,  2.51,  2.52,  2.53,  2.54,  2.55,  2.56,  2.57,  2.58,\n",
       "        2.59,  2.6 ,  2.61,  2.62,  2.63,  2.64,  2.65,  2.66,  2.67,\n",
       "        2.68,  2.69,  2.7 ,  2.71,  2.72,  2.73,  2.74,  2.75,  2.76,\n",
       "        2.77,  2.78,  2.79,  2.8 ,  2.81,  2.82,  2.83,  2.84,  2.85,\n",
       "        2.86,  2.87,  2.88,  2.89,  2.9 ,  2.91,  2.92,  2.93,  2.94,\n",
       "        2.95,  2.96,  2.97,  2.98,  3.  ,  3.01,  3.02,  3.03,  3.04,\n",
       "        3.05,  3.06,  3.07,  3.08,  3.09,  3.1 ,  3.11,  3.12,  3.13,\n",
       "        3.14,  3.15,  3.16,  3.17,  3.18,  3.2 ,  3.21,  3.22,  3.23,\n",
       "        3.24,  3.25,  3.26,  3.27,  3.28,  3.29,  3.3 ,  3.31,  3.32,\n",
       "        3.33,  3.34,  3.35,  3.36,  3.37,  3.38,  3.39,  3.4 ,  3.42,\n",
       "        3.43,  3.44,  3.45,  3.46,  3.47,  3.48,  3.49,  3.5 ,  3.51,\n",
       "        3.52,  3.53,  3.54,  3.55,  3.56,  3.57,  3.58,  3.59,  3.6 ,\n",
       "        3.62,  3.63,  3.65,  3.66,  3.67,  3.68,  3.7 ,  3.75,  3.76,\n",
       "        3.78,  3.8 ,  3.82,  3.83,  3.84,  3.85,  3.86,  3.87,  3.88,\n",
       "        3.9 ,  3.93,  3.95,  3.98,  4.  ,  4.06,  4.1 ,  4.15,  4.19,\n",
       "        4.2 ,  4.25,  4.3 ,  4.37,  4.4 ,  4.45,  4.5 ,  4.65,  4.7 ,\n",
       "        4.8 ,  4.9 ,  5.2 ,  5.3 ,  5.5 ,  5.8 ,  6.  , 22.6 , 24.  ,\n",
       "       25.  , 26.  , 27.  , 27.5 , 32.  ,   nan])"
      ]
     },
     "execution_count": 27,
     "metadata": {},
     "output_type": "execute_result"
    }
   ],
   "source": [
    "data['ceiling_height'].sort_values().unique() #проверка изменений"
   ]
  },
  {
   "cell_type": "markdown",
   "id": "62e31805",
   "metadata": {},
   "source": [
    "Значения высоты потолков больше 10м рязделим на 10 т.к. вероятно, что в таких числах ошибка в порядке значений"
   ]
  },
  {
   "cell_type": "code",
   "execution_count": 28,
   "id": "25fb5095",
   "metadata": {},
   "outputs": [],
   "source": [
    "data['ceiling_height'] = data['ceiling_height'].where(data['ceiling_height']<10, data['ceiling_height']/10, axis=0) \n"
   ]
  },
  {
   "cell_type": "markdown",
   "id": "5f5bdd86",
   "metadata": {},
   "source": [
    "Проверим резутьтат выполнения"
   ]
  },
  {
   "cell_type": "code",
   "execution_count": 29,
   "id": "f983c857",
   "metadata": {},
   "outputs": [
    {
     "data": {
      "text/plain": [
       "array([2.2 , 2.25, 2.26, 2.3 , 2.4 , 2.45, 2.46, 2.47, 2.48, 2.49, 2.5 ,\n",
       "       2.51, 2.52, 2.53, 2.54, 2.55, 2.56, 2.57, 2.58, 2.59, 2.6 , 2.61,\n",
       "       2.62, 2.63, 2.64, 2.65, 2.66, 2.67, 2.68, 2.69, 2.7 , 2.71, 2.72,\n",
       "       2.73, 2.74, 2.75, 2.76, 2.77, 2.78, 2.79, 2.8 , 2.81, 2.82, 2.83,\n",
       "       2.84, 2.85, 2.86, 2.87, 2.88, 2.89, 2.9 , 2.91, 2.92, 2.93, 2.94,\n",
       "       2.95, 2.96, 2.97, 2.98, 3.  , 3.01, 3.02, 3.03, 3.04, 3.05, 3.06,\n",
       "       3.07, 3.08, 3.09, 3.1 , 3.11, 3.12, 3.13, 3.14, 3.15, 3.16, 3.17,\n",
       "       3.18, 3.2 , 3.21, 3.22, 3.23, 3.24, 3.25, 3.26, 3.27, 3.28, 3.29,\n",
       "       3.3 , 3.31, 3.32, 3.33, 3.34, 3.35, 3.36, 3.37, 3.38, 3.39, 3.4 ,\n",
       "       3.42, 3.43, 3.44, 3.45, 3.46, 3.47, 3.48, 3.49, 3.5 , 3.51, 3.52,\n",
       "       3.53, 3.54, 3.55, 3.56, 3.57, 3.58, 3.59, 3.6 , 3.62, 3.63, 3.65,\n",
       "       3.66, 3.67, 3.68, 3.7 , 3.75, 3.76, 3.78, 3.8 , 3.82, 3.83, 3.84,\n",
       "       3.85, 3.86, 3.87, 3.88, 3.9 , 3.93, 3.95, 3.98, 4.  , 4.06, 4.1 ,\n",
       "       4.15, 4.19, 4.2 , 4.25, 4.3 , 4.37, 4.4 , 4.45, 4.5 , 4.65, 4.7 ,\n",
       "       4.8 , 4.9 , 5.2 , 5.3 , 5.5 , 5.8 , 6.  ,  nan])"
      ]
     },
     "execution_count": 29,
     "metadata": {},
     "output_type": "execute_result"
    }
   ],
   "source": [
    "data['ceiling_height'].sort_values().unique() #проверка изменений"
   ]
  },
  {
   "cell_type": "markdown",
   "id": "6e8ac17c",
   "metadata": {},
   "source": [
    "Теперь можно заполнить пропуски медианным значением потолков (здесь я беру медиану потому что высокие потолки могут быть в каком-нибудь особняке, а их не так много, поэтому более приближенна к истине здесь будет медиана всех потолков.\n",
    "\n",
    "(еще был вариант заменить на стандартное значение, но отличаются годы построек и типы зданий и этот вариант не подходит)"
   ]
  },
  {
   "cell_type": "code",
   "execution_count": 30,
   "id": "26bf8735",
   "metadata": {},
   "outputs": [],
   "source": [
    "data['ceiling_height'] = data['ceiling_height'].fillna(data['ceiling_height'].median())\n",
    "#пустые значения высоты потолков заполним медианным значением"
   ]
  },
  {
   "cell_type": "code",
   "execution_count": 31,
   "id": "43ed1b55",
   "metadata": {
    "scrolled": true
   },
   "outputs": [
    {
     "data": {
      "text/plain": [
       "array([16., 11.,  5., 14., 12., 26., 27.,  9.,  6., 17., 25.,  3., 23.,\n",
       "       19., 18.,  4., 24.,  8.,  2., 10.,  7., 15., 22., nan, 13., 20.,\n",
       "       28., 36., 21., 35., 34., 60.,  1., 29., 33., 52.])"
      ]
     },
     "execution_count": 31,
     "metadata": {},
     "output_type": "execute_result"
    }
   ],
   "source": [
    "data['floors_total'].unique()"
   ]
  },
  {
   "cell_type": "markdown",
   "id": "03e0e879",
   "metadata": {},
   "source": [
    "<div class=\"alert alert-info\"> <b>Комментарии студента:</b> изменила тип данных (пункт 2.4.5). Просто чтобы логику не нарушать типа данных добавила к заголовку Изменение типа данных. \n",
    "    \n",
    "<b> Не подскажешь как в маркдауне ссылаться на содержание? </b>"
   ]
  },
  {
   "cell_type": "markdown",
   "id": "7f9bff20",
   "metadata": {},
   "source": [
    "## Проверка на дубликаты"
   ]
  },
  {
   "cell_type": "code",
   "execution_count": 32,
   "id": "0c384acc",
   "metadata": {},
   "outputs": [
    {
     "data": {
      "text/plain": [
       "0"
      ]
     },
     "execution_count": 32,
     "metadata": {},
     "output_type": "execute_result"
    }
   ],
   "source": [
    "data.duplicated().sum()"
   ]
  },
  {
   "cell_type": "markdown",
   "id": "29cbaaef",
   "metadata": {},
   "source": [
    "# Добавление новых столбцов"
   ]
  },
  {
   "cell_type": "markdown",
   "id": "a26b9dac",
   "metadata": {},
   "source": [
    "## Цена одного квадратного метра"
   ]
  },
  {
   "cell_type": "markdown",
   "id": "acd9a9fc",
   "metadata": {},
   "source": [
    "Разделим столбец со стоймостью на столбец с ценой и сразу переведем в целочисленные значения, получив стоймость одного квадратного метра каждого объекта"
   ]
  },
  {
   "cell_type": "code",
   "execution_count": 33,
   "id": "30e4586c",
   "metadata": {},
   "outputs": [],
   "source": [
    "data['price_metre'] = (data['last_price']/data['total_area']).astype('int') "
   ]
  },
  {
   "cell_type": "markdown",
   "id": "767781af",
   "metadata": {},
   "source": [
    "## День недели публикации"
   ]
  },
  {
   "cell_type": "markdown",
   "id": "1e2b4d8c",
   "metadata": {},
   "source": [
    "Добавим столбец с номером дня недели публикации объявления (0-понедельник)"
   ]
  },
  {
   "cell_type": "code",
   "execution_count": 34,
   "id": "72f0fbb3",
   "metadata": {},
   "outputs": [],
   "source": [
    "data['weekday_puplication'] = data['first_day_exposition'].dt.weekday "
   ]
  },
  {
   "cell_type": "markdown",
   "id": "8bcc0f2b",
   "metadata": {},
   "source": [
    "## Месяц публиикации"
   ]
  },
  {
   "cell_type": "markdown",
   "id": "ab4f53d1",
   "metadata": {},
   "source": [
    "Добавим столбец с номером меясца публикации объявления"
   ]
  },
  {
   "cell_type": "code",
   "execution_count": 35,
   "id": "cbe2fe81",
   "metadata": {},
   "outputs": [],
   "source": [
    "data['month_puplication'] = data['first_day_exposition'].dt.month"
   ]
  },
  {
   "cell_type": "markdown",
   "id": "ff4beb85",
   "metadata": {},
   "source": [
    "## Год публикации"
   ]
  },
  {
   "cell_type": "markdown",
   "id": "95bb9af4",
   "metadata": {},
   "source": [
    "Добавим столбец с номером года публикации объявления"
   ]
  },
  {
   "cell_type": "code",
   "execution_count": 36,
   "id": "bf2539be",
   "metadata": {},
   "outputs": [],
   "source": [
    "data['year_puplication'] = data['first_day_exposition'].dt.year"
   ]
  },
  {
   "cell_type": "markdown",
   "id": "21b851f3",
   "metadata": {},
   "source": [
    "## Тип этажа квартиры"
   ]
  },
  {
   "cell_type": "code",
   "execution_count": 37,
   "id": "c7470d20",
   "metadata": {},
   "outputs": [],
   "source": [
    "def type_floor(row): #объявим функцию для категоризации этажей\n",
    "    try:\n",
    "        if row['floor'] == 1: #если этаж равен 1, то категория \"первый\"\n",
    "            return 'первый'\n",
    "        elif row['floor'] == row['floors_total']: #если этаж равен высоте дома, то категория \"последний\"\n",
    "            return 'последний'\n",
    "        elif 1 < row['floor'] < row['floors_total']: #если этаж и не первыйи не последний, то категория \"другие\"\n",
    "            return 'другой'\n",
    "    except: #иначе-пропустить\n",
    "        pass"
   ]
  },
  {
   "cell_type": "code",
   "execution_count": 38,
   "id": "4e7d7df2",
   "metadata": {},
   "outputs": [
    {
     "data": {
      "text/html": [
       "<div>\n",
       "<style scoped>\n",
       "    .dataframe tbody tr th:only-of-type {\n",
       "        vertical-align: middle;\n",
       "    }\n",
       "\n",
       "    .dataframe tbody tr th {\n",
       "        vertical-align: top;\n",
       "    }\n",
       "\n",
       "    .dataframe thead th {\n",
       "        text-align: right;\n",
       "    }\n",
       "</style>\n",
       "<table border=\"1\" class=\"dataframe\">\n",
       "  <thead>\n",
       "    <tr style=\"text-align: right;\">\n",
       "      <th></th>\n",
       "      <th>last_price</th>\n",
       "      <th>total_area</th>\n",
       "      <th>first_day_exposition</th>\n",
       "      <th>rooms</th>\n",
       "      <th>ceiling_height</th>\n",
       "      <th>floors_total</th>\n",
       "      <th>living_area</th>\n",
       "      <th>floor</th>\n",
       "      <th>is_apartment</th>\n",
       "      <th>studio</th>\n",
       "      <th>...</th>\n",
       "      <th>parks_around3000</th>\n",
       "      <th>parks_nearest</th>\n",
       "      <th>ponds_around3000</th>\n",
       "      <th>ponds_nearest</th>\n",
       "      <th>days_exposition</th>\n",
       "      <th>price_metre</th>\n",
       "      <th>weekday_puplication</th>\n",
       "      <th>month_puplication</th>\n",
       "      <th>year_puplication</th>\n",
       "      <th>type_floor</th>\n",
       "    </tr>\n",
       "    <tr>\n",
       "      <th>total_images</th>\n",
       "      <th></th>\n",
       "      <th></th>\n",
       "      <th></th>\n",
       "      <th></th>\n",
       "      <th></th>\n",
       "      <th></th>\n",
       "      <th></th>\n",
       "      <th></th>\n",
       "      <th></th>\n",
       "      <th></th>\n",
       "      <th></th>\n",
       "      <th></th>\n",
       "      <th></th>\n",
       "      <th></th>\n",
       "      <th></th>\n",
       "      <th></th>\n",
       "      <th></th>\n",
       "      <th></th>\n",
       "      <th></th>\n",
       "      <th></th>\n",
       "      <th></th>\n",
       "    </tr>\n",
       "  </thead>\n",
       "  <tbody>\n",
       "    <tr>\n",
       "      <th>20</th>\n",
       "      <td>13000000</td>\n",
       "      <td>108.00</td>\n",
       "      <td>2019-03-07</td>\n",
       "      <td>3</td>\n",
       "      <td>2.70</td>\n",
       "      <td>16.0</td>\n",
       "      <td>51.0</td>\n",
       "      <td>8</td>\n",
       "      <td>NaN</td>\n",
       "      <td>False</td>\n",
       "      <td>...</td>\n",
       "      <td>1.0</td>\n",
       "      <td>482.0</td>\n",
       "      <td>2.0</td>\n",
       "      <td>755.0</td>\n",
       "      <td>95</td>\n",
       "      <td>120370</td>\n",
       "      <td>3</td>\n",
       "      <td>3</td>\n",
       "      <td>2019</td>\n",
       "      <td>другой</td>\n",
       "    </tr>\n",
       "    <tr>\n",
       "      <th>7</th>\n",
       "      <td>3350000</td>\n",
       "      <td>40.40</td>\n",
       "      <td>2018-12-04</td>\n",
       "      <td>1</td>\n",
       "      <td>2.65</td>\n",
       "      <td>11.0</td>\n",
       "      <td>18.6</td>\n",
       "      <td>1</td>\n",
       "      <td>NaN</td>\n",
       "      <td>False</td>\n",
       "      <td>...</td>\n",
       "      <td>0.0</td>\n",
       "      <td>NaN</td>\n",
       "      <td>0.0</td>\n",
       "      <td>NaN</td>\n",
       "      <td>81</td>\n",
       "      <td>82920</td>\n",
       "      <td>1</td>\n",
       "      <td>12</td>\n",
       "      <td>2018</td>\n",
       "      <td>первый</td>\n",
       "    </tr>\n",
       "    <tr>\n",
       "      <th>10</th>\n",
       "      <td>5196000</td>\n",
       "      <td>56.00</td>\n",
       "      <td>2015-08-20</td>\n",
       "      <td>2</td>\n",
       "      <td>2.65</td>\n",
       "      <td>5.0</td>\n",
       "      <td>34.3</td>\n",
       "      <td>4</td>\n",
       "      <td>NaN</td>\n",
       "      <td>False</td>\n",
       "      <td>...</td>\n",
       "      <td>1.0</td>\n",
       "      <td>90.0</td>\n",
       "      <td>2.0</td>\n",
       "      <td>574.0</td>\n",
       "      <td>558</td>\n",
       "      <td>92785</td>\n",
       "      <td>3</td>\n",
       "      <td>8</td>\n",
       "      <td>2015</td>\n",
       "      <td>другой</td>\n",
       "    </tr>\n",
       "    <tr>\n",
       "      <th>2</th>\n",
       "      <td>10000000</td>\n",
       "      <td>100.00</td>\n",
       "      <td>2018-06-19</td>\n",
       "      <td>2</td>\n",
       "      <td>3.03</td>\n",
       "      <td>14.0</td>\n",
       "      <td>32.0</td>\n",
       "      <td>13</td>\n",
       "      <td>NaN</td>\n",
       "      <td>False</td>\n",
       "      <td>...</td>\n",
       "      <td>2.0</td>\n",
       "      <td>112.0</td>\n",
       "      <td>1.0</td>\n",
       "      <td>48.0</td>\n",
       "      <td>121</td>\n",
       "      <td>100000</td>\n",
       "      <td>1</td>\n",
       "      <td>6</td>\n",
       "      <td>2018</td>\n",
       "      <td>другой</td>\n",
       "    </tr>\n",
       "    <tr>\n",
       "      <th>10</th>\n",
       "      <td>2890000</td>\n",
       "      <td>30.40</td>\n",
       "      <td>2018-09-10</td>\n",
       "      <td>1</td>\n",
       "      <td>2.65</td>\n",
       "      <td>12.0</td>\n",
       "      <td>14.4</td>\n",
       "      <td>5</td>\n",
       "      <td>NaN</td>\n",
       "      <td>False</td>\n",
       "      <td>...</td>\n",
       "      <td>NaN</td>\n",
       "      <td>NaN</td>\n",
       "      <td>NaN</td>\n",
       "      <td>NaN</td>\n",
       "      <td>55</td>\n",
       "      <td>95065</td>\n",
       "      <td>0</td>\n",
       "      <td>9</td>\n",
       "      <td>2018</td>\n",
       "      <td>другой</td>\n",
       "    </tr>\n",
       "    <tr>\n",
       "      <th>...</th>\n",
       "      <td>...</td>\n",
       "      <td>...</td>\n",
       "      <td>...</td>\n",
       "      <td>...</td>\n",
       "      <td>...</td>\n",
       "      <td>...</td>\n",
       "      <td>...</td>\n",
       "      <td>...</td>\n",
       "      <td>...</td>\n",
       "      <td>...</td>\n",
       "      <td>...</td>\n",
       "      <td>...</td>\n",
       "      <td>...</td>\n",
       "      <td>...</td>\n",
       "      <td>...</td>\n",
       "      <td>...</td>\n",
       "      <td>...</td>\n",
       "      <td>...</td>\n",
       "      <td>...</td>\n",
       "      <td>...</td>\n",
       "      <td>...</td>\n",
       "    </tr>\n",
       "    <tr>\n",
       "      <th>9</th>\n",
       "      <td>4600000</td>\n",
       "      <td>62.40</td>\n",
       "      <td>2016-08-05</td>\n",
       "      <td>3</td>\n",
       "      <td>2.60</td>\n",
       "      <td>9.0</td>\n",
       "      <td>40.0</td>\n",
       "      <td>8</td>\n",
       "      <td>NaN</td>\n",
       "      <td>False</td>\n",
       "      <td>...</td>\n",
       "      <td>1.0</td>\n",
       "      <td>352.0</td>\n",
       "      <td>1.0</td>\n",
       "      <td>675.0</td>\n",
       "      <td>239</td>\n",
       "      <td>73717</td>\n",
       "      <td>4</td>\n",
       "      <td>8</td>\n",
       "      <td>2016</td>\n",
       "      <td>другой</td>\n",
       "    </tr>\n",
       "    <tr>\n",
       "      <th>9</th>\n",
       "      <td>9700000</td>\n",
       "      <td>133.81</td>\n",
       "      <td>2017-03-21</td>\n",
       "      <td>3</td>\n",
       "      <td>3.70</td>\n",
       "      <td>5.0</td>\n",
       "      <td>73.3</td>\n",
       "      <td>3</td>\n",
       "      <td>NaN</td>\n",
       "      <td>False</td>\n",
       "      <td>...</td>\n",
       "      <td>1.0</td>\n",
       "      <td>796.0</td>\n",
       "      <td>3.0</td>\n",
       "      <td>381.0</td>\n",
       "      <td>95</td>\n",
       "      <td>72490</td>\n",
       "      <td>1</td>\n",
       "      <td>3</td>\n",
       "      <td>2017</td>\n",
       "      <td>другой</td>\n",
       "    </tr>\n",
       "    <tr>\n",
       "      <th>14</th>\n",
       "      <td>3100000</td>\n",
       "      <td>59.00</td>\n",
       "      <td>2018-01-15</td>\n",
       "      <td>3</td>\n",
       "      <td>2.65</td>\n",
       "      <td>5.0</td>\n",
       "      <td>38.0</td>\n",
       "      <td>4</td>\n",
       "      <td>NaN</td>\n",
       "      <td>False</td>\n",
       "      <td>...</td>\n",
       "      <td>NaN</td>\n",
       "      <td>NaN</td>\n",
       "      <td>NaN</td>\n",
       "      <td>NaN</td>\n",
       "      <td>45</td>\n",
       "      <td>52542</td>\n",
       "      <td>0</td>\n",
       "      <td>1</td>\n",
       "      <td>2018</td>\n",
       "      <td>другой</td>\n",
       "    </tr>\n",
       "    <tr>\n",
       "      <th>18</th>\n",
       "      <td>2500000</td>\n",
       "      <td>56.70</td>\n",
       "      <td>2018-02-11</td>\n",
       "      <td>2</td>\n",
       "      <td>2.65</td>\n",
       "      <td>3.0</td>\n",
       "      <td>29.7</td>\n",
       "      <td>1</td>\n",
       "      <td>NaN</td>\n",
       "      <td>False</td>\n",
       "      <td>...</td>\n",
       "      <td>NaN</td>\n",
       "      <td>NaN</td>\n",
       "      <td>NaN</td>\n",
       "      <td>NaN</td>\n",
       "      <td>95</td>\n",
       "      <td>44091</td>\n",
       "      <td>6</td>\n",
       "      <td>2</td>\n",
       "      <td>2018</td>\n",
       "      <td>первый</td>\n",
       "    </tr>\n",
       "    <tr>\n",
       "      <th>4</th>\n",
       "      <td>1350000</td>\n",
       "      <td>32.30</td>\n",
       "      <td>2017-07-21</td>\n",
       "      <td>1</td>\n",
       "      <td>2.50</td>\n",
       "      <td>5.0</td>\n",
       "      <td>12.3</td>\n",
       "      <td>1</td>\n",
       "      <td>NaN</td>\n",
       "      <td>False</td>\n",
       "      <td>...</td>\n",
       "      <td>NaN</td>\n",
       "      <td>NaN</td>\n",
       "      <td>NaN</td>\n",
       "      <td>NaN</td>\n",
       "      <td>95</td>\n",
       "      <td>41795</td>\n",
       "      <td>4</td>\n",
       "      <td>7</td>\n",
       "      <td>2017</td>\n",
       "      <td>первый</td>\n",
       "    </tr>\n",
       "  </tbody>\n",
       "</table>\n",
       "<p>21770 rows × 26 columns</p>\n",
       "</div>"
      ],
      "text/plain": [
       "              last_price  total_area first_day_exposition  rooms  \\\n",
       "total_images                                                       \n",
       "20              13000000      108.00           2019-03-07      3   \n",
       "7                3350000       40.40           2018-12-04      1   \n",
       "10               5196000       56.00           2015-08-20      2   \n",
       "2               10000000      100.00           2018-06-19      2   \n",
       "10               2890000       30.40           2018-09-10      1   \n",
       "...                  ...         ...                  ...    ...   \n",
       "9                4600000       62.40           2016-08-05      3   \n",
       "9                9700000      133.81           2017-03-21      3   \n",
       "14               3100000       59.00           2018-01-15      3   \n",
       "18               2500000       56.70           2018-02-11      2   \n",
       "4                1350000       32.30           2017-07-21      1   \n",
       "\n",
       "              ceiling_height  floors_total  living_area  floor is_apartment  \\\n",
       "total_images                                                                  \n",
       "20                      2.70          16.0         51.0      8          NaN   \n",
       "7                       2.65          11.0         18.6      1          NaN   \n",
       "10                      2.65           5.0         34.3      4          NaN   \n",
       "2                       3.03          14.0         32.0     13          NaN   \n",
       "10                      2.65          12.0         14.4      5          NaN   \n",
       "...                      ...           ...          ...    ...          ...   \n",
       "9                       2.60           9.0         40.0      8          NaN   \n",
       "9                       3.70           5.0         73.3      3          NaN   \n",
       "14                      2.65           5.0         38.0      4          NaN   \n",
       "18                      2.65           3.0         29.7      1          NaN   \n",
       "4                       2.50           5.0         12.3      1          NaN   \n",
       "\n",
       "              studio  ...  parks_around3000  parks_nearest  ponds_around3000  \\\n",
       "total_images          ...                                                      \n",
       "20             False  ...               1.0          482.0               2.0   \n",
       "7              False  ...               0.0            NaN               0.0   \n",
       "10             False  ...               1.0           90.0               2.0   \n",
       "2              False  ...               2.0          112.0               1.0   \n",
       "10             False  ...               NaN            NaN               NaN   \n",
       "...              ...  ...               ...            ...               ...   \n",
       "9              False  ...               1.0          352.0               1.0   \n",
       "9              False  ...               1.0          796.0               3.0   \n",
       "14             False  ...               NaN            NaN               NaN   \n",
       "18             False  ...               NaN            NaN               NaN   \n",
       "4              False  ...               NaN            NaN               NaN   \n",
       "\n",
       "             ponds_nearest  days_exposition  price_metre  weekday_puplication  \\\n",
       "total_images                                                                    \n",
       "20                   755.0               95       120370                    3   \n",
       "7                      NaN               81        82920                    1   \n",
       "10                   574.0              558        92785                    3   \n",
       "2                     48.0              121       100000                    1   \n",
       "10                     NaN               55        95065                    0   \n",
       "...                    ...              ...          ...                  ...   \n",
       "9                    675.0              239        73717                    4   \n",
       "9                    381.0               95        72490                    1   \n",
       "14                     NaN               45        52542                    0   \n",
       "18                     NaN               95        44091                    6   \n",
       "4                      NaN               95        41795                    4   \n",
       "\n",
       "              month_puplication  year_puplication  type_floor  \n",
       "total_images                                                   \n",
       "20                            3              2019      другой  \n",
       "7                            12              2018      первый  \n",
       "10                            8              2015      другой  \n",
       "2                             6              2018      другой  \n",
       "10                            9              2018      другой  \n",
       "...                         ...               ...         ...  \n",
       "9                             8              2016      другой  \n",
       "9                             3              2017      другой  \n",
       "14                            1              2018      другой  \n",
       "18                            2              2018      первый  \n",
       "4                             7              2017      первый  \n",
       "\n",
       "[21770 rows x 26 columns]"
      ]
     },
     "execution_count": 38,
     "metadata": {},
     "output_type": "execute_result"
    }
   ],
   "source": [
    "data['type_floor'] = data.apply(type_floor, axis = 1) #применить объявленную ранее функцию\n",
    "data #проверка"
   ]
  },
  {
   "cell_type": "markdown",
   "id": "f59be522",
   "metadata": {},
   "source": [
    "Для построения гистограммы объявим еще одну функцию type_floor_mod"
   ]
  },
  {
   "cell_type": "code",
   "execution_count": 39,
   "id": "c38a7036",
   "metadata": {},
   "outputs": [],
   "source": [
    "def type_floor_mod(row): \n",
    "    try:\n",
    "        if row['type_floor'] == 'первый': #если категория \"первый\"\n",
    "            return 1 #то присвоить категорию 1\n",
    "        elif row['type_floor'] == 'последний': #если категория \"последний\"\n",
    "            return 3 #то присвоить категорию 3\n",
    "        elif row['type_floor'] == 'другой': #если категория 'другой'\n",
    "            return 2 #то присвоить категорию 2\n",
    "    except:  #иначе-пропустить\n",
    "        pass"
   ]
  },
  {
   "cell_type": "code",
   "execution_count": 40,
   "id": "069509b6",
   "metadata": {},
   "outputs": [
    {
     "data": {
      "text/html": [
       "<div>\n",
       "<style scoped>\n",
       "    .dataframe tbody tr th:only-of-type {\n",
       "        vertical-align: middle;\n",
       "    }\n",
       "\n",
       "    .dataframe tbody tr th {\n",
       "        vertical-align: top;\n",
       "    }\n",
       "\n",
       "    .dataframe thead th {\n",
       "        text-align: right;\n",
       "    }\n",
       "</style>\n",
       "<table border=\"1\" class=\"dataframe\">\n",
       "  <thead>\n",
       "    <tr style=\"text-align: right;\">\n",
       "      <th></th>\n",
       "      <th>last_price</th>\n",
       "      <th>total_area</th>\n",
       "      <th>first_day_exposition</th>\n",
       "      <th>rooms</th>\n",
       "      <th>ceiling_height</th>\n",
       "      <th>floors_total</th>\n",
       "      <th>living_area</th>\n",
       "      <th>floor</th>\n",
       "      <th>is_apartment</th>\n",
       "      <th>studio</th>\n",
       "      <th>...</th>\n",
       "      <th>parks_nearest</th>\n",
       "      <th>ponds_around3000</th>\n",
       "      <th>ponds_nearest</th>\n",
       "      <th>days_exposition</th>\n",
       "      <th>price_metre</th>\n",
       "      <th>weekday_puplication</th>\n",
       "      <th>month_puplication</th>\n",
       "      <th>year_puplication</th>\n",
       "      <th>type_floor</th>\n",
       "      <th>type_floor_mod</th>\n",
       "    </tr>\n",
       "    <tr>\n",
       "      <th>total_images</th>\n",
       "      <th></th>\n",
       "      <th></th>\n",
       "      <th></th>\n",
       "      <th></th>\n",
       "      <th></th>\n",
       "      <th></th>\n",
       "      <th></th>\n",
       "      <th></th>\n",
       "      <th></th>\n",
       "      <th></th>\n",
       "      <th></th>\n",
       "      <th></th>\n",
       "      <th></th>\n",
       "      <th></th>\n",
       "      <th></th>\n",
       "      <th></th>\n",
       "      <th></th>\n",
       "      <th></th>\n",
       "      <th></th>\n",
       "      <th></th>\n",
       "      <th></th>\n",
       "    </tr>\n",
       "  </thead>\n",
       "  <tbody>\n",
       "    <tr>\n",
       "      <th>20</th>\n",
       "      <td>13000000</td>\n",
       "      <td>108.00</td>\n",
       "      <td>2019-03-07</td>\n",
       "      <td>3</td>\n",
       "      <td>2.70</td>\n",
       "      <td>16.0</td>\n",
       "      <td>51.0</td>\n",
       "      <td>8</td>\n",
       "      <td>NaN</td>\n",
       "      <td>False</td>\n",
       "      <td>...</td>\n",
       "      <td>482.0</td>\n",
       "      <td>2.0</td>\n",
       "      <td>755.0</td>\n",
       "      <td>95</td>\n",
       "      <td>120370</td>\n",
       "      <td>3</td>\n",
       "      <td>3</td>\n",
       "      <td>2019</td>\n",
       "      <td>другой</td>\n",
       "      <td>2.0</td>\n",
       "    </tr>\n",
       "    <tr>\n",
       "      <th>7</th>\n",
       "      <td>3350000</td>\n",
       "      <td>40.40</td>\n",
       "      <td>2018-12-04</td>\n",
       "      <td>1</td>\n",
       "      <td>2.65</td>\n",
       "      <td>11.0</td>\n",
       "      <td>18.6</td>\n",
       "      <td>1</td>\n",
       "      <td>NaN</td>\n",
       "      <td>False</td>\n",
       "      <td>...</td>\n",
       "      <td>NaN</td>\n",
       "      <td>0.0</td>\n",
       "      <td>NaN</td>\n",
       "      <td>81</td>\n",
       "      <td>82920</td>\n",
       "      <td>1</td>\n",
       "      <td>12</td>\n",
       "      <td>2018</td>\n",
       "      <td>первый</td>\n",
       "      <td>1.0</td>\n",
       "    </tr>\n",
       "    <tr>\n",
       "      <th>10</th>\n",
       "      <td>5196000</td>\n",
       "      <td>56.00</td>\n",
       "      <td>2015-08-20</td>\n",
       "      <td>2</td>\n",
       "      <td>2.65</td>\n",
       "      <td>5.0</td>\n",
       "      <td>34.3</td>\n",
       "      <td>4</td>\n",
       "      <td>NaN</td>\n",
       "      <td>False</td>\n",
       "      <td>...</td>\n",
       "      <td>90.0</td>\n",
       "      <td>2.0</td>\n",
       "      <td>574.0</td>\n",
       "      <td>558</td>\n",
       "      <td>92785</td>\n",
       "      <td>3</td>\n",
       "      <td>8</td>\n",
       "      <td>2015</td>\n",
       "      <td>другой</td>\n",
       "      <td>2.0</td>\n",
       "    </tr>\n",
       "    <tr>\n",
       "      <th>2</th>\n",
       "      <td>10000000</td>\n",
       "      <td>100.00</td>\n",
       "      <td>2018-06-19</td>\n",
       "      <td>2</td>\n",
       "      <td>3.03</td>\n",
       "      <td>14.0</td>\n",
       "      <td>32.0</td>\n",
       "      <td>13</td>\n",
       "      <td>NaN</td>\n",
       "      <td>False</td>\n",
       "      <td>...</td>\n",
       "      <td>112.0</td>\n",
       "      <td>1.0</td>\n",
       "      <td>48.0</td>\n",
       "      <td>121</td>\n",
       "      <td>100000</td>\n",
       "      <td>1</td>\n",
       "      <td>6</td>\n",
       "      <td>2018</td>\n",
       "      <td>другой</td>\n",
       "      <td>2.0</td>\n",
       "    </tr>\n",
       "    <tr>\n",
       "      <th>10</th>\n",
       "      <td>2890000</td>\n",
       "      <td>30.40</td>\n",
       "      <td>2018-09-10</td>\n",
       "      <td>1</td>\n",
       "      <td>2.65</td>\n",
       "      <td>12.0</td>\n",
       "      <td>14.4</td>\n",
       "      <td>5</td>\n",
       "      <td>NaN</td>\n",
       "      <td>False</td>\n",
       "      <td>...</td>\n",
       "      <td>NaN</td>\n",
       "      <td>NaN</td>\n",
       "      <td>NaN</td>\n",
       "      <td>55</td>\n",
       "      <td>95065</td>\n",
       "      <td>0</td>\n",
       "      <td>9</td>\n",
       "      <td>2018</td>\n",
       "      <td>другой</td>\n",
       "      <td>2.0</td>\n",
       "    </tr>\n",
       "    <tr>\n",
       "      <th>...</th>\n",
       "      <td>...</td>\n",
       "      <td>...</td>\n",
       "      <td>...</td>\n",
       "      <td>...</td>\n",
       "      <td>...</td>\n",
       "      <td>...</td>\n",
       "      <td>...</td>\n",
       "      <td>...</td>\n",
       "      <td>...</td>\n",
       "      <td>...</td>\n",
       "      <td>...</td>\n",
       "      <td>...</td>\n",
       "      <td>...</td>\n",
       "      <td>...</td>\n",
       "      <td>...</td>\n",
       "      <td>...</td>\n",
       "      <td>...</td>\n",
       "      <td>...</td>\n",
       "      <td>...</td>\n",
       "      <td>...</td>\n",
       "      <td>...</td>\n",
       "    </tr>\n",
       "    <tr>\n",
       "      <th>9</th>\n",
       "      <td>4600000</td>\n",
       "      <td>62.40</td>\n",
       "      <td>2016-08-05</td>\n",
       "      <td>3</td>\n",
       "      <td>2.60</td>\n",
       "      <td>9.0</td>\n",
       "      <td>40.0</td>\n",
       "      <td>8</td>\n",
       "      <td>NaN</td>\n",
       "      <td>False</td>\n",
       "      <td>...</td>\n",
       "      <td>352.0</td>\n",
       "      <td>1.0</td>\n",
       "      <td>675.0</td>\n",
       "      <td>239</td>\n",
       "      <td>73717</td>\n",
       "      <td>4</td>\n",
       "      <td>8</td>\n",
       "      <td>2016</td>\n",
       "      <td>другой</td>\n",
       "      <td>2.0</td>\n",
       "    </tr>\n",
       "    <tr>\n",
       "      <th>9</th>\n",
       "      <td>9700000</td>\n",
       "      <td>133.81</td>\n",
       "      <td>2017-03-21</td>\n",
       "      <td>3</td>\n",
       "      <td>3.70</td>\n",
       "      <td>5.0</td>\n",
       "      <td>73.3</td>\n",
       "      <td>3</td>\n",
       "      <td>NaN</td>\n",
       "      <td>False</td>\n",
       "      <td>...</td>\n",
       "      <td>796.0</td>\n",
       "      <td>3.0</td>\n",
       "      <td>381.0</td>\n",
       "      <td>95</td>\n",
       "      <td>72490</td>\n",
       "      <td>1</td>\n",
       "      <td>3</td>\n",
       "      <td>2017</td>\n",
       "      <td>другой</td>\n",
       "      <td>2.0</td>\n",
       "    </tr>\n",
       "    <tr>\n",
       "      <th>14</th>\n",
       "      <td>3100000</td>\n",
       "      <td>59.00</td>\n",
       "      <td>2018-01-15</td>\n",
       "      <td>3</td>\n",
       "      <td>2.65</td>\n",
       "      <td>5.0</td>\n",
       "      <td>38.0</td>\n",
       "      <td>4</td>\n",
       "      <td>NaN</td>\n",
       "      <td>False</td>\n",
       "      <td>...</td>\n",
       "      <td>NaN</td>\n",
       "      <td>NaN</td>\n",
       "      <td>NaN</td>\n",
       "      <td>45</td>\n",
       "      <td>52542</td>\n",
       "      <td>0</td>\n",
       "      <td>1</td>\n",
       "      <td>2018</td>\n",
       "      <td>другой</td>\n",
       "      <td>2.0</td>\n",
       "    </tr>\n",
       "    <tr>\n",
       "      <th>18</th>\n",
       "      <td>2500000</td>\n",
       "      <td>56.70</td>\n",
       "      <td>2018-02-11</td>\n",
       "      <td>2</td>\n",
       "      <td>2.65</td>\n",
       "      <td>3.0</td>\n",
       "      <td>29.7</td>\n",
       "      <td>1</td>\n",
       "      <td>NaN</td>\n",
       "      <td>False</td>\n",
       "      <td>...</td>\n",
       "      <td>NaN</td>\n",
       "      <td>NaN</td>\n",
       "      <td>NaN</td>\n",
       "      <td>95</td>\n",
       "      <td>44091</td>\n",
       "      <td>6</td>\n",
       "      <td>2</td>\n",
       "      <td>2018</td>\n",
       "      <td>первый</td>\n",
       "      <td>1.0</td>\n",
       "    </tr>\n",
       "    <tr>\n",
       "      <th>4</th>\n",
       "      <td>1350000</td>\n",
       "      <td>32.30</td>\n",
       "      <td>2017-07-21</td>\n",
       "      <td>1</td>\n",
       "      <td>2.50</td>\n",
       "      <td>5.0</td>\n",
       "      <td>12.3</td>\n",
       "      <td>1</td>\n",
       "      <td>NaN</td>\n",
       "      <td>False</td>\n",
       "      <td>...</td>\n",
       "      <td>NaN</td>\n",
       "      <td>NaN</td>\n",
       "      <td>NaN</td>\n",
       "      <td>95</td>\n",
       "      <td>41795</td>\n",
       "      <td>4</td>\n",
       "      <td>7</td>\n",
       "      <td>2017</td>\n",
       "      <td>первый</td>\n",
       "      <td>1.0</td>\n",
       "    </tr>\n",
       "  </tbody>\n",
       "</table>\n",
       "<p>21770 rows × 27 columns</p>\n",
       "</div>"
      ],
      "text/plain": [
       "              last_price  total_area first_day_exposition  rooms  \\\n",
       "total_images                                                       \n",
       "20              13000000      108.00           2019-03-07      3   \n",
       "7                3350000       40.40           2018-12-04      1   \n",
       "10               5196000       56.00           2015-08-20      2   \n",
       "2               10000000      100.00           2018-06-19      2   \n",
       "10               2890000       30.40           2018-09-10      1   \n",
       "...                  ...         ...                  ...    ...   \n",
       "9                4600000       62.40           2016-08-05      3   \n",
       "9                9700000      133.81           2017-03-21      3   \n",
       "14               3100000       59.00           2018-01-15      3   \n",
       "18               2500000       56.70           2018-02-11      2   \n",
       "4                1350000       32.30           2017-07-21      1   \n",
       "\n",
       "              ceiling_height  floors_total  living_area  floor is_apartment  \\\n",
       "total_images                                                                  \n",
       "20                      2.70          16.0         51.0      8          NaN   \n",
       "7                       2.65          11.0         18.6      1          NaN   \n",
       "10                      2.65           5.0         34.3      4          NaN   \n",
       "2                       3.03          14.0         32.0     13          NaN   \n",
       "10                      2.65          12.0         14.4      5          NaN   \n",
       "...                      ...           ...          ...    ...          ...   \n",
       "9                       2.60           9.0         40.0      8          NaN   \n",
       "9                       3.70           5.0         73.3      3          NaN   \n",
       "14                      2.65           5.0         38.0      4          NaN   \n",
       "18                      2.65           3.0         29.7      1          NaN   \n",
       "4                       2.50           5.0         12.3      1          NaN   \n",
       "\n",
       "              studio  ...  parks_nearest  ponds_around3000  ponds_nearest  \\\n",
       "total_images          ...                                                   \n",
       "20             False  ...          482.0               2.0          755.0   \n",
       "7              False  ...            NaN               0.0            NaN   \n",
       "10             False  ...           90.0               2.0          574.0   \n",
       "2              False  ...          112.0               1.0           48.0   \n",
       "10             False  ...            NaN               NaN            NaN   \n",
       "...              ...  ...            ...               ...            ...   \n",
       "9              False  ...          352.0               1.0          675.0   \n",
       "9              False  ...          796.0               3.0          381.0   \n",
       "14             False  ...            NaN               NaN            NaN   \n",
       "18             False  ...            NaN               NaN            NaN   \n",
       "4              False  ...            NaN               NaN            NaN   \n",
       "\n",
       "             days_exposition  price_metre  weekday_puplication  \\\n",
       "total_images                                                     \n",
       "20                        95       120370                    3   \n",
       "7                         81        82920                    1   \n",
       "10                       558        92785                    3   \n",
       "2                        121       100000                    1   \n",
       "10                        55        95065                    0   \n",
       "...                      ...          ...                  ...   \n",
       "9                        239        73717                    4   \n",
       "9                         95        72490                    1   \n",
       "14                        45        52542                    0   \n",
       "18                        95        44091                    6   \n",
       "4                         95        41795                    4   \n",
       "\n",
       "              month_puplication  year_puplication  type_floor  type_floor_mod  \n",
       "total_images                                                                   \n",
       "20                            3              2019      другой             2.0  \n",
       "7                            12              2018      первый             1.0  \n",
       "10                            8              2015      другой             2.0  \n",
       "2                             6              2018      другой             2.0  \n",
       "10                            9              2018      другой             2.0  \n",
       "...                         ...               ...         ...             ...  \n",
       "9                             8              2016      другой             2.0  \n",
       "9                             3              2017      другой             2.0  \n",
       "14                            1              2018      другой             2.0  \n",
       "18                            2              2018      первый             1.0  \n",
       "4                             7              2017      первый             1.0  \n",
       "\n",
       "[21770 rows x 27 columns]"
      ]
     },
     "execution_count": 40,
     "metadata": {},
     "output_type": "execute_result"
    }
   ],
   "source": [
    "data['type_floor_mod'] = data.apply(type_floor_mod, axis = 1) #применить объявленную ранее функцию\n",
    "data #проверка"
   ]
  },
  {
   "cell_type": "markdown",
   "id": "82e23feb",
   "metadata": {},
   "source": [
    "## Перевод cityCenters_nearest"
   ]
  },
  {
   "cell_type": "code",
   "execution_count": 41,
   "id": "8aa928ac",
   "metadata": {},
   "outputs": [],
   "source": [
    "data['cityCenters_nearest'] = (data['cityCenters_nearest']/1000).round(decimals = 0)\n",
    "# перевод м в км"
   ]
  },
  {
   "cell_type": "markdown",
   "id": "5e18e962",
   "metadata": {},
   "source": [
    "# Проведите исследовательский анализ данных"
   ]
  },
  {
   "cell_type": "markdown",
   "id": "29403a84",
   "metadata": {},
   "source": [
    "## Общая площадь"
   ]
  },
  {
   "cell_type": "code",
   "execution_count": 42,
   "id": "ef0c3df8",
   "metadata": {
    "scrolled": true
   },
   "outputs": [
    {
     "data": {
      "text/plain": [
       "<AxesSubplot:ylabel='Frequency'>"
      ]
     },
     "execution_count": 42,
     "metadata": {},
     "output_type": "execute_result"
    },
    {
     "data": {
      "image/png": "[encoded data removed]",
      "text/plain": [
       "<Figure size 720x360 with 1 Axes>"
      ]
     },
     "metadata": {
      "needs_background": "light"
     },
     "output_type": "display_data"
    }
   ],
   "source": [
    "data.plot(y = 'total_area', kind = 'hist', bins = 150, figsize = (10,5), grid=True, range = (12,175))"
   ]
  },
  {
   "cell_type": "markdown",
   "id": "22538120",
   "metadata": {},
   "source": [
    "Из полученной гистограммы видно, что пик гистограммы общей площади примерно на 45 $м^{2}$, значит в данном наборе чаще всего встречаются квартиры данной квадратуры. Также есть пики на 30 $м^{2}$, 42 $м^{2}$, 38 $м^{2}$. Еще есть скачок на 60 $м^{2}$ и 63 $м^{2}$ и крайний пик виден примерно на 72 $м^{2}$ (предположительно от 60 $м^{2}$ трехкомнатные объекты, а значит, их меньше)"
   ]
  },
  {
   "cell_type": "code",
   "execution_count": 43,
   "id": "fc6a0631",
   "metadata": {},
   "outputs": [
    {
     "data": {
      "text/plain": [
       "count    21770.0\n",
       "mean        60.0\n",
       "std         35.0\n",
       "min         12.0\n",
       "25%         40.0\n",
       "50%         52.0\n",
       "75%         70.0\n",
       "max        900.0\n",
       "Name: total_area, dtype: float64"
      ]
     },
     "execution_count": 43,
     "metadata": {},
     "output_type": "execute_result"
    }
   ],
   "source": [
    "data['total_area'].describe().round()"
   ]
  },
  {
   "cell_type": "markdown",
   "id": "db05ed4d",
   "metadata": {},
   "source": [
    "Из  описания видно, что самые распространенныe квартиры общей площадью 35 $м^{2}$\n",
    "\n",
    "Самые маленькие 12 $м^{2}$"
   ]
  },
  {
   "cell_type": "markdown",
   "id": "785506ea",
   "metadata": {},
   "source": [
    "## Жилая площадь"
   ]
  },
  {
   "cell_type": "code",
   "execution_count": 44,
   "id": "c5681da6",
   "metadata": {},
   "outputs": [
    {
     "data": {
      "text/plain": [
       "<AxesSubplot:ylabel='Frequency'>"
      ]
     },
     "execution_count": 44,
     "metadata": {},
     "output_type": "execute_result"
    },
    {
     "data": {
      "image/png": "[encoded data removed]",
      "text/plain": [
       "<Figure size 576x360 with 1 Axes>"
      ]
     },
     "metadata": {
      "needs_background": "light"
     },
     "output_type": "display_data"
    }
   ],
   "source": [
    "data.plot(y = 'living_area', kind = 'hist', bins = 150, figsize = (8,5), grid=True, range = (10,200))"
   ]
  },
  {
   "cell_type": "code",
   "execution_count": 45,
   "id": "7ce9339e",
   "metadata": {},
   "outputs": [
    {
     "data": {
      "text/plain": [
       "count    21770.0\n",
       "mean        34.5\n",
       "std         22.0\n",
       "min          6.0\n",
       "25%         18.6\n",
       "50%         30.0\n",
       "75%         42.3\n",
       "max        409.7\n",
       "Name: living_area, dtype: float64"
      ]
     },
     "execution_count": 45,
     "metadata": {},
     "output_type": "execute_result"
    }
   ],
   "source": [
    "data['living_area'].describe().round(1)"
   ]
  },
  {
   "cell_type": "markdown",
   "id": "860d4a02",
   "metadata": {},
   "source": [
    "Гистограмма имеет два явных пика. И на распределение Пуассона это уже не похоже. Но у меня есть ощущение, что это наложение двух (а то и трех) типов на одну гистограмму."
   ]
  },
  {
   "cell_type": "markdown",
   "id": "2d362d93",
   "metadata": {},
   "source": [
    "## Площадь кухни"
   ]
  },
  {
   "cell_type": "code",
   "execution_count": 46,
   "id": "6eba3da1",
   "metadata": {},
   "outputs": [
    {
     "data": {
      "text/plain": [
       "<AxesSubplot:ylabel='Frequency'>"
      ]
     },
     "execution_count": 46,
     "metadata": {},
     "output_type": "execute_result"
    },
    {
     "data": {
      "image/png": "[encoded data removed]",
      "text/plain": [
       "<Figure size 576x360 with 1 Axes>"
      ]
     },
     "metadata": {
      "needs_background": "light"
     },
     "output_type": "display_data"
    }
   ],
   "source": [
    "data.plot(y = 'kitchen_area', kind = 'hist', bins = 50, figsize = (8,5), grid=True, range = (0,75))"
   ]
  },
  {
   "cell_type": "code",
   "execution_count": 47,
   "id": "d9c2f45d",
   "metadata": {},
   "outputs": [
    {
     "data": {
      "text/plain": [
       "count    20960.0\n",
       "mean        10.5\n",
       "std          5.8\n",
       "min          1.3\n",
       "25%          7.0\n",
       "50%          9.0\n",
       "75%         12.0\n",
       "max        112.0\n",
       "Name: kitchen_area, dtype: float64"
      ]
     },
     "execution_count": 47,
     "metadata": {},
     "output_type": "execute_result"
    }
   ],
   "source": [
    "data['kitchen_area'].describe().round(1)"
   ]
  },
  {
   "cell_type": "markdown",
   "id": "6191274d",
   "metadata": {},
   "source": [
    "## Цена объекта"
   ]
  },
  {
   "cell_type": "code",
   "execution_count": 48,
   "id": "0149a8ad",
   "metadata": {},
   "outputs": [
    {
     "data": {
      "text/plain": [
       "<AxesSubplot:ylabel='Frequency'>"
      ]
     },
     "execution_count": 48,
     "metadata": {},
     "output_type": "execute_result"
    },
    {
     "data": {
      "image/png": "[encoded data removed]",
      "text/plain": [
       "<Figure size 648x360 with 1 Axes>"
      ]
     },
     "metadata": {
      "needs_background": "light"
     },
     "output_type": "display_data"
    }
   ],
   "source": [
    "data.plot(y = 'last_price', kind = 'hist', bins = 200, figsize = (9,5), grid=True, range = (0,28000000) )"
   ]
  },
  {
   "cell_type": "code",
   "execution_count": 49,
   "id": "cd3865a3",
   "metadata": {},
   "outputs": [
    {
     "data": {
      "text/plain": [
       "count        21770.0\n",
       "mean       6500917.7\n",
       "std       10865337.2\n",
       "min          12190.0\n",
       "25%        3450000.0\n",
       "50%        4650000.0\n",
       "75%        6750000.0\n",
       "max      763000000.0\n",
       "Name: last_price, dtype: float64"
      ]
     },
     "execution_count": 49,
     "metadata": {},
     "output_type": "execute_result"
    }
   ],
   "source": [
    "data['last_price'].describe().round(1)"
   ]
  },
  {
   "cell_type": "markdown",
   "id": "35af347f",
   "metadata": {},
   "source": [
    "Гистограмма цены имеет нормальное распределение. Пропусков в данном столбце не было (продавец обязательно устанавливает важную для него характеристику)"
   ]
  },
  {
   "cell_type": "markdown",
   "id": "95221f1d",
   "metadata": {},
   "source": [
    "## Количество комнат"
   ]
  },
  {
   "cell_type": "code",
   "execution_count": 50,
   "id": "748d240a",
   "metadata": {},
   "outputs": [
    {
     "data": {
      "text/plain": [
       "<AxesSubplot:ylabel='Frequency'>"
      ]
     },
     "execution_count": 50,
     "metadata": {},
     "output_type": "execute_result"
    },
    {
     "data": {
      "image/png": "[encoded data removed]",
      "text/plain": [
       "<Figure size 648x360 with 1 Axes>"
      ]
     },
     "metadata": {
      "needs_background": "light"
     },
     "output_type": "display_data"
    }
   ],
   "source": [
    "data.plot(y = 'last_price', kind = 'hist', bins = 100, figsize = (9,5), grid=True, range = (0,30000000))"
   ]
  },
  {
   "cell_type": "code",
   "execution_count": 51,
   "id": "9bbcb725",
   "metadata": {},
   "outputs": [
    {
     "data": {
      "text/plain": [
       "count    21770.0\n",
       "mean         2.0\n",
       "std          1.0\n",
       "min          0.0\n",
       "25%          1.0\n",
       "50%          2.0\n",
       "75%          3.0\n",
       "max         19.0\n",
       "Name: rooms, dtype: float64"
      ]
     },
     "execution_count": 51,
     "metadata": {},
     "output_type": "execute_result"
    }
   ],
   "source": [
    "data['rooms'].describe().round()"
   ]
  },
  {
   "cell_type": "markdown",
   "id": "7289ea43",
   "metadata": {},
   "source": [
    "Гистограмма распределения имеет нормальный вид. в Среднем недвижимость имеет 2 комнаты. Максимально возможное количество комнат из представленных объектов = 19!"
   ]
  },
  {
   "cell_type": "markdown",
   "id": "88874aba",
   "metadata": {},
   "source": [
    "## Высота потолков"
   ]
  },
  {
   "cell_type": "code",
   "execution_count": 52,
   "id": "78d5f99a",
   "metadata": {},
   "outputs": [
    {
     "data": {
      "text/plain": [
       "<AxesSubplot:ylabel='Frequency'>"
      ]
     },
     "execution_count": 52,
     "metadata": {},
     "output_type": "execute_result"
    },
    {
     "data": {
      "image/png": "[encoded data removed]",
      "text/plain": [
       "<Figure size 432x360 with 1 Axes>"
      ]
     },
     "metadata": {
      "needs_background": "light"
     },
     "output_type": "display_data"
    }
   ],
   "source": [
    "data.plot(y = 'ceiling_height', kind = 'hist', bins = 80, figsize = (6,5), grid=True, range = (2.1,5))"
   ]
  },
  {
   "cell_type": "code",
   "execution_count": 53,
   "id": "ca5ea796",
   "metadata": {},
   "outputs": [
    {
     "data": {
      "text/plain": [
       "count    21770.000000\n",
       "mean         2.697946\n",
       "std          0.221657\n",
       "min          2.200000\n",
       "25%          2.600000\n",
       "50%          2.650000\n",
       "75%          2.700000\n",
       "max          6.000000\n",
       "Name: ceiling_height, dtype: float64"
      ]
     },
     "execution_count": 53,
     "metadata": {},
     "output_type": "execute_result"
    }
   ],
   "source": [
    "data['ceiling_height'].describe()"
   ]
  },
  {
   "cell_type": "markdown",
   "id": "586632de",
   "metadata": {},
   "source": [
    "Гистограмма имеет странный вид, возможно из-за не совсем верной замены пропусков в данном столбце"
   ]
  },
  {
   "cell_type": "markdown",
   "id": "8efce979",
   "metadata": {},
   "source": [
    "## Этаж квартиры"
   ]
  },
  {
   "cell_type": "code",
   "execution_count": 54,
   "id": "f1eb354e",
   "metadata": {},
   "outputs": [
    {
     "data": {
      "text/plain": [
       "<AxesSubplot:ylabel='Frequency'>"
      ]
     },
     "execution_count": 54,
     "metadata": {},
     "output_type": "execute_result"
    },
    {
     "data": {
      "image/png": "[encoded data removed]",
      "text/plain": [
       "<Figure size 432x360 with 1 Axes>"
      ]
     },
     "metadata": {
      "needs_background": "light"
     },
     "output_type": "display_data"
    }
   ],
   "source": [
    "data.plot(y = 'floor', kind = 'hist', bins = 33, figsize = (6,5), grid=True)"
   ]
  },
  {
   "cell_type": "code",
   "execution_count": 55,
   "id": "b5391698",
   "metadata": {},
   "outputs": [
    {
     "data": {
      "text/plain": [
       "count    21770.0\n",
       "mean         6.0\n",
       "std          5.0\n",
       "min          1.0\n",
       "25%          2.0\n",
       "50%          4.0\n",
       "75%          8.0\n",
       "max         33.0\n",
       "Name: floor, dtype: float64"
      ]
     },
     "execution_count": 55,
     "metadata": {},
     "output_type": "execute_result"
    }
   ],
   "source": [
    "data['floor'].describe().round()"
   ]
  },
  {
   "cell_type": "markdown",
   "id": "ca3006f3",
   "metadata": {},
   "source": [
    "Максимальный этаж в данном массиве 33.\n",
    "\n",
    "Чаще всего встречаются квартиры на 5-6 этаже.\n",
    "\n",
    "скорее всего это связано с невысокими постройками в данном наборе."
   ]
  },
  {
   "cell_type": "markdown",
   "id": "6a686db3",
   "metadata": {},
   "source": [
    "## Тип этажа квартиры (первый, последний, другой)\n"
   ]
  },
  {
   "cell_type": "code",
   "execution_count": 56,
   "id": "e04f3c04",
   "metadata": {},
   "outputs": [
    {
     "data": {
      "text/plain": [
       "<AxesSubplot:ylabel='Frequency'>"
      ]
     },
     "execution_count": 56,
     "metadata": {},
     "output_type": "execute_result"
    },
    {
     "data": {
      "image/png": "[encoded data removed]",
      "text/plain": [
       "<Figure size 432x360 with 1 Axes>"
      ]
     },
     "metadata": {
      "needs_background": "light"
     },
     "output_type": "display_data"
    }
   ],
   "source": [
    "data.plot(y = 'type_floor_mod', kind = 'hist', bins = 3, figsize = (6,5), grid=True)"
   ]
  },
  {
   "cell_type": "code",
   "execution_count": 57,
   "id": "b7567f79",
   "metadata": {},
   "outputs": [
    {
     "data": {
      "text/plain": [
       "count    21718.0\n",
       "mean         2.0\n",
       "std          1.0\n",
       "min          1.0\n",
       "25%          2.0\n",
       "50%          2.0\n",
       "75%          2.0\n",
       "max          3.0\n",
       "Name: type_floor_mod, dtype: float64"
      ]
     },
     "execution_count": 57,
     "metadata": {},
     "output_type": "execute_result"
    }
   ],
   "source": [
    "data['type_floor_mod'].describe().round()"
   ]
  },
  {
   "cell_type": "markdown",
   "id": "01da9bee",
   "metadata": {},
   "source": [
    "Гистограмма вполне предсказуема:пик в середине это средние этажи, а их явно больше, чем первых и последних. Однако правая часть гистограммы чуть больше, а значит верхние этажи продают чаще, чем первые. Я думаю, это может быть связано с тем, что на первых этажах часто располагаются магазины и т.д., и они реже продаются."
   ]
  },
  {
   "cell_type": "markdown",
   "id": "735339ba",
   "metadata": {},
   "source": [
    "## Общее количество этажей в доме"
   ]
  },
  {
   "cell_type": "code",
   "execution_count": 58,
   "id": "b264921c",
   "metadata": {},
   "outputs": [
    {
     "data": {
      "text/plain": [
       "<AxesSubplot:ylabel='Frequency'>"
      ]
     },
     "execution_count": 58,
     "metadata": {},
     "output_type": "execute_result"
    },
    {
     "data": {
      "image/png": "[encoded data removed]",
      "text/plain": [
       "<Figure size 432x360 with 1 Axes>"
      ]
     },
     "metadata": {
      "needs_background": "light"
     },
     "output_type": "display_data"
    }
   ],
   "source": [
    "data.plot(y = 'floors_total', kind = 'hist', bins = 35, figsize = (6,5), grid=True, range =(1,35))"
   ]
  },
  {
   "cell_type": "code",
   "execution_count": 59,
   "id": "80b0e70b",
   "metadata": {
    "scrolled": true
   },
   "outputs": [
    {
     "data": {
      "text/plain": [
       "count    21717.0\n",
       "mean        11.0\n",
       "std          7.0\n",
       "min          1.0\n",
       "25%          5.0\n",
       "50%          9.0\n",
       "75%         16.0\n",
       "max         60.0\n",
       "Name: floors_total, dtype: float64"
      ]
     },
     "execution_count": 59,
     "metadata": {},
     "output_type": "execute_result"
    }
   ],
   "source": [
    "data['floors_total'].describe().round()"
   ]
  },
  {
   "cell_type": "markdown",
   "id": "07f01c5d",
   "metadata": {},
   "source": [
    "Гистограмма имеет весьма страннй вид. \n",
    "\n",
    "Во-первых, в данном столбце есть пропуски (я хотела заменить этажем квартиры, но из-за данного пункта не стала типа такого : *data['floors_total'] = data['floors_total'].fillna(data['floor']))*\n",
    "\n",
    "Во-вторых дома разной этажности в разных микрорайонах. Больше всего домов 5ти этажных, потом пик 9ти этажных, но их меньше, 12, и 17 этажные дома."
   ]
  },
  {
   "cell_type": "markdown",
   "id": "73635859",
   "metadata": {},
   "source": [
    "## Расстояния гистограммы"
   ]
  },
  {
   "cell_type": "markdown",
   "id": "3c8214b0",
   "metadata": {},
   "source": [
    "### Расстояние до центра города"
   ]
  },
  {
   "cell_type": "markdown",
   "id": "d488b432",
   "metadata": {},
   "source": [
    "Тут для меня загадка-зачем ранее в задании требовали перевести в из **м** в **км**, а теперь снова в **м**. Я решила, что нагляднее все-такие в **км**."
   ]
  },
  {
   "cell_type": "code",
   "execution_count": 60,
   "id": "cfad022a",
   "metadata": {},
   "outputs": [
    {
     "data": {
      "text/plain": [
       "<AxesSubplot:ylabel='Frequency'>"
      ]
     },
     "execution_count": 60,
     "metadata": {},
     "output_type": "execute_result"
    },
    {
     "data": {
      "image/png": "[encoded data removed]",
      "text/plain": [
       "<Figure size 432x360 with 1 Axes>"
      ]
     },
     "metadata": {
      "needs_background": "light"
     },
     "output_type": "display_data"
    }
   ],
   "source": [
    "data.plot(y = 'cityCenters_nearest', kind = 'hist', bins = 50, figsize = (6,5), grid=True,  range =(1,60))"
   ]
  },
  {
   "cell_type": "markdown",
   "id": "12bfe370",
   "metadata": {},
   "source": [
    "В связи с большим количеством пропусков в данном столбце был большой пик на 0 значении. Для наглядности я решила убрать 0 значение и тогда гистограмма по моему мнению имеет более лучший вид. Пик на  15км (я в Питере была, но в км его не измеряла, поэтому поиск выдал вот это :\n",
    "\n",
    "От Адмиралтейства (условно центр города) до Сосновой поляны радиус 20 км Лахты - 12 км, Девяткино-17 км Парнас -19 км Пр Большевиков. 12 км Рыбацкое - 18 км. Южная граница Купчино - 14 км. \n",
    "\n",
    "Примерно эти поселки и были в списке-вот откуда такой пик (я так думаю)."
   ]
  },
  {
   "cell_type": "code",
   "execution_count": 61,
   "id": "e8b141c8",
   "metadata": {},
   "outputs": [
    {
     "data": {
      "text/plain": [
       "count    21770.0\n",
       "mean        11.0\n",
       "std         10.0\n",
       "min          0.0\n",
       "25%          3.0\n",
       "50%         11.0\n",
       "75%         15.0\n",
       "max         66.0\n",
       "Name: cityCenters_nearest, dtype: float64"
      ]
     },
     "execution_count": 61,
     "metadata": {},
     "output_type": "execute_result"
    }
   ],
   "source": [
    "data['cityCenters_nearest'].describe().round()"
   ]
  },
  {
   "cell_type": "markdown",
   "id": "fc3f33c1",
   "metadata": {},
   "source": [
    "### Расстояние до ближайшего аэропорта"
   ]
  },
  {
   "cell_type": "code",
   "execution_count": 62,
   "id": "fc75c1b4",
   "metadata": {},
   "outputs": [
    {
     "data": {
      "text/plain": [
       "<AxesSubplot:ylabel='Frequency'>"
      ]
     },
     "execution_count": 62,
     "metadata": {},
     "output_type": "execute_result"
    },
    {
     "data": {
      "image/png": "[encoded data removed]",
      "text/plain": [
       "<Figure size 432x360 with 1 Axes>"
      ]
     },
     "metadata": {
      "needs_background": "light"
     },
     "output_type": "display_data"
    }
   ],
   "source": [
    "data.plot(y = 'airports_nearest', kind = 'hist', bins = 50, figsize = (6,5), grid=True)"
   ]
  },
  {
   "cell_type": "code",
   "execution_count": 63,
   "id": "4807b958",
   "metadata": {},
   "outputs": [
    {
     "data": {
      "text/plain": [
       "count    16862.0\n",
       "mean     28768.0\n",
       "std      12654.0\n",
       "min          0.0\n",
       "25%      18539.0\n",
       "50%      26662.0\n",
       "75%      37234.0\n",
       "max      84869.0\n",
       "Name: airports_nearest, dtype: float64"
      ]
     },
     "execution_count": 63,
     "metadata": {},
     "output_type": "execute_result"
    }
   ],
   "source": [
    "data['airports_nearest'].describe().round()"
   ]
  },
  {
   "cell_type": "markdown",
   "id": "f219d6f3",
   "metadata": {},
   "source": [
    "Итак, гистограмма расстояния до аэропорта имеет плотное распределение. Я так полагаю, что квартиры располагаются от аэропорта Пулковона расстоянии от 12км до 30км (самый распространенный вариант), а также от 35 до 55 км."
   ]
  },
  {
   "cell_type": "markdown",
   "id": "4d0bc701",
   "metadata": {},
   "source": [
    "### Расстояние до ближайшего парка"
   ]
  },
  {
   "cell_type": "code",
   "execution_count": 64,
   "id": "666d5b63",
   "metadata": {},
   "outputs": [
    {
     "data": {
      "text/plain": [
       "<AxesSubplot:ylabel='Frequency'>"
      ]
     },
     "execution_count": 64,
     "metadata": {},
     "output_type": "execute_result"
    },
    {
     "data": {
      "image/png": "[encoded data removed]",
      "text/plain": [
       "<Figure size 432x360 with 1 Axes>"
      ]
     },
     "metadata": {
      "needs_background": "light"
     },
     "output_type": "display_data"
    }
   ],
   "source": [
    "data.plot(y = 'parks_nearest', kind = 'hist', bins = 50, figsize = (6,5), grid=True)"
   ]
  },
  {
   "cell_type": "code",
   "execution_count": 65,
   "id": "dfa143f9",
   "metadata": {},
   "outputs": [
    {
     "data": {
      "text/plain": [
       "count    7492.0\n",
       "mean      488.0\n",
       "std       338.0\n",
       "min         1.0\n",
       "25%       287.0\n",
       "50%       451.0\n",
       "75%       610.0\n",
       "max      3190.0\n",
       "Name: parks_nearest, dtype: float64"
      ]
     },
     "execution_count": 65,
     "metadata": {},
     "output_type": "execute_result"
    }
   ],
   "source": [
    "data['parks_nearest'].describe().round()"
   ]
  },
  {
   "cell_type": "markdown",
   "id": "6e934401",
   "metadata": {},
   "source": [
    "Нормальное распределние (НАКОНЕЦ-ТО)\n",
    "\n",
    "Санкт-Петербург и его окресности наполнены парками и природными зонами отдыха, поэтому почти с каждыйм объектом недвижимости есть парк."
   ]
  },
  {
   "cell_type": "markdown",
   "id": "6efc278c",
   "metadata": {},
   "source": [
    "## День и месяц публикации объявления"
   ]
  },
  {
   "cell_type": "markdown",
   "id": "14c98b8d",
   "metadata": {},
   "source": [
    "### День публикации"
   ]
  },
  {
   "cell_type": "code",
   "execution_count": 66,
   "id": "abe74999",
   "metadata": {},
   "outputs": [
    {
     "data": {
      "text/plain": [
       "<AxesSubplot:ylabel='Frequency'>"
      ]
     },
     "execution_count": 66,
     "metadata": {},
     "output_type": "execute_result"
    },
    {
     "data": {
      "image/png": "[encoded data removed]",
      "text/plain": [
       "<Figure size 432x576 with 1 Axes>"
      ]
     },
     "metadata": {
      "needs_background": "light"
     },
     "output_type": "display_data"
    }
   ],
   "source": [
    "data.plot(y = 'weekday_puplication', color='Yellow', kind = 'hist', bins = 7, figsize = (6,8), grid=True)"
   ]
  },
  {
   "cell_type": "code",
   "execution_count": 67,
   "id": "7310cf8d",
   "metadata": {},
   "outputs": [
    {
     "data": {
      "text/plain": [
       "count    21770.0\n",
       "mean         3.0\n",
       "std          2.0\n",
       "min          0.0\n",
       "25%          1.0\n",
       "50%          3.0\n",
       "75%          4.0\n",
       "max          6.0\n",
       "Name: weekday_puplication, dtype: float64"
      ]
     },
     "execution_count": 67,
     "metadata": {},
     "output_type": "execute_result"
    }
   ],
   "source": [
    "data['weekday_puplication'].describe().round()"
   ]
  },
  {
   "cell_type": "markdown",
   "id": "5b20d95c",
   "metadata": {},
   "source": [
    "Гистограмма для публикации показывает, что чаще всего объясления выставляют в будние дни. Самые низкие показатели в выходные дни."
   ]
  },
  {
   "cell_type": "markdown",
   "id": "dbeb8bd9",
   "metadata": {},
   "source": [
    "### Месяц публикации"
   ]
  },
  {
   "cell_type": "code",
   "execution_count": 68,
   "id": "181985b7",
   "metadata": {},
   "outputs": [
    {
     "data": {
      "text/plain": [
       "<AxesSubplot:ylabel='Frequency'>"
      ]
     },
     "execution_count": 68,
     "metadata": {},
     "output_type": "execute_result"
    },
    {
     "data": {
      "image/png": "[encoded data removed]",
      "text/plain": [
       "<Figure size 432x360 with 1 Axes>"
      ]
     },
     "metadata": {
      "needs_background": "light"
     },
     "output_type": "display_data"
    }
   ],
   "source": [
    "data.plot(y = 'month_puplication', color='Black', kind = 'hist', bins = 12, figsize = (6,5), grid=True)"
   ]
  },
  {
   "cell_type": "code",
   "execution_count": 69,
   "id": "f0d45500",
   "metadata": {},
   "outputs": [
    {
     "data": {
      "text/plain": [
       "count    21770.0\n",
       "mean         6.0\n",
       "std          3.0\n",
       "min          1.0\n",
       "25%          3.0\n",
       "50%          6.0\n",
       "75%         10.0\n",
       "max         12.0\n",
       "Name: month_puplication, dtype: float64"
      ]
     },
     "execution_count": 69,
     "metadata": {},
     "output_type": "execute_result"
    }
   ],
   "source": [
    "data['month_puplication'].describe().round()"
   ]
  },
  {
   "cell_type": "markdown",
   "id": "6e300e12",
   "metadata": {},
   "source": [
    "По гистограмме можно  сделать вывод, что чаще всего квартиры на продажу выставляют весной и чуть меньше осенью. В начале года, в конце и перед летом (май) самые низкие показатели."
   ]
  },
  {
   "cell_type": "markdown",
   "id": "1498f12c",
   "metadata": {},
   "source": [
    "## Скорость продажи квартир"
   ]
  },
  {
   "cell_type": "code",
   "execution_count": 70,
   "id": "9f2e574c",
   "metadata": {},
   "outputs": [
    {
     "name": "stdout",
     "output_type": "stream",
     "text": [
      "Медиана скорости продажи объекта: 95.0\n"
     ]
    }
   ],
   "source": [
    "print('Медиана скорости продажи объекта:',\n",
    "data['days_exposition'].median()) #расчет медианы"
   ]
  },
  {
   "cell_type": "code",
   "execution_count": 71,
   "id": "7cbd7e38",
   "metadata": {},
   "outputs": [
    {
     "name": "stdout",
     "output_type": "stream",
     "text": [
      "Средняя скорость продажи объекта: 172.62962792834176\n"
     ]
    }
   ],
   "source": [
    "print('Средняя скорость продажи объекта:',\n",
    "data['days_exposition'].mean()) #расчет среднего"
   ]
  },
  {
   "cell_type": "code",
   "execution_count": 72,
   "id": "331d3633",
   "metadata": {},
   "outputs": [
    {
     "data": {
      "text/plain": [
       "count    21770.000000\n",
       "mean       172.629628\n",
       "std        207.909472\n",
       "min          1.000000\n",
       "25%         48.000000\n",
       "50%         95.000000\n",
       "75%        205.000000\n",
       "max       1580.000000\n",
       "Name: days_exposition, dtype: float64"
      ]
     },
     "execution_count": 72,
     "metadata": {},
     "output_type": "execute_result"
    }
   ],
   "source": [
    "data['days_exposition'].describe() #общая информация"
   ]
  },
  {
   "cell_type": "code",
   "execution_count": 73,
   "id": "5aed05b9",
   "metadata": {},
   "outputs": [
    {
     "data": {
      "text/plain": [
       "<AxesSubplot:ylabel='Frequency'>"
      ]
     },
     "execution_count": 73,
     "metadata": {},
     "output_type": "execute_result"
    },
    {
     "data": {
      "image/png": "[encoded data removed]",
      "text/plain": [
       "<Figure size 432x360 with 1 Axes>"
      ]
     },
     "metadata": {
      "needs_background": "light"
     },
     "output_type": "display_data"
    }
   ],
   "source": [
    "data.plot(y = 'days_exposition', kind = 'hist', bins = 80, figsize = (6,5), grid=True, range = (0, 250))"
   ]
  },
  {
   "cell_type": "markdown",
   "id": "4f12594b",
   "metadata": {},
   "source": [
    "Гистограмма имеет пик-это заполненные средним значеним пропуски. **В целом квартиры продаются за два месяца или чуть меньше об этом свидетельствует пик около 45 дней и 60 дней**. Есть и более долгие продажи. Я думаю, что время размещения объявления зависит, как и от цены объекта, так и от самого объекта недвижимости. Более долгие проджи могут быть обусловлены неудобным расположением, квадратурой жилья, годом постройки, типом здания и адекватностью продавцов (из собственного опыта)."
   ]
  },
  {
   "cell_type": "markdown",
   "id": "aa62c12d",
   "metadata": {},
   "source": [
    "## Факторы влияющие на стоймость объекта"
   ]
  },
  {
   "cell_type": "markdown",
   "id": "99a0981d",
   "metadata": {},
   "source": [
    "### Фактор общей площади"
   ]
  },
  {
   "cell_type": "code",
   "execution_count": 74,
   "id": "57de4289",
   "metadata": {},
   "outputs": [
    {
     "data": {
      "text/plain": [
       "<AxesSubplot:xlabel='total_area'>"
      ]
     },
     "execution_count": 74,
     "metadata": {},
     "output_type": "execute_result"
    },
    {
     "data": {
      "image/png": "[encoded data removed]",
      "text/plain": [
       "<Figure size 360x432 with 1 Axes>"
      ]
     },
     "metadata": {
      "needs_background": "light"
     },
     "output_type": "display_data"
    }
   ],
   "source": [
    "data.pivot_table(index='total_area', values='last_price').plot(color = \"Black\", style='o', grid=True, figsize=(5, 6), alpha = 0.3)"
   ]
  },
  {
   "cell_type": "code",
   "execution_count": 75,
   "id": "3fac9fa1",
   "metadata": {},
   "outputs": [
    {
     "name": "stdout",
     "output_type": "stream",
     "text": [
      "Корреляция цены от общей площади: 0.703027380339859\n"
     ]
    }
   ],
   "source": [
    "df_pivot = data.pivot_table(index='total_area', values='last_price')\n",
    "df_pivot['index'] = df_pivot.index\n",
    "\n",
    "print('Корреляция цены от общей площади:',\n",
    "df_pivot['index'].corr(df_pivot['last_price']))"
   ]
  },
  {
   "cell_type": "markdown",
   "id": "7235f37c",
   "metadata": {},
   "source": [
    "Из гистограммы рассеивания видно, что с увеличеним площaди объекта увеличивается его стоймость (вполне логично), но и есть объекты колоссально выделяющиеся по стоймости."
   ]
  },
  {
   "cell_type": "markdown",
   "id": "09abbdf1",
   "metadata": {},
   "source": [
    "### Фактор жилой площади"
   ]
  },
  {
   "cell_type": "code",
   "execution_count": 76,
   "id": "9b207b2c",
   "metadata": {},
   "outputs": [
    {
     "data": {
      "text/plain": [
       "<AxesSubplot:xlabel='living_area'>"
      ]
     },
     "execution_count": 76,
     "metadata": {},
     "output_type": "execute_result"
    },
    {
     "data": {
      "image/png": "[encoded data removed]",
      "text/plain": [
       "<Figure size 432x432 with 1 Axes>"
      ]
     },
     "metadata": {
      "needs_background": "light"
     },
     "output_type": "display_data"
    }
   ],
   "source": [
    "data.pivot_table(index='living_area', values='last_price').plot(color=\"Darkviolet\", style='o', grid=True, figsize=(6, 6), alpha = 0.2)"
   ]
  },
  {
   "cell_type": "code",
   "execution_count": 77,
   "id": "113eb53f",
   "metadata": {},
   "outputs": [
    {
     "name": "stdout",
     "output_type": "stream",
     "text": [
      "Корреляция цены от жилой площади: 0.6565549612477484\n"
     ]
    }
   ],
   "source": [
    "df_pivot2 = data.pivot_table(index='living_area', values='last_price')\n",
    "df_pivot2['index'] = df_pivot2.index\n",
    "\n",
    "print('Корреляция цены от жилой площади:',\n",
    "df_pivot2['index'].corr(df_pivot2['last_price']))"
   ]
  },
  {
   "cell_type": "markdown",
   "id": "2505951b",
   "metadata": {},
   "source": [
    "Как и в предыдущем объекте из гистограммы видно, что с увеличеним жилой площaди объекта увеличивается его стоймость (вполне логично), но и есть объекты колоссально выделяющиеся по стоймости."
   ]
  },
  {
   "cell_type": "markdown",
   "id": "3b4c3059",
   "metadata": {},
   "source": [
    "### Фактор площади кухни"
   ]
  },
  {
   "cell_type": "code",
   "execution_count": 78,
   "id": "bea80741",
   "metadata": {},
   "outputs": [
    {
     "data": {
      "text/plain": [
       "<AxesSubplot:xlabel='kitchen_area'>"
      ]
     },
     "execution_count": 78,
     "metadata": {},
     "output_type": "execute_result"
    },
    {
     "data": {
      "image/png": "[encoded data removed]",
      "text/plain": [
       "<Figure size 432x432 with 1 Axes>"
      ]
     },
     "metadata": {
      "needs_background": "light"
     },
     "output_type": "display_data"
    }
   ],
   "source": [
    "data.pivot_table(index='kitchen_area', values='last_price').plot(color = 'Brown', style='o', grid=True, figsize=(6, 6), alpha = 0.2)"
   ]
  },
  {
   "cell_type": "code",
   "execution_count": 79,
   "id": "794f84b1",
   "metadata": {},
   "outputs": [
    {
     "name": "stdout",
     "output_type": "stream",
     "text": [
      "Корреляция цены от площади кухни: 0.6359947210071365\n"
     ]
    }
   ],
   "source": [
    "df_pivot3 = data.pivot_table(index='kitchen_area', values='last_price')\n",
    "df_pivot3['index'] = df_pivot3.index\n",
    "\n",
    "print('Корреляция цены от площади кухни:',\n",
    "df_pivot3['index'].corr(df_pivot3['last_price']))"
   ]
  },
  {
   "cell_type": "markdown",
   "id": "bed37af2",
   "metadata": {},
   "source": [
    "Гистограмма имеет меньший угол наклона, чем с фактором общей площади. "
   ]
  },
  {
   "cell_type": "markdown",
   "id": "69666ca3",
   "metadata": {},
   "source": [
    "### Фактор количества комнат"
   ]
  },
  {
   "cell_type": "code",
   "execution_count": 80,
   "id": "0045afad",
   "metadata": {},
   "outputs": [
    {
     "data": {
      "text/plain": [
       "<AxesSubplot:xlabel='rooms'>"
      ]
     },
     "execution_count": 80,
     "metadata": {},
     "output_type": "execute_result"
    },
    {
     "data": {
      "image/png": "[encoded data removed]",
      "text/plain": [
       "<Figure size 432x288 with 1 Axes>"
      ]
     },
     "metadata": {
      "needs_background": "light"
     },
     "output_type": "display_data"
    }
   ],
   "source": [
    "data.pivot_table(index='rooms', values='last_price').plot(grid=True)"
   ]
  },
  {
   "cell_type": "code",
   "execution_count": 81,
   "id": "90dffeab",
   "metadata": {},
   "outputs": [
    {
     "name": "stdout",
     "output_type": "stream",
     "text": [
      "Корреляция цены от количества комнат: 0.9703885737278707\n"
     ]
    }
   ],
   "source": [
    "df_pivot4 = data.pivot_table(index='rooms', values='last_price')\n",
    "df_pivot4['index'] = df_pivot4.index\n",
    "\n",
    "print('Корреляция цены от количества комнат:',\n",
    "df_pivot4['index'].corr(df_pivot3['last_price']))"
   ]
  },
  {
   "cell_type": "markdown",
   "id": "183343d1",
   "metadata": {},
   "source": [
    "Практически линейная зависимость. Есть выбивающиеся значения. Возмножно они возникают от особенностей объекта"
   ]
  },
  {
   "cell_type": "markdown",
   "id": "391d2bc2",
   "metadata": {},
   "source": [
    "### Фактор этажа объекта"
   ]
  },
  {
   "cell_type": "code",
   "execution_count": 82,
   "id": "8b2a4f21",
   "metadata": {},
   "outputs": [
    {
     "data": {
      "text/plain": [
       "<AxesSubplot:xlabel='floor'>"
      ]
     },
     "execution_count": 82,
     "metadata": {},
     "output_type": "execute_result"
    },
    {
     "data": {
      "image/png": "[encoded data removed]",
      "text/plain": [
       "<Figure size 432x288 with 1 Axes>"
      ]
     },
     "metadata": {
      "needs_background": "light"
     },
     "output_type": "display_data"
    }
   ],
   "source": [
    "data.pivot_table(index='floor', values='last_price').plot(grid=True)"
   ]
  },
  {
   "cell_type": "code",
   "execution_count": 83,
   "id": "c16d26ee",
   "metadata": {},
   "outputs": [
    {
     "name": "stdout",
     "output_type": "stream",
     "text": [
      "Корреляция цены от количества комнат: 0.309235963529916\n"
     ]
    }
   ],
   "source": [
    "df_pivot5 = data.pivot_table(index='floor', values='last_price')\n",
    "df_pivot5['index'] = df_pivot5.index\n",
    "\n",
    "print('Корреляция цены от количества комнат:',\n",
    "df_pivot5['index'].corr(df_pivot5['last_price']))"
   ]
  },
  {
   "cell_type": "markdown",
   "id": "bfacac86",
   "metadata": {},
   "source": [
    "Странный результат. получается с ростом этажа с 1го по 4й цена увеличивается, потом чуть падает. И не считая пика объектов на 10х этажах примерно держится на одном уровне. Еще есть скачок объектов располагающихся на 19 этаже и выше 28 этажа. Провал в диапазоне от 21 до 23 этажа."
   ]
  },
  {
   "cell_type": "markdown",
   "id": "6b2d81fb",
   "metadata": {},
   "source": [
    "### Фактор даты размещения"
   ]
  },
  {
   "cell_type": "code",
   "execution_count": 84,
   "id": "a234521f",
   "metadata": {},
   "outputs": [
    {
     "data": {
      "text/plain": [
       "<AxesSubplot:xlabel='weekday_puplication'>"
      ]
     },
     "execution_count": 84,
     "metadata": {},
     "output_type": "execute_result"
    },
    {
     "data": {
      "image/png": "[encoded data removed]",
      "text/plain": [
       "<Figure size 720x432 with 1 Axes>"
      ]
     },
     "metadata": {
      "needs_background": "light"
     },
     "output_type": "display_data"
    }
   ],
   "source": [
    "data.pivot_table(index='weekday_puplication', values='last_price').plot( figsize=(10, 6), grid=True)"
   ]
  },
  {
   "cell_type": "markdown",
   "id": "90cad79e",
   "metadata": {},
   "source": [
    "Из графика видно, что в пятницу размещаются объекты по самым низким ценам. Зато в субботу- по самым высоким."
   ]
  },
  {
   "cell_type": "code",
   "execution_count": 85,
   "id": "e0a45c3b",
   "metadata": {
    "scrolled": true
   },
   "outputs": [
    {
     "data": {
      "text/plain": [
       "<AxesSubplot:xlabel='month_puplication'>"
      ]
     },
     "execution_count": 85,
     "metadata": {},
     "output_type": "execute_result"
    },
    {
     "data": {
      "image/png": "[encoded data removed]",
      "text/plain": [
       "<Figure size 432x288 with 1 Axes>"
      ]
     },
     "metadata": {
      "needs_background": "light"
     },
     "output_type": "display_data"
    }
   ],
   "source": [
    "data.pivot_table(index='month_puplication', values='last_price').plot(grid=True) #фактор месяца размещения"
   ]
  },
  {
   "cell_type": "markdown",
   "id": "2a6f0930",
   "metadata": {},
   "source": [
    "По криволинейному графику можно сделать вывод, что в октябре самые низкие цены на объекты недвижимости. Но к Новому году стоймость достигает максимума. Возможно в связи со страхом людей перед неизвестностью, а возможно из-за роста предновогоднего ажиотажа (всем что-то нужно купить и квартиры не исключение)"
   ]
  },
  {
   "cell_type": "code",
   "execution_count": 86,
   "id": "afae2ade",
   "metadata": {
    "scrolled": true
   },
   "outputs": [
    {
     "data": {
      "text/plain": [
       "<AxesSubplot:xlabel='year_puplication'>"
      ]
     },
     "execution_count": 86,
     "metadata": {},
     "output_type": "execute_result"
    },
    {
     "data": {
      "image/png": "[encoded data removed]",
      "text/plain": [
       "<Figure size 432x288 with 1 Axes>"
      ]
     },
     "metadata": {
      "needs_background": "light"
     },
     "output_type": "display_data"
    }
   ],
   "source": [
    "data.pivot_table(index='year_puplication', values='last_price').plot( grid=True)"
   ]
  },
  {
   "cell_type": "markdown",
   "id": "031af3c2",
   "metadata": {},
   "source": [
    "## Add"
   ]
  },
  {
   "cell_type": "code",
   "execution_count": 87,
   "id": "138a4e14",
   "metadata": {
    "scrolled": true
   },
   "outputs": [
    {
     "data": {
      "text/plain": [
       "<AxesSubplot:xlabel='year_puplication'>"
      ]
     },
     "execution_count": 87,
     "metadata": {},
     "output_type": "execute_result"
    },
    {
     "data": {
      "image/png": "[encoded data removed]",
      "text/plain": [
       "<Figure size 432x288 with 1 Axes>"
      ]
     },
     "metadata": {
      "needs_background": "light"
     },
     "output_type": "display_data"
    }
   ],
   "source": [
    "data.pivot_table(index='year_puplication', values='total_area').plot(grid=True)"
   ]
  },
  {
   "cell_type": "markdown",
   "id": "f0037e11",
   "metadata": {},
   "source": [
    "С 2014 года по 2018 наблюдается резкое падение площади объектов."
   ]
  },
  {
   "cell_type": "code",
   "execution_count": 88,
   "id": "1a6e311f",
   "metadata": {},
   "outputs": [
    {
     "data": {
      "text/plain": [
       "<AxesSubplot:xlabel='year_puplication'>"
      ]
     },
     "execution_count": 88,
     "metadata": {},
     "output_type": "execute_result"
    },
    {
     "data": {
      "image/png": "[encoded data removed]",
      "text/plain": [
       "<Figure size 432x288 with 1 Axes>"
      ]
     },
     "metadata": {
      "needs_background": "light"
     },
     "output_type": "display_data"
    }
   ],
   "source": [
    "data.pivot_table(index='year_puplication', values='price_metre').plot(grid=True)"
   ]
  },
  {
   "cell_type": "markdown",
   "id": "a8a4e892",
   "metadata": {},
   "source": [
    "С 2014 года по 2018 наблюдается резкое падение стоймости объектов, однако за 2018 год наблюдается тенденция к резкому увеличению стоймости квадратного метра даже выше чем в 2015 году."
   ]
  },
  {
   "cell_type": "markdown",
   "id": "6e8df2b8",
   "metadata": {},
   "source": [
    "# Дополнительные расчеты"
   ]
  },
  {
   "cell_type": "code",
   "execution_count": 89,
   "id": "c57ea2f1",
   "metadata": {},
   "outputs": [
    {
     "data": {
      "text/html": [
       "<div>\n",
       "<style scoped>\n",
       "    .dataframe tbody tr th:only-of-type {\n",
       "        vertical-align: middle;\n",
       "    }\n",
       "\n",
       "    .dataframe tbody tr th {\n",
       "        vertical-align: top;\n",
       "    }\n",
       "\n",
       "    .dataframe thead th {\n",
       "        text-align: right;\n",
       "    }\n",
       "</style>\n",
       "<table border=\"1\" class=\"dataframe\">\n",
       "  <thead>\n",
       "    <tr style=\"text-align: right;\">\n",
       "      <th></th>\n",
       "      <th>Средняя стоймость, ₽</th>\n",
       "    </tr>\n",
       "    <tr>\n",
       "      <th>locality_name</th>\n",
       "      <th></th>\n",
       "    </tr>\n",
       "  </thead>\n",
       "  <tbody>\n",
       "    <tr>\n",
       "      <th>Санкт-Петербург</th>\n",
       "      <td>7948071</td>\n",
       "    </tr>\n",
       "    <tr>\n",
       "      <th>Пушкин</th>\n",
       "      <td>6492505</td>\n",
       "    </tr>\n",
       "    <tr>\n",
       "      <th>посёлок Парголово</th>\n",
       "      <td>4453805</td>\n",
       "    </tr>\n",
       "    <tr>\n",
       "      <th>Петергоф</th>\n",
       "      <td>4404071</td>\n",
       "    </tr>\n",
       "    <tr>\n",
       "      <th>Кудрово</th>\n",
       "      <td>4324628</td>\n",
       "    </tr>\n",
       "    <tr>\n",
       "      <th>посёлок Шушары</th>\n",
       "      <td>4100152</td>\n",
       "    </tr>\n",
       "    <tr>\n",
       "      <th>Колпино</th>\n",
       "      <td>3950515</td>\n",
       "    </tr>\n",
       "    <tr>\n",
       "      <th>Всеволожск</th>\n",
       "      <td>3795835</td>\n",
       "    </tr>\n",
       "    <tr>\n",
       "      <th>Мурино</th>\n",
       "      <td>3699498</td>\n",
       "    </tr>\n",
       "    <tr>\n",
       "      <th>Гатчина</th>\n",
       "      <td>3495443</td>\n",
       "    </tr>\n",
       "  </tbody>\n",
       "</table>\n",
       "</div>"
      ],
      "text/plain": [
       "                   Средняя стоймость, ₽\n",
       "locality_name                          \n",
       "Санкт-Петербург                 7948071\n",
       "Пушкин                          6492505\n",
       "посёлок Парголово               4453805\n",
       "Петергоф                        4404071\n",
       "Кудрово                         4324628\n",
       "посёлок Шушары                  4100152\n",
       "Колпино                         3950515\n",
       "Всеволожск                      3795835\n",
       "Мурино                          3699498\n",
       "Гатчина                         3495443"
      ]
     },
     "execution_count": 89,
     "metadata": {},
     "output_type": "execute_result"
    }
   ],
   "source": [
    "top_10_city = data['locality_name'].value_counts().head(10) #выделим 10 строчек из сортированных городов\n",
    "top_10_city_price = data.query('locality_name in (@top_10_city.index)').pivot_table( index='locality_name', values='last_price')\n",
    "#по выделенному списку делаем срез и сводим в таблицу по цене\n",
    "top_10_city_price['last_price'] = top_10_city_price['last_price'].astype(int) #преобразуем цену в целочисленное значение\n",
    "top_10_city_price.columns = ['Средняя стоймость, ₽'] #переименуем сгруппированный столбец\n",
    "top_10_city_price.sort_values( by = 'Средняя стоймость, ₽', ascending=False) #отсортируем по убыванию"
   ]
  },
  {
   "cell_type": "code",
   "execution_count": 98,
   "id": "1d632d6c",
   "metadata": {},
   "outputs": [
    {
     "data": {
      "text/html": [
       "<div>\n",
       "<style scoped>\n",
       "    .dataframe tbody tr th:only-of-type {\n",
       "        vertical-align: middle;\n",
       "    }\n",
       "\n",
       "    .dataframe tbody tr th {\n",
       "        vertical-align: top;\n",
       "    }\n",
       "\n",
       "    .dataframe thead th {\n",
       "        text-align: right;\n",
       "    }\n",
       "</style>\n",
       "<table border=\"1\" class=\"dataframe\">\n",
       "  <thead>\n",
       "    <tr style=\"text-align: right;\">\n",
       "      <th></th>\n",
       "      <th>Средняя цена</th>\n",
       "      <th>Кол-во объявлений</th>\n",
       "    </tr>\n",
       "    <tr>\n",
       "      <th>Название населенного пункта</th>\n",
       "      <th></th>\n",
       "      <th></th>\n",
       "    </tr>\n",
       "  </thead>\n",
       "  <tbody>\n",
       "    <tr>\n",
       "      <th>Санкт-Петербург</th>\n",
       "      <td>5500000</td>\n",
       "      <td>14566</td>\n",
       "    </tr>\n",
       "    <tr>\n",
       "      <th>Мурино</th>\n",
       "      <td>3400000</td>\n",
       "      <td>523</td>\n",
       "    </tr>\n",
       "    <tr>\n",
       "      <th>Кудрово</th>\n",
       "      <td>3800000</td>\n",
       "      <td>423</td>\n",
       "    </tr>\n",
       "    <tr>\n",
       "      <th>посёлок Шушары</th>\n",
       "      <td>3950000</td>\n",
       "      <td>404</td>\n",
       "    </tr>\n",
       "    <tr>\n",
       "      <th>Всеволожск</th>\n",
       "      <td>3450000</td>\n",
       "      <td>370</td>\n",
       "    </tr>\n",
       "    <tr>\n",
       "      <th>Пушкин</th>\n",
       "      <td>5200000</td>\n",
       "      <td>345</td>\n",
       "    </tr>\n",
       "    <tr>\n",
       "      <th>Колпино</th>\n",
       "      <td>3600000</td>\n",
       "      <td>328</td>\n",
       "    </tr>\n",
       "    <tr>\n",
       "      <th>посёлок Парголово</th>\n",
       "      <td>4100000</td>\n",
       "      <td>301</td>\n",
       "    </tr>\n",
       "    <tr>\n",
       "      <th>Гатчина</th>\n",
       "      <td>3095000</td>\n",
       "      <td>292</td>\n",
       "    </tr>\n",
       "    <tr>\n",
       "      <th>Петергоф</th>\n",
       "      <td>3700000</td>\n",
       "      <td>197</td>\n",
       "    </tr>\n",
       "  </tbody>\n",
       "</table>\n",
       "</div>"
      ],
      "text/plain": [
       "                             Средняя цена  Кол-во объявлений\n",
       "Название населенного пункта                                 \n",
       "Санкт-Петербург                   5500000              14566\n",
       "Мурино                            3400000                523\n",
       "Кудрово                           3800000                423\n",
       "посёлок Шушары                    3950000                404\n",
       "Всеволожск                        3450000                370\n",
       "Пушкин                            5200000                345\n",
       "Колпино                           3600000                328\n",
       "посёлок Парголово                 4100000                301\n",
       "Гатчина                           3095000                292\n",
       "Петергоф                          3700000                197"
      ]
     },
     "execution_count": 98,
     "metadata": {},
     "output_type": "execute_result"
    }
   ],
   "source": [
    "large_settlements = data.groupby('locality_name')['last_price'].agg(['median','count']).sort_values(by='count', ascending=False) # Сгруппируем и посчитаем среднюю цену и кол-во объявлений\n",
    "large_settlements = large_settlements.rename(columns={'median':'Средняя цена', 'count':'Кол-во объявлений'}) # Переименуем столбцы для удобства анализирования\n",
    "large_settlements.index = large_settlements.index.rename('Название населенного пункта')\n",
    "large_settlements = large_settlements.head(10)\n",
    "large_settlements"
   ]
  },
  {
   "cell_type": "code",
   "execution_count": 90,
   "id": "2e7fa5d0",
   "metadata": {},
   "outputs": [
    {
     "data": {
      "text/plain": [
       "array([[<AxesSubplot:title={'center':'Средняя стоймость, ₽'}>]],\n",
       "      dtype=object)"
      ]
     },
     "execution_count": 90,
     "metadata": {},
     "output_type": "execute_result"
    },
    {
     "data": {
      "image/png": "[encoded data removed]",
      "text/plain": [
       "<Figure size 432x288 with 1 Axes>"
      ]
     },
     "metadata": {
      "needs_background": "light"
     },
     "output_type": "display_data"
    }
   ],
   "source": [
    "top_10_city_price.sort_values( by = 'Средняя стоймость, ₽', ascending=False).hist(color=\"Grey\", bins = 30, grid=True)"
   ]
  },
  {
   "cell_type": "markdown",
   "id": "8a513c70",
   "metadata": {},
   "source": [
    "ТОП 10 самых распространенныхгородов среди общего списка показал, что самые дорогие объекты в Санкт-Петербурге, а самые дешевые в Гатчине.\n",
    "\n",
    "Пушкин - город второй по высокой стоймости объекта. Я думаю, это связано с его историей и знаменитыми объектами на территории города.\n",
    "\n",
    "В Гатчине располагается институт ПИЯФ (Петербургский институт ядерной физики), такое соседство не особо располагает потенциального покупателя, отсюда и низкая стоймость объектов."
   ]
  },
  {
   "cell_type": "code",
   "execution_count": 91,
   "id": "7beb4a7b",
   "metadata": {
    "scrolled": true
   },
   "outputs": [
    {
     "data": {
      "text/plain": [
       "<AxesSubplot:xlabel='cityCenters_nearest'>"
      ]
     },
     "execution_count": 91,
     "metadata": {},
     "output_type": "execute_result"
    },
    {
     "data": {
      "image/png": "[encoded data removed]",
      "text/plain": [
       "<Figure size 432x288 with 1 Axes>"
      ]
     },
     "metadata": {
      "needs_background": "light"
     },
     "output_type": "display_data"
    }
   ],
   "source": [
    "data.query('locality_name == \"Санкт-Петербург\"').pivot_table(index='cityCenters_nearest', values='last_price').plot(grid=True,color=\"DarkGreen\", xlim=(0,15))"
   ]
  },
  {
   "cell_type": "code",
   "execution_count": 92,
   "id": "cc203df0",
   "metadata": {},
   "outputs": [
    {
     "data": {
      "text/html": [
       "<div>\n",
       "<style scoped>\n",
       "    .dataframe tbody tr th:only-of-type {\n",
       "        vertical-align: middle;\n",
       "    }\n",
       "\n",
       "    .dataframe tbody tr th {\n",
       "        vertical-align: top;\n",
       "    }\n",
       "\n",
       "    .dataframe thead th {\n",
       "        text-align: right;\n",
       "    }\n",
       "</style>\n",
       "<table border=\"1\" class=\"dataframe\">\n",
       "  <thead>\n",
       "    <tr style=\"text-align: right;\">\n",
       "      <th></th>\n",
       "      <th>Средняя стоймость, ₽</th>\n",
       "    </tr>\n",
       "    <tr>\n",
       "      <th>cityCenters_nearest</th>\n",
       "      <th></th>\n",
       "    </tr>\n",
       "  </thead>\n",
       "  <tbody>\n",
       "    <tr>\n",
       "      <th>0.0</th>\n",
       "      <td>21482104</td>\n",
       "    </tr>\n",
       "    <tr>\n",
       "      <th>1.0</th>\n",
       "      <td>21631714</td>\n",
       "    </tr>\n",
       "    <tr>\n",
       "      <th>2.0</th>\n",
       "      <td>18096195</td>\n",
       "    </tr>\n",
       "    <tr>\n",
       "      <th>3.0</th>\n",
       "      <td>11009464</td>\n",
       "    </tr>\n",
       "    <tr>\n",
       "      <th>4.0</th>\n",
       "      <td>13040108</td>\n",
       "    </tr>\n",
       "    <tr>\n",
       "      <th>5.0</th>\n",
       "      <td>13813967</td>\n",
       "    </tr>\n",
       "    <tr>\n",
       "      <th>6.0</th>\n",
       "      <td>14835943</td>\n",
       "    </tr>\n",
       "    <tr>\n",
       "      <th>7.0</th>\n",
       "      <td>14379874</td>\n",
       "    </tr>\n",
       "    <tr>\n",
       "      <th>8.0</th>\n",
       "      <td>10057497</td>\n",
       "    </tr>\n",
       "    <tr>\n",
       "      <th>9.0</th>\n",
       "      <td>6953814</td>\n",
       "    </tr>\n",
       "    <tr>\n",
       "      <th>10.0</th>\n",
       "      <td>6369340</td>\n",
       "    </tr>\n",
       "    <tr>\n",
       "      <th>11.0</th>\n",
       "      <td>6233362</td>\n",
       "    </tr>\n",
       "    <tr>\n",
       "      <th>12.0</th>\n",
       "      <td>5844691</td>\n",
       "    </tr>\n",
       "    <tr>\n",
       "      <th>13.0</th>\n",
       "      <td>6069704</td>\n",
       "    </tr>\n",
       "    <tr>\n",
       "      <th>14.0</th>\n",
       "      <td>5566230</td>\n",
       "    </tr>\n",
       "    <tr>\n",
       "      <th>15.0</th>\n",
       "      <td>5877039</td>\n",
       "    </tr>\n",
       "    <tr>\n",
       "      <th>16.0</th>\n",
       "      <td>5345550</td>\n",
       "    </tr>\n",
       "    <tr>\n",
       "      <th>17.0</th>\n",
       "      <td>5299656</td>\n",
       "    </tr>\n",
       "    <tr>\n",
       "      <th>18.0</th>\n",
       "      <td>5121678</td>\n",
       "    </tr>\n",
       "    <tr>\n",
       "      <th>19.0</th>\n",
       "      <td>5064282</td>\n",
       "    </tr>\n",
       "    <tr>\n",
       "      <th>20.0</th>\n",
       "      <td>6041101</td>\n",
       "    </tr>\n",
       "    <tr>\n",
       "      <th>21.0</th>\n",
       "      <td>5160932</td>\n",
       "    </tr>\n",
       "    <tr>\n",
       "      <th>22.0</th>\n",
       "      <td>5251985</td>\n",
       "    </tr>\n",
       "    <tr>\n",
       "      <th>23.0</th>\n",
       "      <td>5000358</td>\n",
       "    </tr>\n",
       "    <tr>\n",
       "      <th>24.0</th>\n",
       "      <td>3871130</td>\n",
       "    </tr>\n",
       "    <tr>\n",
       "      <th>25.0</th>\n",
       "      <td>3985174</td>\n",
       "    </tr>\n",
       "    <tr>\n",
       "      <th>26.0</th>\n",
       "      <td>4002346</td>\n",
       "    </tr>\n",
       "    <tr>\n",
       "      <th>27.0</th>\n",
       "      <td>8300000</td>\n",
       "    </tr>\n",
       "    <tr>\n",
       "      <th>28.0</th>\n",
       "      <td>5026428</td>\n",
       "    </tr>\n",
       "    <tr>\n",
       "      <th>29.0</th>\n",
       "      <td>4236666</td>\n",
       "    </tr>\n",
       "  </tbody>\n",
       "</table>\n",
       "</div>"
      ],
      "text/plain": [
       "                     Средняя стоймость, ₽\n",
       "cityCenters_nearest                      \n",
       "0.0                              21482104\n",
       "1.0                              21631714\n",
       "2.0                              18096195\n",
       "3.0                              11009464\n",
       "4.0                              13040108\n",
       "5.0                              13813967\n",
       "6.0                              14835943\n",
       "7.0                              14379874\n",
       "8.0                              10057497\n",
       "9.0                               6953814\n",
       "10.0                              6369340\n",
       "11.0                              6233362\n",
       "12.0                              5844691\n",
       "13.0                              6069704\n",
       "14.0                              5566230\n",
       "15.0                              5877039\n",
       "16.0                              5345550\n",
       "17.0                              5299656\n",
       "18.0                              5121678\n",
       "19.0                              5064282\n",
       "20.0                              6041101\n",
       "21.0                              5160932\n",
       "22.0                              5251985\n",
       "23.0                              5000358\n",
       "24.0                              3871130\n",
       "25.0                              3985174\n",
       "26.0                              4002346\n",
       "27.0                              8300000\n",
       "28.0                              5026428\n",
       "29.0                              4236666"
      ]
     },
     "execution_count": 92,
     "metadata": {},
     "output_type": "execute_result"
    }
   ],
   "source": [
    "price_km = data.query('locality_name == \"Санкт-Петербург\"').pivot_table(index='cityCenters_nearest', values='last_price')\n",
    "#срез по одному городу\n",
    "price_km['last_price']= price_km['last_price'].astype(int) #преобразуем цену в целочисленное значение\n",
    "price_km.columns = ['Средняя стоймость, ₽'] #переименуем сгруппированный столбец\n",
    "price_km"
   ]
  },
  {
   "cell_type": "markdown",
   "id": "d1369f90",
   "metadata": {},
   "source": [
    "Стоймость объектов зависит от расстояния до центра города. Самые дорогие объекты именно в центре. С увеличением дальности от центра стоймость снижается, но не равномерно. Возможно, пик на 6км от центра связан с каким-то культурным достоянием или с расположением метро.\n",
    "    \n",
    "Далее 9км стоймость практически не меняется"
   ]
  },
  {
   "cell_type": "markdown",
   "id": "5166b3b4",
   "metadata": {},
   "source": [
    "# Общий вывод"
   ]
  },
  {
   "cell_type": "markdown",
   "id": "53364df7",
   "metadata": {},
   "source": [
    "**Во время анализа данных Яндекс.Недвижимости после изучения общей информации, я провела предобработку данных,в которой были убраны пропуски значений в некоторых столбцах. Изменен тип данных для более упрощенной визуализации данных на графиках и гистограммах. Для анализа была произведенена категоризация данных по общей этажности объектов недвижимости. Также была проведена проверка на дубликаты, которая не выявила дублирующихся строк, однако во время поиска неявных дубликатов, такие имели место быть, но не долго, потому что были заменены по общим правилам. Для наглядности результатов анализа были добавлены значения стоймости квадратного метра объекта недвижимости, а также календарные данные.\n",
    "    Анализ производился по общей площади объектов, по жилой площадт, по площади кухни, цены объекта, количеству комнат объекта, номер этажа расположения объекта, расстояния до важных точек города (парки, центр города), день и месяц публикации объявления на Яндекс.Недвижимость, скорость продажи объекта и возможные факторы, влияющие на нее.**\n",
    "    \n",
    "    \n",
    "В результате анализа Яндекс.Недвижимости — архива объявлений о продаже квартир в Санкт-Петербурге и соседних населённых пунктов за несколько лет, я сделала следующие выводы:\n",
    "\n",
    "Стоймость объекта может зависеть от многочисленных параметров:\n",
    "\n",
    "1) Цена объекта растет с увеличением общей площади, жилой площади и площади кухни;\n",
    "    \n",
    "2) Цена зависит от года публикации объявления. Например в 2014 году цены были высокие, а после цены пошли в низ до 2018 года. К наступлению 2019 стоймость стала увеличиваться. **Это связано с уменьшением общей площади жилья и снижением стоймости квадратного метра. Однако в течение 2018 года стоймость квадратного метра резко увеличилась (Год проведения ЧМ по Футболу) и увеличилась квадратру, однако рост цены более резкий нежели рост общей площади объектов недвижимости**;\n",
    "    \n",
    "3) Замечена тендеция увеличения цены к концу года и падение цен в октябре месяце (после отпусков летом чаще всего у населения нет финансов и цены часто падают и на автомобильном рынке, например);\n",
    "    \n",
    "4) Чаще всего объявления о продаже размещают в будние дни, однако в эти дни цена не завышена, а редкие объявления - в выходные дни имеют самую высокую стоймость объектов недвижимости;\n",
    "\n",
    "5) Стоймость квартиры зависит от расположения объекта: близость к центру города гарантирует увеличение цен на объект, но удаление от центра города снижает стоймость квадратного метра объекта;\n",
    "    \n",
    "6) Количество комнат увеличивают квадратуру объекта, следовательно увеличивают и стоймость объекта;\n",
    "    \n",
    "7) Ценообразование зависит от населенного пункта. Например самые дорогие объекты расположены в Санкт-Петербурге (почти 8 миллионов рублей), а самые дешевые в городе Гатчина (примерно 3,5 миллиона рублей);\n",
    "\n",
    "8) Наличие балкона увеличивает общую площадь объекта, а ее увеличение приводит к росту цены.\n",
    "    \n",
    "Ценооразование объектов недвижимости подчиняется многочисленным законам, исследование которых необходимо, чтобы объект был продан/куплен с максимальной выгодой, как для продавца, так и для покупателя. Разнообразие объектов диктует разнообразие цен, однако общие зависимости роста/снижения цены были представлены выше.\n"
   ]
  }
 ],
 "metadata": {
  "ExecuteTimeLog": [
   {
    "duration": 65,
    "start_time": "2022-07-22T21:09:43.713Z"
   },
   {
    "duration": 454,
    "start_time": "2022-07-22T21:09:53.205Z"
   },
   {
    "duration": 134,
    "start_time": "2022-07-22T21:09:53.661Z"
   },
   {
    "duration": 0,
    "start_time": "2022-07-22T21:09:53.799Z"
   },
   {
    "duration": 0,
    "start_time": "2022-07-22T21:09:53.801Z"
   },
   {
    "duration": 0,
    "start_time": "2022-07-22T21:09:53.802Z"
   },
   {
    "duration": 0,
    "start_time": "2022-07-22T21:09:53.803Z"
   },
   {
    "duration": 0,
    "start_time": "2022-07-22T21:09:53.804Z"
   },
   {
    "duration": 0,
    "start_time": "2022-07-22T21:09:53.805Z"
   },
   {
    "duration": 0,
    "start_time": "2022-07-22T21:09:53.806Z"
   },
   {
    "duration": 0,
    "start_time": "2022-07-22T21:09:53.807Z"
   },
   {
    "duration": 0,
    "start_time": "2022-07-22T21:09:53.808Z"
   },
   {
    "duration": 0,
    "start_time": "2022-07-22T21:09:53.809Z"
   },
   {
    "duration": 0,
    "start_time": "2022-07-22T21:09:53.810Z"
   },
   {
    "duration": 0,
    "start_time": "2022-07-22T21:09:53.831Z"
   },
   {
    "duration": 0,
    "start_time": "2022-07-22T21:09:53.832Z"
   },
   {
    "duration": 0,
    "start_time": "2022-07-22T21:09:53.832Z"
   },
   {
    "duration": 0,
    "start_time": "2022-07-22T21:09:53.833Z"
   },
   {
    "duration": 0,
    "start_time": "2022-07-22T21:09:53.834Z"
   },
   {
    "duration": 0,
    "start_time": "2022-07-22T21:09:53.834Z"
   },
   {
    "duration": 0,
    "start_time": "2022-07-22T21:09:53.835Z"
   },
   {
    "duration": 0,
    "start_time": "2022-07-22T21:09:53.836Z"
   },
   {
    "duration": 0,
    "start_time": "2022-07-22T21:09:53.839Z"
   },
   {
    "duration": 0,
    "start_time": "2022-07-22T21:09:53.840Z"
   },
   {
    "duration": 0,
    "start_time": "2022-07-22T21:09:53.841Z"
   },
   {
    "duration": 0,
    "start_time": "2022-07-22T21:09:53.842Z"
   },
   {
    "duration": 0,
    "start_time": "2022-07-22T21:09:53.842Z"
   },
   {
    "duration": 0,
    "start_time": "2022-07-22T21:09:53.844Z"
   },
   {
    "duration": 0,
    "start_time": "2022-07-22T21:09:53.845Z"
   },
   {
    "duration": 0,
    "start_time": "2022-07-22T21:09:53.846Z"
   },
   {
    "duration": 0,
    "start_time": "2022-07-22T21:09:53.847Z"
   },
   {
    "duration": 0,
    "start_time": "2022-07-22T21:09:53.848Z"
   },
   {
    "duration": 0,
    "start_time": "2022-07-22T21:09:53.850Z"
   },
   {
    "duration": 0,
    "start_time": "2022-07-22T21:09:53.851Z"
   },
   {
    "duration": 0,
    "start_time": "2022-07-22T21:09:53.852Z"
   },
   {
    "duration": 0,
    "start_time": "2022-07-22T21:09:53.854Z"
   },
   {
    "duration": 0,
    "start_time": "2022-07-22T21:09:53.855Z"
   },
   {
    "duration": 0,
    "start_time": "2022-07-22T21:09:53.857Z"
   },
   {
    "duration": 0,
    "start_time": "2022-07-22T21:09:53.858Z"
   },
   {
    "duration": 0,
    "start_time": "2022-07-22T21:09:53.860Z"
   },
   {
    "duration": 0,
    "start_time": "2022-07-22T21:09:53.861Z"
   },
   {
    "duration": 0,
    "start_time": "2022-07-22T21:09:53.862Z"
   },
   {
    "duration": 0,
    "start_time": "2022-07-22T21:09:53.863Z"
   },
   {
    "duration": 0,
    "start_time": "2022-07-22T21:09:53.864Z"
   },
   {
    "duration": 0,
    "start_time": "2022-07-22T21:09:53.865Z"
   },
   {
    "duration": 0,
    "start_time": "2022-07-22T21:09:53.866Z"
   },
   {
    "duration": 0,
    "start_time": "2022-07-22T21:09:53.867Z"
   },
   {
    "duration": 0,
    "start_time": "2022-07-22T21:09:53.927Z"
   },
   {
    "duration": 0,
    "start_time": "2022-07-22T21:09:53.928Z"
   },
   {
    "duration": 0,
    "start_time": "2022-07-22T21:09:53.931Z"
   },
   {
    "duration": 0,
    "start_time": "2022-07-22T21:09:53.931Z"
   },
   {
    "duration": 0,
    "start_time": "2022-07-22T21:09:53.932Z"
   },
   {
    "duration": 0,
    "start_time": "2022-07-22T21:09:53.932Z"
   },
   {
    "duration": 0,
    "start_time": "2022-07-22T21:09:53.933Z"
   },
   {
    "duration": 0,
    "start_time": "2022-07-22T21:09:53.934Z"
   },
   {
    "duration": 0,
    "start_time": "2022-07-22T21:09:53.934Z"
   },
   {
    "duration": 0,
    "start_time": "2022-07-22T21:09:53.935Z"
   },
   {
    "duration": 0,
    "start_time": "2022-07-22T21:09:53.935Z"
   },
   {
    "duration": 0,
    "start_time": "2022-07-22T21:09:53.938Z"
   },
   {
    "duration": 0,
    "start_time": "2022-07-22T21:09:53.939Z"
   },
   {
    "duration": 0,
    "start_time": "2022-07-22T21:09:53.941Z"
   },
   {
    "duration": 0,
    "start_time": "2022-07-22T21:09:53.942Z"
   },
   {
    "duration": 0,
    "start_time": "2022-07-22T21:09:53.944Z"
   },
   {
    "duration": 0,
    "start_time": "2022-07-22T21:09:53.946Z"
   },
   {
    "duration": 0,
    "start_time": "2022-07-22T21:09:53.948Z"
   },
   {
    "duration": 0,
    "start_time": "2022-07-22T21:09:53.950Z"
   },
   {
    "duration": 0,
    "start_time": "2022-07-22T21:09:53.952Z"
   },
   {
    "duration": 0,
    "start_time": "2022-07-22T21:09:53.953Z"
   },
   {
    "duration": 0,
    "start_time": "2022-07-22T21:09:53.954Z"
   },
   {
    "duration": 0,
    "start_time": "2022-07-22T21:09:53.956Z"
   },
   {
    "duration": 0,
    "start_time": "2022-07-22T21:09:53.957Z"
   },
   {
    "duration": 0,
    "start_time": "2022-07-22T21:09:53.958Z"
   },
   {
    "duration": 0,
    "start_time": "2022-07-22T21:09:53.959Z"
   },
   {
    "duration": 0,
    "start_time": "2022-07-22T21:09:53.960Z"
   },
   {
    "duration": 0,
    "start_time": "2022-07-22T21:09:53.961Z"
   },
   {
    "duration": 0,
    "start_time": "2022-07-22T21:09:53.962Z"
   },
   {
    "duration": 0,
    "start_time": "2022-07-22T21:09:53.963Z"
   },
   {
    "duration": 0,
    "start_time": "2022-07-22T21:09:53.965Z"
   },
   {
    "duration": 1,
    "start_time": "2022-07-22T21:09:53.965Z"
   },
   {
    "duration": 0,
    "start_time": "2022-07-22T21:09:53.967Z"
   },
   {
    "duration": 0,
    "start_time": "2022-07-22T21:09:53.968Z"
   },
   {
    "duration": 0,
    "start_time": "2022-07-22T21:09:53.969Z"
   },
   {
    "duration": 0,
    "start_time": "2022-07-22T21:09:53.970Z"
   },
   {
    "duration": 0,
    "start_time": "2022-07-22T21:09:53.971Z"
   },
   {
    "duration": 0,
    "start_time": "2022-07-22T21:09:53.972Z"
   },
   {
    "duration": 0,
    "start_time": "2022-07-22T21:09:54.031Z"
   },
   {
    "duration": 0,
    "start_time": "2022-07-22T21:09:54.032Z"
   },
   {
    "duration": 0,
    "start_time": "2022-07-22T21:09:54.033Z"
   },
   {
    "duration": 61,
    "start_time": "2022-07-22T21:10:19.351Z"
   },
   {
    "duration": 103,
    "start_time": "2022-07-22T21:10:24.349Z"
   },
   {
    "duration": 511,
    "start_time": "2022-07-22T21:10:28.824Z"
   },
   {
    "duration": 110,
    "start_time": "2022-07-22T21:10:29.337Z"
   },
   {
    "duration": 46,
    "start_time": "2022-07-22T21:10:29.449Z"
   },
   {
    "duration": 30,
    "start_time": "2022-07-22T21:10:29.498Z"
   },
   {
    "duration": 17,
    "start_time": "2022-07-22T21:10:29.533Z"
   },
   {
    "duration": 1159,
    "start_time": "2022-07-22T21:10:29.558Z"
   },
   {
    "duration": 2209,
    "start_time": "2022-07-22T21:10:30.719Z"
   },
   {
    "duration": 32,
    "start_time": "2022-07-22T21:10:32.930Z"
   },
   {
    "duration": 17,
    "start_time": "2022-07-22T21:10:32.964Z"
   },
   {
    "duration": 5,
    "start_time": "2022-07-22T21:10:32.984Z"
   },
   {
    "duration": 12,
    "start_time": "2022-07-22T21:10:32.991Z"
   },
   {
    "duration": 3,
    "start_time": "2022-07-22T21:10:33.005Z"
   },
   {
    "duration": 24,
    "start_time": "2022-07-22T21:10:33.009Z"
   },
   {
    "duration": 109,
    "start_time": "2022-07-22T21:10:33.037Z"
   },
   {
    "duration": 0,
    "start_time": "2022-07-22T21:10:33.155Z"
   },
   {
    "duration": 0,
    "start_time": "2022-07-22T21:10:33.157Z"
   },
   {
    "duration": 0,
    "start_time": "2022-07-22T21:10:33.158Z"
   },
   {
    "duration": 0,
    "start_time": "2022-07-22T21:10:33.160Z"
   },
   {
    "duration": 0,
    "start_time": "2022-07-22T21:10:33.161Z"
   },
   {
    "duration": 0,
    "start_time": "2022-07-22T21:10:33.163Z"
   },
   {
    "duration": 0,
    "start_time": "2022-07-22T21:10:33.164Z"
   },
   {
    "duration": 0,
    "start_time": "2022-07-22T21:10:33.165Z"
   },
   {
    "duration": 0,
    "start_time": "2022-07-22T21:10:33.167Z"
   },
   {
    "duration": 0,
    "start_time": "2022-07-22T21:10:33.169Z"
   },
   {
    "duration": 0,
    "start_time": "2022-07-22T21:10:33.170Z"
   },
   {
    "duration": 0,
    "start_time": "2022-07-22T21:10:33.171Z"
   },
   {
    "duration": 0,
    "start_time": "2022-07-22T21:10:33.173Z"
   },
   {
    "duration": 0,
    "start_time": "2022-07-22T21:10:33.174Z"
   },
   {
    "duration": 0,
    "start_time": "2022-07-22T21:10:33.175Z"
   },
   {
    "duration": 0,
    "start_time": "2022-07-22T21:10:33.177Z"
   },
   {
    "duration": 0,
    "start_time": "2022-07-22T21:10:33.178Z"
   },
   {
    "duration": 0,
    "start_time": "2022-07-22T21:10:33.179Z"
   },
   {
    "duration": 0,
    "start_time": "2022-07-22T21:10:33.180Z"
   },
   {
    "duration": 0,
    "start_time": "2022-07-22T21:10:33.182Z"
   },
   {
    "duration": 0,
    "start_time": "2022-07-22T21:10:33.183Z"
   },
   {
    "duration": 0,
    "start_time": "2022-07-22T21:10:33.184Z"
   },
   {
    "duration": 0,
    "start_time": "2022-07-22T21:10:33.223Z"
   },
   {
    "duration": 0,
    "start_time": "2022-07-22T21:10:33.224Z"
   },
   {
    "duration": 0,
    "start_time": "2022-07-22T21:10:33.225Z"
   },
   {
    "duration": 0,
    "start_time": "2022-07-22T21:10:33.225Z"
   },
   {
    "duration": 0,
    "start_time": "2022-07-22T21:10:33.226Z"
   },
   {
    "duration": 0,
    "start_time": "2022-07-22T21:10:33.231Z"
   },
   {
    "duration": 0,
    "start_time": "2022-07-22T21:10:33.232Z"
   },
   {
    "duration": 0,
    "start_time": "2022-07-22T21:10:33.232Z"
   },
   {
    "duration": 0,
    "start_time": "2022-07-22T21:10:33.233Z"
   },
   {
    "duration": 0,
    "start_time": "2022-07-22T21:10:33.234Z"
   },
   {
    "duration": 0,
    "start_time": "2022-07-22T21:10:33.235Z"
   },
   {
    "duration": 0,
    "start_time": "2022-07-22T21:10:33.236Z"
   },
   {
    "duration": 0,
    "start_time": "2022-07-22T21:10:33.237Z"
   },
   {
    "duration": 0,
    "start_time": "2022-07-22T21:10:33.238Z"
   },
   {
    "duration": 0,
    "start_time": "2022-07-22T21:10:33.239Z"
   },
   {
    "duration": 0,
    "start_time": "2022-07-22T21:10:33.240Z"
   },
   {
    "duration": 1,
    "start_time": "2022-07-22T21:10:33.240Z"
   },
   {
    "duration": 0,
    "start_time": "2022-07-22T21:10:33.241Z"
   },
   {
    "duration": 0,
    "start_time": "2022-07-22T21:10:33.242Z"
   },
   {
    "duration": 0,
    "start_time": "2022-07-22T21:10:33.244Z"
   },
   {
    "duration": 1,
    "start_time": "2022-07-22T21:10:33.245Z"
   },
   {
    "duration": 0,
    "start_time": "2022-07-22T21:10:33.247Z"
   },
   {
    "duration": 0,
    "start_time": "2022-07-22T21:10:33.249Z"
   },
   {
    "duration": 0,
    "start_time": "2022-07-22T21:10:33.250Z"
   },
   {
    "duration": 0,
    "start_time": "2022-07-22T21:10:33.251Z"
   },
   {
    "duration": 0,
    "start_time": "2022-07-22T21:10:33.253Z"
   },
   {
    "duration": 0,
    "start_time": "2022-07-22T21:10:33.254Z"
   },
   {
    "duration": 0,
    "start_time": "2022-07-22T21:10:33.254Z"
   },
   {
    "duration": 0,
    "start_time": "2022-07-22T21:10:33.255Z"
   },
   {
    "duration": 0,
    "start_time": "2022-07-22T21:10:33.256Z"
   },
   {
    "duration": 0,
    "start_time": "2022-07-22T21:10:33.257Z"
   },
   {
    "duration": 0,
    "start_time": "2022-07-22T21:10:33.258Z"
   },
   {
    "duration": 0,
    "start_time": "2022-07-22T21:10:33.259Z"
   },
   {
    "duration": 0,
    "start_time": "2022-07-22T21:10:33.260Z"
   },
   {
    "duration": 0,
    "start_time": "2022-07-22T21:10:33.262Z"
   },
   {
    "duration": 0,
    "start_time": "2022-07-22T21:10:33.263Z"
   },
   {
    "duration": 0,
    "start_time": "2022-07-22T21:10:33.264Z"
   },
   {
    "duration": 0,
    "start_time": "2022-07-22T21:10:33.265Z"
   },
   {
    "duration": 0,
    "start_time": "2022-07-22T21:10:33.267Z"
   },
   {
    "duration": 0,
    "start_time": "2022-07-22T21:10:33.327Z"
   },
   {
    "duration": 0,
    "start_time": "2022-07-22T21:10:33.328Z"
   },
   {
    "duration": 0,
    "start_time": "2022-07-22T21:10:33.329Z"
   },
   {
    "duration": 0,
    "start_time": "2022-07-22T21:10:33.330Z"
   },
   {
    "duration": 0,
    "start_time": "2022-07-22T21:10:33.336Z"
   },
   {
    "duration": 0,
    "start_time": "2022-07-22T21:10:33.337Z"
   },
   {
    "duration": 0,
    "start_time": "2022-07-22T21:10:33.339Z"
   },
   {
    "duration": 0,
    "start_time": "2022-07-22T21:10:33.342Z"
   },
   {
    "duration": 0,
    "start_time": "2022-07-22T21:10:33.343Z"
   },
   {
    "duration": 0,
    "start_time": "2022-07-22T21:10:33.345Z"
   },
   {
    "duration": 0,
    "start_time": "2022-07-22T21:10:33.347Z"
   },
   {
    "duration": 0,
    "start_time": "2022-07-22T21:10:33.348Z"
   },
   {
    "duration": 19,
    "start_time": "2022-07-22T21:11:28.903Z"
   },
   {
    "duration": 433,
    "start_time": "2022-07-22T21:11:34.274Z"
   },
   {
    "duration": 137,
    "start_time": "2022-07-22T21:11:34.709Z"
   },
   {
    "duration": 51,
    "start_time": "2022-07-22T21:11:34.849Z"
   },
   {
    "duration": 14,
    "start_time": "2022-07-22T21:11:34.902Z"
   },
   {
    "duration": 15,
    "start_time": "2022-07-22T21:11:34.918Z"
   },
   {
    "duration": 1207,
    "start_time": "2022-07-22T21:11:34.935Z"
   },
   {
    "duration": 2211,
    "start_time": "2022-07-22T21:11:36.144Z"
   },
   {
    "duration": 11,
    "start_time": "2022-07-22T21:11:38.357Z"
   },
   {
    "duration": 12,
    "start_time": "2022-07-22T21:11:38.369Z"
   },
   {
    "duration": 5,
    "start_time": "2022-07-22T21:11:38.384Z"
   },
   {
    "duration": 51,
    "start_time": "2022-07-22T21:11:38.390Z"
   },
   {
    "duration": 9,
    "start_time": "2022-07-22T21:11:38.449Z"
   },
   {
    "duration": 14,
    "start_time": "2022-07-22T21:11:38.460Z"
   },
   {
    "duration": 13,
    "start_time": "2022-07-22T21:11:38.475Z"
   },
   {
    "duration": 15,
    "start_time": "2022-07-22T21:11:38.490Z"
   },
   {
    "duration": 33,
    "start_time": "2022-07-22T21:11:38.507Z"
   },
   {
    "duration": 22,
    "start_time": "2022-07-22T21:11:38.542Z"
   },
   {
    "duration": 4,
    "start_time": "2022-07-22T21:11:38.565Z"
   },
   {
    "duration": 11,
    "start_time": "2022-07-22T21:11:38.570Z"
   },
   {
    "duration": 8,
    "start_time": "2022-07-22T21:11:38.583Z"
   },
   {
    "duration": 77,
    "start_time": "2022-07-22T21:11:38.593Z"
   },
   {
    "duration": 8,
    "start_time": "2022-07-22T21:11:38.671Z"
   },
   {
    "duration": 11,
    "start_time": "2022-07-22T21:11:38.681Z"
   },
   {
    "duration": 8,
    "start_time": "2022-07-22T21:11:38.694Z"
   },
   {
    "duration": 31,
    "start_time": "2022-07-22T21:11:38.704Z"
   },
   {
    "duration": 22,
    "start_time": "2022-07-22T21:11:38.737Z"
   },
   {
    "duration": 8,
    "start_time": "2022-07-22T21:11:38.761Z"
   },
   {
    "duration": 5,
    "start_time": "2022-07-22T21:11:38.774Z"
   },
   {
    "duration": 15,
    "start_time": "2022-07-22T21:11:38.781Z"
   },
   {
    "duration": 5,
    "start_time": "2022-07-22T21:11:38.798Z"
   },
   {
    "duration": 12,
    "start_time": "2022-07-22T21:11:38.822Z"
   },
   {
    "duration": 53,
    "start_time": "2022-07-22T21:11:38.835Z"
   },
   {
    "duration": 17,
    "start_time": "2022-07-22T21:11:38.890Z"
   },
   {
    "duration": 60,
    "start_time": "2022-07-22T21:11:38.909Z"
   },
   {
    "duration": 623,
    "start_time": "2022-07-22T21:11:38.971Z"
   },
   {
    "duration": 4,
    "start_time": "2022-07-22T21:11:39.596Z"
   },
   {
    "duration": 495,
    "start_time": "2022-07-22T21:11:39.602Z"
   },
   {
    "duration": 4,
    "start_time": "2022-07-22T21:11:40.098Z"
   },
   {
    "duration": 553,
    "start_time": "2022-07-22T21:11:40.104Z"
   },
   {
    "duration": 10,
    "start_time": "2022-07-22T21:11:40.659Z"
   },
   {
    "duration": 437,
    "start_time": "2022-07-22T21:11:40.671Z"
   },
   {
    "duration": 24,
    "start_time": "2022-07-22T21:11:41.110Z"
   },
   {
    "duration": 295,
    "start_time": "2022-07-22T21:11:41.141Z"
   },
   {
    "duration": 13,
    "start_time": "2022-07-22T21:11:41.438Z"
   },
   {
    "duration": 691,
    "start_time": "2022-07-22T21:11:41.453Z"
   },
   {
    "duration": 12,
    "start_time": "2022-07-22T21:11:42.149Z"
   },
   {
    "duration": 367,
    "start_time": "2022-07-22T21:11:42.163Z"
   },
   {
    "duration": 10,
    "start_time": "2022-07-22T21:11:42.532Z"
   },
   {
    "duration": 326,
    "start_time": "2022-07-22T21:11:42.544Z"
   },
   {
    "duration": 9,
    "start_time": "2022-07-22T21:11:42.872Z"
   },
   {
    "duration": 238,
    "start_time": "2022-07-22T21:11:42.883Z"
   },
   {
    "duration": 18,
    "start_time": "2022-07-22T21:11:43.123Z"
   },
   {
    "duration": 193,
    "start_time": "2022-07-22T21:11:43.150Z"
   },
   {
    "duration": 11,
    "start_time": "2022-07-22T21:11:43.352Z"
   },
   {
    "duration": 220,
    "start_time": "2022-07-22T21:11:43.365Z"
   },
   {
    "duration": 9,
    "start_time": "2022-07-22T21:11:43.587Z"
   },
   {
    "duration": 275,
    "start_time": "2022-07-22T21:11:43.598Z"
   },
   {
    "duration": 11,
    "start_time": "2022-07-22T21:11:43.874Z"
   },
   {
    "duration": 263,
    "start_time": "2022-07-22T21:11:43.886Z"
   },
   {
    "duration": 12,
    "start_time": "2022-07-22T21:11:44.153Z"
   },
   {
    "duration": 402,
    "start_time": "2022-07-22T21:11:44.166Z"
   },
   {
    "duration": 10,
    "start_time": "2022-07-22T21:11:44.570Z"
   },
   {
    "duration": 219,
    "start_time": "2022-07-22T21:11:44.582Z"
   },
   {
    "duration": 9,
    "start_time": "2022-07-22T21:11:44.803Z"
   },
   {
    "duration": 193,
    "start_time": "2022-07-22T21:11:44.814Z"
   },
   {
    "duration": 26,
    "start_time": "2022-07-22T21:11:45.009Z"
   },
   {
    "duration": 16,
    "start_time": "2022-07-22T21:11:45.037Z"
   },
   {
    "duration": 16,
    "start_time": "2022-07-22T21:11:45.056Z"
   },
   {
    "duration": 12,
    "start_time": "2022-07-22T21:11:45.074Z"
   },
   {
    "duration": 347,
    "start_time": "2022-07-22T21:11:45.087Z"
   },
   {
    "duration": 189,
    "start_time": "2022-07-22T21:11:45.437Z"
   },
   {
    "duration": 28,
    "start_time": "2022-07-22T21:11:45.628Z"
   },
   {
    "duration": 177,
    "start_time": "2022-07-22T21:11:45.658Z"
   },
   {
    "duration": 15,
    "start_time": "2022-07-22T21:11:45.837Z"
   },
   {
    "duration": 212,
    "start_time": "2022-07-22T21:11:45.853Z"
   },
   {
    "duration": 14,
    "start_time": "2022-07-22T21:11:46.067Z"
   },
   {
    "duration": 196,
    "start_time": "2022-07-22T21:11:46.083Z"
   },
   {
    "duration": 14,
    "start_time": "2022-07-22T21:11:46.281Z"
   },
   {
    "duration": 187,
    "start_time": "2022-07-22T21:11:46.298Z"
   },
   {
    "duration": 15,
    "start_time": "2022-07-22T21:11:46.487Z"
   },
   {
    "duration": 258,
    "start_time": "2022-07-22T21:11:46.504Z"
   },
   {
    "duration": 187,
    "start_time": "2022-07-22T21:11:46.768Z"
   },
   {
    "duration": 155,
    "start_time": "2022-07-22T21:11:46.958Z"
   },
   {
    "duration": 44,
    "start_time": "2022-07-22T21:11:47.114Z"
   },
   {
    "duration": 137,
    "start_time": "2022-07-22T21:11:47.159Z"
   },
   {
    "duration": 178,
    "start_time": "2022-07-22T21:11:47.298Z"
   },
   {
    "duration": 20,
    "start_time": "2022-07-22T21:11:47.478Z"
   },
   {
    "duration": 573,
    "start_time": "2022-07-23T12:45:24.103Z"
   },
   {
    "duration": 3,
    "start_time": "2022-07-23T12:45:25.372Z"
   },
   {
    "duration": 104,
    "start_time": "2022-07-23T12:45:29.244Z"
   },
   {
    "duration": 391,
    "start_time": "2022-07-23T12:45:38.062Z"
   },
   {
    "duration": 88,
    "start_time": "2022-07-23T12:45:41.477Z"
   },
   {
    "duration": 481,
    "start_time": "2022-07-23T12:46:40.153Z"
   },
   {
    "duration": 136,
    "start_time": "2022-07-23T12:46:40.637Z"
   },
   {
    "duration": 73,
    "start_time": "2022-07-23T12:46:40.775Z"
   },
   {
    "duration": 28,
    "start_time": "2022-07-23T12:46:40.850Z"
   },
   {
    "duration": 42,
    "start_time": "2022-07-23T12:46:40.883Z"
   },
   {
    "duration": 1402,
    "start_time": "2022-07-23T12:46:40.927Z"
   },
   {
    "duration": 2255,
    "start_time": "2022-07-23T12:46:42.332Z"
   },
   {
    "duration": 34,
    "start_time": "2022-07-23T12:46:44.590Z"
   },
   {
    "duration": 27,
    "start_time": "2022-07-23T12:46:44.626Z"
   },
   {
    "duration": 29,
    "start_time": "2022-07-23T12:46:44.658Z"
   },
   {
    "duration": 30,
    "start_time": "2022-07-23T12:46:44.690Z"
   },
   {
    "duration": 9,
    "start_time": "2022-07-23T12:46:44.731Z"
   },
   {
    "duration": 84,
    "start_time": "2022-07-23T12:46:44.746Z"
   },
   {
    "duration": 38,
    "start_time": "2022-07-23T12:46:44.843Z"
   },
   {
    "duration": 47,
    "start_time": "2022-07-23T12:46:44.884Z"
   },
   {
    "duration": 32,
    "start_time": "2022-07-23T12:46:44.939Z"
   },
   {
    "duration": 53,
    "start_time": "2022-07-23T12:46:44.973Z"
   },
   {
    "duration": 6,
    "start_time": "2022-07-23T12:46:45.029Z"
   },
   {
    "duration": 47,
    "start_time": "2022-07-23T12:46:45.037Z"
   },
   {
    "duration": 36,
    "start_time": "2022-07-23T12:46:45.087Z"
   },
   {
    "duration": 118,
    "start_time": "2022-07-23T12:46:45.126Z"
   },
   {
    "duration": 11,
    "start_time": "2022-07-23T12:46:45.246Z"
   },
   {
    "duration": 13,
    "start_time": "2022-07-23T12:46:45.259Z"
   },
   {
    "duration": 13,
    "start_time": "2022-07-23T12:46:45.275Z"
   },
   {
    "duration": 11,
    "start_time": "2022-07-23T12:46:45.333Z"
   },
   {
    "duration": 18,
    "start_time": "2022-07-23T12:46:45.346Z"
   },
   {
    "duration": 10,
    "start_time": "2022-07-23T12:46:45.366Z"
   },
   {
    "duration": 18,
    "start_time": "2022-07-23T12:46:45.378Z"
   },
   {
    "duration": 18,
    "start_time": "2022-07-23T12:46:45.399Z"
   },
   {
    "duration": 33,
    "start_time": "2022-07-23T12:46:45.423Z"
   },
   {
    "duration": 21,
    "start_time": "2022-07-23T12:46:45.459Z"
   },
   {
    "duration": 35,
    "start_time": "2022-07-23T12:46:45.483Z"
   },
   {
    "duration": 36,
    "start_time": "2022-07-23T12:46:45.521Z"
   },
   {
    "duration": 530,
    "start_time": "2022-07-23T12:46:45.560Z"
   },
   {
    "duration": 4,
    "start_time": "2022-07-23T12:46:46.092Z"
   },
   {
    "duration": 480,
    "start_time": "2022-07-23T12:46:46.099Z"
   },
   {
    "duration": 6,
    "start_time": "2022-07-23T12:46:46.583Z"
   },
   {
    "duration": 723,
    "start_time": "2022-07-23T12:46:46.591Z"
   },
   {
    "duration": 31,
    "start_time": "2022-07-23T12:46:47.316Z"
   },
   {
    "duration": 456,
    "start_time": "2022-07-23T12:46:47.349Z"
   },
   {
    "duration": 19,
    "start_time": "2022-07-23T12:46:47.812Z"
   },
   {
    "duration": 344,
    "start_time": "2022-07-23T12:46:47.832Z"
   },
   {
    "duration": 17,
    "start_time": "2022-07-23T12:46:48.179Z"
   },
   {
    "duration": 734,
    "start_time": "2022-07-23T12:46:48.198Z"
   },
   {
    "duration": 17,
    "start_time": "2022-07-23T12:46:48.937Z"
   },
   {
    "duration": 417,
    "start_time": "2022-07-23T12:46:48.957Z"
   },
   {
    "duration": 12,
    "start_time": "2022-07-23T12:46:49.376Z"
   },
   {
    "duration": 372,
    "start_time": "2022-07-23T12:46:49.390Z"
   },
   {
    "duration": 12,
    "start_time": "2022-07-23T12:46:49.764Z"
   },
   {
    "duration": 338,
    "start_time": "2022-07-23T12:46:49.778Z"
   },
   {
    "duration": 18,
    "start_time": "2022-07-23T12:46:50.118Z"
   },
   {
    "duration": 219,
    "start_time": "2022-07-23T12:46:50.143Z"
   },
   {
    "duration": 14,
    "start_time": "2022-07-23T12:46:50.364Z"
   },
   {
    "duration": 245,
    "start_time": "2022-07-23T12:46:50.381Z"
   },
   {
    "duration": 20,
    "start_time": "2022-07-23T12:46:50.633Z"
   },
   {
    "duration": 354,
    "start_time": "2022-07-23T12:46:50.655Z"
   },
   {
    "duration": 28,
    "start_time": "2022-07-23T12:46:51.011Z"
   },
   {
    "duration": 286,
    "start_time": "2022-07-23T12:46:51.041Z"
   },
   {
    "duration": 15,
    "start_time": "2022-07-23T12:46:51.339Z"
   },
   {
    "duration": 446,
    "start_time": "2022-07-23T12:46:51.356Z"
   },
   {
    "duration": 30,
    "start_time": "2022-07-23T12:46:51.806Z"
   },
   {
    "duration": 277,
    "start_time": "2022-07-23T12:46:51.840Z"
   },
   {
    "duration": 18,
    "start_time": "2022-07-23T12:46:52.127Z"
   },
   {
    "duration": 260,
    "start_time": "2022-07-23T12:46:52.148Z"
   },
   {
    "duration": 26,
    "start_time": "2022-07-23T12:46:52.410Z"
   },
   {
    "duration": 56,
    "start_time": "2022-07-23T12:46:52.438Z"
   },
   {
    "duration": 48,
    "start_time": "2022-07-23T12:46:52.498Z"
   },
   {
    "duration": 15,
    "start_time": "2022-07-23T12:46:52.549Z"
   },
   {
    "duration": 422,
    "start_time": "2022-07-23T12:46:52.566Z"
   },
   {
    "duration": 194,
    "start_time": "2022-07-23T12:46:52.991Z"
   },
   {
    "duration": 19,
    "start_time": "2022-07-23T12:46:53.187Z"
   },
   {
    "duration": 255,
    "start_time": "2022-07-23T12:46:53.208Z"
   },
   {
    "duration": 16,
    "start_time": "2022-07-23T12:46:53.465Z"
   },
   {
    "duration": 206,
    "start_time": "2022-07-23T12:46:53.483Z"
   },
   {
    "duration": 16,
    "start_time": "2022-07-23T12:46:53.692Z"
   },
   {
    "duration": 237,
    "start_time": "2022-07-23T12:46:53.724Z"
   },
   {
    "duration": 16,
    "start_time": "2022-07-23T12:46:53.963Z"
   },
   {
    "duration": 220,
    "start_time": "2022-07-23T12:46:53.981Z"
   },
   {
    "duration": 35,
    "start_time": "2022-07-23T12:46:54.204Z"
   },
   {
    "duration": 268,
    "start_time": "2022-07-23T12:46:54.250Z"
   },
   {
    "duration": 211,
    "start_time": "2022-07-23T12:46:54.520Z"
   },
   {
    "duration": 250,
    "start_time": "2022-07-23T12:46:54.733Z"
   },
   {
    "duration": 59,
    "start_time": "2022-07-23T12:46:54.986Z"
   },
   {
    "duration": 235,
    "start_time": "2022-07-23T12:46:55.049Z"
   },
   {
    "duration": 235,
    "start_time": "2022-07-23T12:46:55.288Z"
   },
   {
    "duration": 47,
    "start_time": "2022-07-23T12:46:55.525Z"
   },
   {
    "duration": 93,
    "start_time": "2022-07-23T12:51:22.762Z"
   },
   {
    "duration": 48,
    "start_time": "2022-07-23T12:55:22.172Z"
   },
   {
    "duration": 6,
    "start_time": "2022-07-23T12:57:22.396Z"
   },
   {
    "duration": 4,
    "start_time": "2022-07-23T14:05:40.215Z"
   },
   {
    "duration": 275,
    "start_time": "2022-07-23T14:05:41.073Z"
   },
   {
    "duration": 4,
    "start_time": "2022-07-23T14:06:03.448Z"
   },
   {
    "duration": 163,
    "start_time": "2022-07-23T14:06:05.005Z"
   },
   {
    "duration": 141,
    "start_time": "2022-07-23T14:07:32.496Z"
   },
   {
    "duration": 146,
    "start_time": "2022-07-23T14:07:47.322Z"
   },
   {
    "duration": 392,
    "start_time": "2022-07-23T14:09:43.888Z"
   },
   {
    "duration": 169,
    "start_time": "2022-07-23T14:10:03.402Z"
   },
   {
    "duration": 168,
    "start_time": "2022-07-23T14:10:12.857Z"
   },
   {
    "duration": 161,
    "start_time": "2022-07-23T14:11:16.450Z"
   },
   {
    "duration": 139,
    "start_time": "2022-07-23T14:11:25.849Z"
   },
   {
    "duration": 150,
    "start_time": "2022-07-23T14:11:38.416Z"
   },
   {
    "duration": 160,
    "start_time": "2022-07-23T14:11:47.740Z"
   },
   {
    "duration": 385,
    "start_time": "2022-07-23T20:04:18.057Z"
   },
   {
    "duration": 45,
    "start_time": "2022-07-23T20:04:19.357Z"
   },
   {
    "duration": 48,
    "start_time": "2022-07-23T20:04:29.895Z"
   },
   {
    "duration": 319,
    "start_time": "2022-07-23T20:04:58.172Z"
   },
   {
    "duration": 97,
    "start_time": "2022-07-23T20:05:08.402Z"
   },
   {
    "duration": 93,
    "start_time": "2022-07-23T20:21:36.869Z"
   },
   {
    "duration": 43,
    "start_time": "2022-07-23T20:21:57.513Z"
   },
   {
    "duration": 15,
    "start_time": "2022-07-23T20:22:02.443Z"
   },
   {
    "duration": 10,
    "start_time": "2022-07-23T20:22:22.622Z"
   },
   {
    "duration": 379,
    "start_time": "2022-07-23T20:23:30.324Z"
   },
   {
    "duration": 93,
    "start_time": "2022-07-23T20:23:30.849Z"
   },
   {
    "duration": 47,
    "start_time": "2022-07-23T20:23:33.358Z"
   },
   {
    "duration": 16,
    "start_time": "2022-07-23T20:23:35.758Z"
   },
   {
    "duration": 11,
    "start_time": "2022-07-23T20:23:38.420Z"
   },
   {
    "duration": 1110,
    "start_time": "2022-07-23T20:23:42.344Z"
   },
   {
    "duration": 11,
    "start_time": "2022-07-23T20:23:48.330Z"
   },
   {
    "duration": 12,
    "start_time": "2022-07-23T20:23:52.996Z"
   },
   {
    "duration": 6,
    "start_time": "2022-07-23T20:23:55.625Z"
   },
   {
    "duration": 7,
    "start_time": "2022-07-23T20:23:57.820Z"
   },
   {
    "duration": 3,
    "start_time": "2022-07-23T20:23:59.690Z"
   },
   {
    "duration": 9,
    "start_time": "2022-07-23T20:24:00.936Z"
   },
   {
    "duration": 12,
    "start_time": "2022-07-23T20:24:02.974Z"
   },
   {
    "duration": 16,
    "start_time": "2022-07-23T20:24:10.552Z"
   },
   {
    "duration": 3,
    "start_time": "2022-07-23T20:26:01.509Z"
   },
   {
    "duration": 5,
    "start_time": "2022-07-23T20:28:41.735Z"
   },
   {
    "duration": 20,
    "start_time": "2022-07-23T20:31:41.153Z"
   },
   {
    "duration": 20,
    "start_time": "2022-07-23T20:32:16.121Z"
   },
   {
    "duration": 17,
    "start_time": "2022-07-23T20:33:22.034Z"
   },
   {
    "duration": 75,
    "start_time": "2022-07-23T20:34:12.926Z"
   },
   {
    "duration": 14,
    "start_time": "2022-07-23T20:34:37.816Z"
   },
   {
    "duration": 4,
    "start_time": "2022-07-23T20:40:31.384Z"
   },
   {
    "duration": 6,
    "start_time": "2022-07-23T20:40:35.754Z"
   },
   {
    "duration": 496,
    "start_time": "2022-07-23T20:47:16.713Z"
   },
   {
    "duration": 427,
    "start_time": "2022-07-23T20:47:27.370Z"
   },
   {
    "duration": 419,
    "start_time": "2022-07-23T20:47:56.860Z"
   },
   {
    "duration": 447,
    "start_time": "2022-07-23T20:48:04.404Z"
   },
   {
    "duration": 356,
    "start_time": "2022-07-23T20:48:14.919Z"
   },
   {
    "duration": 372,
    "start_time": "2022-07-23T20:48:20.795Z"
   },
   {
    "duration": 358,
    "start_time": "2022-07-23T20:49:36.781Z"
   },
   {
    "duration": 271,
    "start_time": "2022-07-23T20:58:55.203Z"
   },
   {
    "duration": 363,
    "start_time": "2022-07-23T20:59:03.233Z"
   },
   {
    "duration": 268,
    "start_time": "2022-07-23T21:00:15.541Z"
   },
   {
    "duration": 8,
    "start_time": "2022-07-23T21:12:57.648Z"
   },
   {
    "duration": 373,
    "start_time": "2022-07-23T21:13:18.755Z"
   },
   {
    "duration": 96,
    "start_time": "2022-07-23T21:13:19.130Z"
   },
   {
    "duration": 43,
    "start_time": "2022-07-23T21:13:19.228Z"
   },
   {
    "duration": 14,
    "start_time": "2022-07-23T21:13:19.273Z"
   },
   {
    "duration": 23,
    "start_time": "2022-07-23T21:13:19.290Z"
   },
   {
    "duration": 919,
    "start_time": "2022-07-23T21:13:19.315Z"
   },
   {
    "duration": 1824,
    "start_time": "2022-07-23T21:13:20.236Z"
   },
   {
    "duration": 10,
    "start_time": "2022-07-23T21:13:22.062Z"
   },
   {
    "duration": 11,
    "start_time": "2022-07-23T21:13:22.073Z"
   },
   {
    "duration": 5,
    "start_time": "2022-07-23T21:13:22.085Z"
   },
   {
    "duration": 8,
    "start_time": "2022-07-23T21:13:22.092Z"
   },
   {
    "duration": 8,
    "start_time": "2022-07-23T21:13:22.101Z"
   },
   {
    "duration": 12,
    "start_time": "2022-07-23T21:13:22.111Z"
   },
   {
    "duration": 11,
    "start_time": "2022-07-23T21:13:22.126Z"
   },
   {
    "duration": 15,
    "start_time": "2022-07-23T21:13:22.139Z"
   },
   {
    "duration": 13,
    "start_time": "2022-07-23T21:13:22.156Z"
   },
   {
    "duration": 49,
    "start_time": "2022-07-23T21:13:22.171Z"
   },
   {
    "duration": 13,
    "start_time": "2022-07-23T21:13:22.222Z"
   },
   {
    "duration": 2,
    "start_time": "2022-07-23T21:13:22.237Z"
   },
   {
    "duration": 9,
    "start_time": "2022-07-23T21:13:22.240Z"
   },
   {
    "duration": 9,
    "start_time": "2022-07-23T21:13:22.250Z"
   },
   {
    "duration": 65,
    "start_time": "2022-07-23T21:13:22.261Z"
   },
   {
    "duration": 7,
    "start_time": "2022-07-23T21:13:22.327Z"
   },
   {
    "duration": 3,
    "start_time": "2022-07-23T21:13:22.335Z"
   },
   {
    "duration": 122,
    "start_time": "2022-07-23T21:13:22.339Z"
   },
   {
    "duration": 11,
    "start_time": "2022-07-23T21:13:22.463Z"
   },
   {
    "duration": 8,
    "start_time": "2022-07-23T21:13:22.476Z"
   },
   {
    "duration": 25,
    "start_time": "2022-07-23T21:13:22.485Z"
   },
   {
    "duration": 9,
    "start_time": "2022-07-23T21:13:22.512Z"
   },
   {
    "duration": 4,
    "start_time": "2022-07-23T21:13:22.523Z"
   },
   {
    "duration": 7,
    "start_time": "2022-07-23T21:13:22.528Z"
   },
   {
    "duration": 21,
    "start_time": "2022-07-23T21:13:22.536Z"
   },
   {
    "duration": 4,
    "start_time": "2022-07-23T21:13:22.559Z"
   },
   {
    "duration": 8,
    "start_time": "2022-07-23T21:13:22.564Z"
   },
   {
    "duration": 36,
    "start_time": "2022-07-23T21:13:22.574Z"
   },
   {
    "duration": 6,
    "start_time": "2022-07-23T21:13:22.611Z"
   },
   {
    "duration": 4,
    "start_time": "2022-07-23T21:13:22.618Z"
   },
   {
    "duration": 395,
    "start_time": "2022-07-23T21:13:22.623Z"
   },
   {
    "duration": 3,
    "start_time": "2022-07-23T21:13:23.021Z"
   },
   {
    "duration": 391,
    "start_time": "2022-07-23T21:13:23.026Z"
   },
   {
    "duration": 4,
    "start_time": "2022-07-23T21:13:23.421Z"
   },
   {
    "duration": 412,
    "start_time": "2022-07-23T21:13:23.426Z"
   },
   {
    "duration": 9,
    "start_time": "2022-07-23T21:13:23.840Z"
   },
   {
    "duration": 380,
    "start_time": "2022-07-23T21:13:23.850Z"
   },
   {
    "duration": 9,
    "start_time": "2022-07-23T21:13:24.232Z"
   },
   {
    "duration": 238,
    "start_time": "2022-07-23T21:13:24.242Z"
   },
   {
    "duration": 10,
    "start_time": "2022-07-23T21:13:24.482Z"
   },
   {
    "duration": 538,
    "start_time": "2022-07-23T21:13:24.493Z"
   },
   {
    "duration": 9,
    "start_time": "2022-07-23T21:13:25.033Z"
   },
   {
    "duration": 305,
    "start_time": "2022-07-23T21:13:25.043Z"
   },
   {
    "duration": 9,
    "start_time": "2022-07-23T21:13:25.350Z"
   },
   {
    "duration": 259,
    "start_time": "2022-07-23T21:13:25.360Z"
   },
   {
    "duration": 9,
    "start_time": "2022-07-23T21:13:25.621Z"
   },
   {
    "duration": 193,
    "start_time": "2022-07-23T21:13:25.631Z"
   },
   {
    "duration": 8,
    "start_time": "2022-07-23T21:13:25.826Z"
   },
   {
    "duration": 182,
    "start_time": "2022-07-23T21:13:25.836Z"
   },
   {
    "duration": 10,
    "start_time": "2022-07-23T21:13:26.019Z"
   },
   {
    "duration": 205,
    "start_time": "2022-07-23T21:13:26.030Z"
   },
   {
    "duration": 8,
    "start_time": "2022-07-23T21:13:26.237Z"
   },
   {
    "duration": 219,
    "start_time": "2022-07-23T21:13:26.246Z"
   },
   {
    "duration": 8,
    "start_time": "2022-07-23T21:13:26.467Z"
   },
   {
    "duration": 219,
    "start_time": "2022-07-23T21:13:26.476Z"
   },
   {
    "duration": 16,
    "start_time": "2022-07-23T21:13:26.697Z"
   },
   {
    "duration": 220,
    "start_time": "2022-07-23T21:13:26.715Z"
   },
   {
    "duration": 9,
    "start_time": "2022-07-23T21:13:26.937Z"
   },
   {
    "duration": 307,
    "start_time": "2022-07-23T21:13:26.948Z"
   },
   {
    "duration": 8,
    "start_time": "2022-07-23T21:13:27.257Z"
   },
   {
    "duration": 165,
    "start_time": "2022-07-23T21:13:27.267Z"
   },
   {
    "duration": 8,
    "start_time": "2022-07-23T21:13:27.434Z"
   },
   {
    "duration": 10,
    "start_time": "2022-07-23T21:13:27.444Z"
   },
   {
    "duration": 17,
    "start_time": "2022-07-23T21:13:27.456Z"
   },
   {
    "duration": 31,
    "start_time": "2022-07-23T21:13:27.474Z"
   },
   {
    "duration": 252,
    "start_time": "2022-07-23T21:13:27.506Z"
   },
   {
    "duration": 145,
    "start_time": "2022-07-23T21:13:27.760Z"
   },
   {
    "duration": 15,
    "start_time": "2022-07-23T21:13:27.906Z"
   },
   {
    "duration": 180,
    "start_time": "2022-07-23T21:13:27.923Z"
   },
   {
    "duration": 15,
    "start_time": "2022-07-23T21:13:28.105Z"
   },
   {
    "duration": 146,
    "start_time": "2022-07-23T21:13:28.121Z"
   },
   {
    "duration": 13,
    "start_time": "2022-07-23T21:13:28.270Z"
   },
   {
    "duration": 163,
    "start_time": "2022-07-23T21:13:28.285Z"
   },
   {
    "duration": 13,
    "start_time": "2022-07-23T21:13:28.450Z"
   },
   {
    "duration": 161,
    "start_time": "2022-07-23T21:13:28.465Z"
   },
   {
    "duration": 13,
    "start_time": "2022-07-23T21:13:28.628Z"
   },
   {
    "duration": 173,
    "start_time": "2022-07-23T21:13:28.643Z"
   },
   {
    "duration": 147,
    "start_time": "2022-07-23T21:13:28.818Z"
   },
   {
    "duration": 158,
    "start_time": "2022-07-23T21:13:28.966Z"
   },
   {
    "duration": 24,
    "start_time": "2022-07-23T21:13:29.126Z"
   },
   {
    "duration": 145,
    "start_time": "2022-07-23T21:13:29.152Z"
   },
   {
    "duration": 159,
    "start_time": "2022-07-23T21:13:29.298Z"
   },
   {
    "duration": 21,
    "start_time": "2022-07-23T21:13:29.458Z"
   },
   {
    "duration": 121,
    "start_time": "2022-07-23T21:14:07.775Z"
   },
   {
    "duration": 131,
    "start_time": "2022-07-23T21:14:13.363Z"
   },
   {
    "duration": 185,
    "start_time": "2022-07-23T21:14:19.261Z"
   },
   {
    "duration": 355,
    "start_time": "2022-07-23T21:14:26.223Z"
   },
   {
    "duration": 327,
    "start_time": "2022-07-23T21:14:34.088Z"
   },
   {
    "duration": 198,
    "start_time": "2022-07-23T21:14:40.413Z"
   },
   {
    "duration": 687,
    "start_time": "2022-07-23T21:14:46.737Z"
   },
   {
    "duration": 309,
    "start_time": "2022-07-23T21:14:50.786Z"
   },
   {
    "duration": 128,
    "start_time": "2022-07-23T21:14:56.652Z"
   },
   {
    "duration": 131,
    "start_time": "2022-07-23T21:15:00.684Z"
   },
   {
    "duration": 188,
    "start_time": "2022-07-23T21:15:05.421Z"
   },
   {
    "duration": 165,
    "start_time": "2022-07-23T21:15:11.216Z"
   },
   {
    "duration": 165,
    "start_time": "2022-07-23T21:15:47.852Z"
   },
   {
    "duration": 159,
    "start_time": "2022-07-23T21:15:53.091Z"
   },
   {
    "duration": 139,
    "start_time": "2022-07-23T21:22:56.997Z"
   },
   {
    "duration": 131,
    "start_time": "2022-07-23T21:24:19.578Z"
   },
   {
    "duration": 134,
    "start_time": "2022-07-23T21:24:40.121Z"
   },
   {
    "duration": 423,
    "start_time": "2022-07-23T23:50:40.416Z"
   },
   {
    "duration": 106,
    "start_time": "2022-07-23T23:50:40.841Z"
   },
   {
    "duration": 69,
    "start_time": "2022-07-23T23:50:40.948Z"
   },
   {
    "duration": 18,
    "start_time": "2022-07-23T23:50:41.020Z"
   },
   {
    "duration": 11,
    "start_time": "2022-07-23T23:50:41.040Z"
   },
   {
    "duration": 1022,
    "start_time": "2022-07-23T23:50:41.053Z"
   },
   {
    "duration": 1888,
    "start_time": "2022-07-23T23:50:42.076Z"
   },
   {
    "duration": 12,
    "start_time": "2022-07-23T23:50:43.966Z"
   },
   {
    "duration": 33,
    "start_time": "2022-07-23T23:50:43.979Z"
   },
   {
    "duration": 6,
    "start_time": "2022-07-23T23:50:44.015Z"
   },
   {
    "duration": 11,
    "start_time": "2022-07-23T23:50:44.022Z"
   },
   {
    "duration": 4,
    "start_time": "2022-07-23T23:50:44.035Z"
   },
   {
    "duration": 15,
    "start_time": "2022-07-23T23:50:44.040Z"
   },
   {
    "duration": 13,
    "start_time": "2022-07-23T23:50:44.056Z"
   },
   {
    "duration": 44,
    "start_time": "2022-07-23T23:50:44.071Z"
   },
   {
    "duration": 16,
    "start_time": "2022-07-23T23:50:44.117Z"
   },
   {
    "duration": 17,
    "start_time": "2022-07-23T23:50:44.135Z"
   },
   {
    "duration": 17,
    "start_time": "2022-07-23T23:50:44.153Z"
   },
   {
    "duration": 3,
    "start_time": "2022-07-23T23:50:44.204Z"
   },
   {
    "duration": 49,
    "start_time": "2022-07-23T23:50:44.209Z"
   },
   {
    "duration": 74,
    "start_time": "2022-07-23T23:50:44.259Z"
   },
   {
    "duration": 91,
    "start_time": "2022-07-23T23:50:44.335Z"
   },
   {
    "duration": 28,
    "start_time": "2022-07-23T23:50:44.427Z"
   },
   {
    "duration": 25,
    "start_time": "2022-07-23T23:50:44.457Z"
   },
   {
    "duration": 142,
    "start_time": "2022-07-23T23:50:44.483Z"
   },
   {
    "duration": 13,
    "start_time": "2022-07-23T23:50:44.627Z"
   },
   {
    "duration": 23,
    "start_time": "2022-07-23T23:50:44.642Z"
   },
   {
    "duration": 11,
    "start_time": "2022-07-23T23:50:44.669Z"
   },
   {
    "duration": 14,
    "start_time": "2022-07-23T23:50:44.682Z"
   },
   {
    "duration": 20,
    "start_time": "2022-07-23T23:50:44.698Z"
   },
   {
    "duration": 11,
    "start_time": "2022-07-23T23:50:44.720Z"
   },
   {
    "duration": 28,
    "start_time": "2022-07-23T23:50:44.732Z"
   },
   {
    "duration": 5,
    "start_time": "2022-07-23T23:50:44.762Z"
   },
   {
    "duration": 15,
    "start_time": "2022-07-23T23:50:44.769Z"
   },
   {
    "duration": 7,
    "start_time": "2022-07-23T23:50:44.786Z"
   },
   {
    "duration": 15,
    "start_time": "2022-07-23T23:50:44.795Z"
   },
   {
    "duration": 5,
    "start_time": "2022-07-23T23:50:44.811Z"
   },
   {
    "duration": 463,
    "start_time": "2022-07-23T23:50:44.817Z"
   },
   {
    "duration": 4,
    "start_time": "2022-07-23T23:50:45.283Z"
   },
   {
    "duration": 466,
    "start_time": "2022-07-23T23:50:45.290Z"
   },
   {
    "duration": 5,
    "start_time": "2022-07-23T23:50:45.758Z"
   },
   {
    "duration": 441,
    "start_time": "2022-07-23T23:50:45.764Z"
   },
   {
    "duration": 10,
    "start_time": "2022-07-23T23:50:46.206Z"
   },
   {
    "duration": 457,
    "start_time": "2022-07-23T23:50:46.218Z"
   },
   {
    "duration": 10,
    "start_time": "2022-07-23T23:50:46.677Z"
   },
   {
    "duration": 256,
    "start_time": "2022-07-23T23:50:46.689Z"
   },
   {
    "duration": 9,
    "start_time": "2022-07-23T23:50:46.947Z"
   },
   {
    "duration": 573,
    "start_time": "2022-07-23T23:50:46.957Z"
   },
   {
    "duration": 10,
    "start_time": "2022-07-23T23:50:47.531Z"
   },
   {
    "duration": 338,
    "start_time": "2022-07-23T23:50:47.542Z"
   },
   {
    "duration": 9,
    "start_time": "2022-07-23T23:50:47.882Z"
   },
   {
    "duration": 286,
    "start_time": "2022-07-23T23:50:47.892Z"
   },
   {
    "duration": 9,
    "start_time": "2022-07-23T23:50:48.180Z"
   },
   {
    "duration": 215,
    "start_time": "2022-07-23T23:50:48.203Z"
   },
   {
    "duration": 11,
    "start_time": "2022-07-23T23:50:48.419Z"
   },
   {
    "duration": 191,
    "start_time": "2022-07-23T23:50:48.432Z"
   },
   {
    "duration": 10,
    "start_time": "2022-07-23T23:50:48.625Z"
   },
   {
    "duration": 217,
    "start_time": "2022-07-23T23:50:48.636Z"
   },
   {
    "duration": 11,
    "start_time": "2022-07-23T23:50:48.854Z"
   },
   {
    "duration": 239,
    "start_time": "2022-07-23T23:50:48.867Z"
   },
   {
    "duration": 9,
    "start_time": "2022-07-23T23:50:49.108Z"
   },
   {
    "duration": 237,
    "start_time": "2022-07-23T23:50:49.119Z"
   },
   {
    "duration": 9,
    "start_time": "2022-07-23T23:50:49.357Z"
   },
   {
    "duration": 253,
    "start_time": "2022-07-23T23:50:49.367Z"
   },
   {
    "duration": 11,
    "start_time": "2022-07-23T23:50:49.623Z"
   },
   {
    "duration": 329,
    "start_time": "2022-07-23T23:50:49.636Z"
   },
   {
    "duration": 10,
    "start_time": "2022-07-23T23:50:49.967Z"
   },
   {
    "duration": 198,
    "start_time": "2022-07-23T23:50:49.978Z"
   },
   {
    "duration": 13,
    "start_time": "2022-07-23T23:50:50.178Z"
   },
   {
    "duration": 17,
    "start_time": "2022-07-23T23:50:50.193Z"
   },
   {
    "duration": 6,
    "start_time": "2022-07-23T23:50:50.212Z"
   },
   {
    "duration": 21,
    "start_time": "2022-07-23T23:50:50.220Z"
   },
   {
    "duration": 292,
    "start_time": "2022-07-23T23:50:50.243Z"
   },
   {
    "duration": 162,
    "start_time": "2022-07-23T23:50:50.537Z"
   },
   {
    "duration": 14,
    "start_time": "2022-07-23T23:50:50.704Z"
   },
   {
    "duration": 182,
    "start_time": "2022-07-23T23:50:50.720Z"
   },
   {
    "duration": 14,
    "start_time": "2022-07-23T23:50:50.904Z"
   },
   {
    "duration": 168,
    "start_time": "2022-07-23T23:50:50.920Z"
   },
   {
    "duration": 21,
    "start_time": "2022-07-23T23:50:51.089Z"
   },
   {
    "duration": 154,
    "start_time": "2022-07-23T23:50:51.112Z"
   },
   {
    "duration": 14,
    "start_time": "2022-07-23T23:50:51.267Z"
   },
   {
    "duration": 166,
    "start_time": "2022-07-23T23:50:51.307Z"
   },
   {
    "duration": 14,
    "start_time": "2022-07-23T23:50:51.474Z"
   },
   {
    "duration": 174,
    "start_time": "2022-07-23T23:50:51.504Z"
   },
   {
    "duration": 150,
    "start_time": "2022-07-23T23:50:51.680Z"
   },
   {
    "duration": 157,
    "start_time": "2022-07-23T23:50:51.832Z"
   },
   {
    "duration": 154,
    "start_time": "2022-07-23T23:50:51.990Z"
   },
   {
    "duration": 158,
    "start_time": "2022-07-23T23:50:52.146Z"
   },
   {
    "duration": 27,
    "start_time": "2022-07-23T23:50:52.305Z"
   },
   {
    "duration": 188,
    "start_time": "2022-07-23T23:50:52.334Z"
   },
   {
    "duration": 172,
    "start_time": "2022-07-23T23:50:52.523Z"
   },
   {
    "duration": 25,
    "start_time": "2022-07-23T23:50:52.696Z"
   },
   {
    "duration": 2603,
    "start_time": "2022-07-23T23:52:02.546Z"
   },
   {
    "duration": 7,
    "start_time": "2022-07-23T23:52:51.178Z"
   },
   {
    "duration": 7,
    "start_time": "2022-07-23T23:52:53.518Z"
   },
   {
    "duration": 7,
    "start_time": "2022-07-23T23:53:02.477Z"
   },
   {
    "duration": 15,
    "start_time": "2022-07-24T00:02:05.329Z"
   },
   {
    "duration": 15,
    "start_time": "2022-07-24T00:02:39.878Z"
   },
   {
    "duration": 49,
    "start_time": "2022-07-24T20:34:45.927Z"
   },
   {
    "duration": 414,
    "start_time": "2022-07-24T20:34:58.773Z"
   },
   {
    "duration": 143,
    "start_time": "2022-07-24T20:34:59.482Z"
   },
   {
    "duration": 28,
    "start_time": "2022-07-24T20:35:35.093Z"
   }
  ],
  "kernelspec": {
   "display_name": "Python 3 (ipykernel)",
   "language": "python",
   "name": "python3"
  },
  "language_info": {
   "codemirror_mode": {
    "name": "ipython",
    "version": 3
   },
   "file_extension": ".py",
   "mimetype": "text/x-python",
   "name": "python",
   "nbconvert_exporter": "python",
   "pygments_lexer": "ipython3",
   "version": "3.9.7"
  },
  "toc": {
   "base_numbering": 1,
   "nav_menu": {},
   "number_sections": true,
   "sideBar": true,
   "skip_h1_title": false,
   "title_cell": "Table of Contents",
   "title_sidebar": "Contents",
   "toc_cell": false,
   "toc_position": {
    "height": "664px",
    "left": "0px",
    "top": "111.125px",
    "width": "300px"
   },
   "toc_section_display": true,
   "toc_window_display": true
  }
 },
 "nbformat": 4,
 "nbformat_minor": 5
}
